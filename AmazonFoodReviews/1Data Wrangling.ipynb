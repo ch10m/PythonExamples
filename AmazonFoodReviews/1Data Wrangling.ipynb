{
 "cells": [
  {
   "cell_type": "markdown",
   "metadata": {},
   "source": [
    "## Amazon Food reviews set - Classifying food reviews\n",
    "\n",
    "This dataset consists of reviews of fine foods from amazon. The data span a period of more than 10 years, including all ~500,000 reviews up to October 2012. Reviews include product and user information, ratings, and a plain text review. \n",
    "\n",
    "Variables included are:\n",
    "Row Id\n",
    "ProductId - Unique identifier for the product\n",
    "UserId - Unqiue identifier for the user\n",
    "ProfileName - Profile name of the user\n",
    "HelpfulnessNumerator - Number of users who found the review helpful\n",
    "HelpfulnessDenominator - Number of users who indicated whether they found the review helpful or not\n",
    "Score - Rating between 1 and 5\n",
    "Time - Timestamp for the review\n",
    "Summary - Brief summary of the review\n",
    "Text - Text of the review\n",
    "\n",
    "The following notebooks will look at the data, create new features, do data exploration and adjust a logistic regression. The goal is to try to predict if a review is categorised as useful/helpful (1) or not useful/helpful (0) based on the helpfulness votes from the readers. "
   ]
  },
  {
   "cell_type": "markdown",
   "metadata": {},
   "source": [
    "#### Justification\n",
    "Why would it be of interest to predict if a review is helpful or not?\n",
    "Some of the reason include:\n",
    "- New comments posted. This will help overcome cold start problem (reviews with no information) and re-rank of the products. \n",
    "- Find out if a reviewer is good, if they are reliable. If so then could give them some kind of stamp/reward. Thinking like what other companies do. Example airbnb\n",
    "- Understand the factors from review (text/comments elements) that influences/convinces or put off people in purchasing the products (attractive of the products/ not attractive)\n",
    "- Bot or false reviews identification \n",
    "\n",
    "#### Modelling process\n",
    "The steps followed are split in 2 notebooks. \n",
    "\n",
    "Notebook 1 - Data Exploration and Manipulation:\n",
    "1. Loading the data - first glimpe\n",
    "1. Definig the data set - which observations will be included in the study and which ones will be left out\n",
    "1. Defining the target - if a review is useful then 1 if not then 0\n",
    "1. Feature engineering - creating new variables and adding them to the data set\n",
    "1. Data exploration \n",
    "\n",
    "Notebook 2 - Classification Methodology:\n",
    "1. Data preparation - subsetting the data set, changing data types and creating dummy variables for all the categorical features\n",
    "1. Preparing train and test sets\n",
    "1. Classification modelling using Logistic regression\n",
    "1. Quick look at a Random Forest\n",
    "1. Conclusions\n",
    "\n",
    "Notebook 3 - Scikit learn workflow - using a pipeline\n",
    "\n",
    "Hope you have fun reading this, I certainly had fun doing it. :)"
   ]
  },
  {
   "cell_type": "markdown",
   "metadata": {},
   "source": [
    "Let us start by calling all the relevant libraries needed. This is always the first step when doing things in Python. "
   ]
  },
  {
   "cell_type": "code",
   "execution_count": 1,
   "metadata": {},
   "outputs": [],
   "source": [
    "## Import all relevent libraries to analyse the data\n",
    "import pandas as pd\n",
    "import numpy as np\n",
    "import datetime\n",
    "import math\n",
    "import matplotlib.pyplot as plt\n",
    "import seaborn as sns\n",
    "from scipy import stats\n",
    "\n",
    "## This line makes sure that our graphs are rendered within the notebook\n",
    "%matplotlib inline\n",
    "\n",
    "sns.set(color_codes=True)\n",
    "\n",
    "## Set options to display all columns\n",
    "# pd.set_option(\"display.max_columns\",None)"
   ]
  },
  {
   "cell_type": "markdown",
   "metadata": {},
   "source": [
    "### 1. First glimpse of the data\n",
    "Loading the data and having a first look. \n",
    "Data includes:\n",
    "- Reviews from Oct 1999 - Oct 2012\n",
    "- 568,454 reviews\n",
    "- 256,059 users\n",
    "- 74,258 products\n",
    "- 260 users with > 50 reviews"
   ]
  },
  {
   "cell_type": "code",
   "execution_count": 2,
   "metadata": {},
   "outputs": [
    {
     "name": "stdout",
     "output_type": "stream",
     "text": [
      "(568454, 10)\n",
      "   Id   ProductId          UserId                      ProfileName  \\\n",
      "0   1  B001E4KFG0  A3SGXH7AUHU8GW                       delmartian   \n",
      "1   2  B00813GRG4  A1D87F6ZCVE5NK                           dll pa   \n",
      "2   3  B000LQOCH0   ABXLMWJIXXAIN  Natalia Corres \"Natalia Corres\"   \n",
      "3   4  B000UA0QIQ  A395BORC6FGVXV                             Karl   \n",
      "4   5  B006K2ZZ7K  A1UQRSCLF8GW1T    Michael D. Bigham \"M. Wassir\"   \n",
      "\n",
      "   HelpfulnessNumerator  HelpfulnessDenominator  Score        Time  \\\n",
      "0                     1                       1      5  1303862400   \n",
      "1                     0                       0      1  1346976000   \n",
      "2                     1                       1      4  1219017600   \n",
      "3                     3                       3      2  1307923200   \n",
      "4                     0                       0      5  1350777600   \n",
      "\n",
      "                 Summary                                               Text  \n",
      "0  Good Quality Dog Food  I have bought several of the Vitality canned d...  \n",
      "1      Not as Advertised  Product arrived labeled as Jumbo Salted Peanut...  \n",
      "2  \"Delight\" says it all  This is a confection that has been around a fe...  \n",
      "3         Cough Medicine  If you are looking for the secret ingredient i...  \n",
      "4            Great taffy  Great taffy at a great price.  There was a wid...  \n"
     ]
    }
   ],
   "source": [
    "raw_data = pd.read_csv('Reviews.csv')\n",
    "print(raw_data.shape)\n",
    "print(raw_data.head())"
   ]
  },
  {
   "cell_type": "code",
   "execution_count": 3,
   "metadata": {},
   "outputs": [
    {
     "name": "stdout",
     "output_type": "stream",
     "text": [
      "Id                         int64\n",
      "ProductId                 object\n",
      "UserId                    object\n",
      "ProfileName               object\n",
      "HelpfulnessNumerator       int64\n",
      "HelpfulnessDenominator     int64\n",
      "Score                      int64\n",
      "Time                       int64\n",
      "Summary                   object\n",
      "Text                      object\n",
      "dtype: object\n"
     ]
    }
   ],
   "source": [
    "print(raw_data.dtypes)"
   ]
  },
  {
   "cell_type": "code",
   "execution_count": 4,
   "metadata": {},
   "outputs": [
    {
     "data": {
      "text/html": [
       "<div>\n",
       "<style scoped>\n",
       "    .dataframe tbody tr th:only-of-type {\n",
       "        vertical-align: middle;\n",
       "    }\n",
       "\n",
       "    .dataframe tbody tr th {\n",
       "        vertical-align: top;\n",
       "    }\n",
       "\n",
       "    .dataframe thead th {\n",
       "        text-align: right;\n",
       "    }\n",
       "</style>\n",
       "<table border=\"1\" class=\"dataframe\">\n",
       "  <thead>\n",
       "    <tr style=\"text-align: right;\">\n",
       "      <th></th>\n",
       "      <th>count</th>\n",
       "      <th>unique</th>\n",
       "    </tr>\n",
       "  </thead>\n",
       "  <tbody>\n",
       "    <tr>\n",
       "      <th>ProductId</th>\n",
       "      <td>568454</td>\n",
       "      <td>74258</td>\n",
       "    </tr>\n",
       "    <tr>\n",
       "      <th>UserId</th>\n",
       "      <td>568454</td>\n",
       "      <td>256059</td>\n",
       "    </tr>\n",
       "  </tbody>\n",
       "</table>\n",
       "</div>"
      ],
      "text/plain": [
       "            count  unique\n",
       "ProductId  568454   74258\n",
       "UserId     568454  256059"
      ]
     },
     "execution_count": 4,
     "metadata": {},
     "output_type": "execute_result"
    }
   ],
   "source": [
    "raw_data[['ProductId', 'UserId']].describe().T[['count','unique']]"
   ]
  },
  {
   "cell_type": "markdown",
   "metadata": {},
   "source": [
    "### 2. Defining the data set"
   ]
  },
  {
   "cell_type": "markdown",
   "metadata": {},
   "source": [
    "#### Removing reviews(rows) when Helpfulness Denominator = 0\n",
    "There are 270,052 reviews where Helpfulness Denominator = 0, meaning the review had no votes saying if if it was useful or not. Will leave this out as the reason why people didn't comment on their usefulness is unknown. The assumption could be that they are not useful but there are 2 main reasons why this is not done:\n",
    "- There might be another reason behind people not commenting on the review, for example product popularity. \n",
    "- Leaving them will introduce bias to the target.\n",
    "\n",
    "Could maybe use them a way of testing if the model is siutable for \"New Comments\", but their usefulness votes are unknown so the exercise mught not be very insightful. \n",
    "\n",
    "The following section is the exploration and deletion of the cases when Helpfulness Denominator = 0. "
   ]
  },
  {
   "cell_type": "code",
   "execution_count": 5,
   "metadata": {},
   "outputs": [
    {
     "data": {
      "text/html": [
       "<div>\n",
       "<style scoped>\n",
       "    .dataframe tbody tr th:only-of-type {\n",
       "        vertical-align: middle;\n",
       "    }\n",
       "\n",
       "    .dataframe tbody tr th {\n",
       "        vertical-align: top;\n",
       "    }\n",
       "\n",
       "    .dataframe thead th {\n",
       "        text-align: right;\n",
       "    }\n",
       "</style>\n",
       "<table border=\"1\" class=\"dataframe\">\n",
       "  <thead>\n",
       "    <tr style=\"text-align: right;\">\n",
       "      <th></th>\n",
       "      <th>count</th>\n",
       "      <th>mean</th>\n",
       "      <th>std</th>\n",
       "      <th>min</th>\n",
       "      <th>max</th>\n",
       "    </tr>\n",
       "  </thead>\n",
       "  <tbody>\n",
       "    <tr>\n",
       "      <th>HelpfulnessNumerator</th>\n",
       "      <td>568454.0</td>\n",
       "      <td>1.74</td>\n",
       "      <td>7.64</td>\n",
       "      <td>0.0</td>\n",
       "      <td>866.0</td>\n",
       "    </tr>\n",
       "    <tr>\n",
       "      <th>HelpfulnessDenominator</th>\n",
       "      <td>568454.0</td>\n",
       "      <td>2.23</td>\n",
       "      <td>8.29</td>\n",
       "      <td>0.0</td>\n",
       "      <td>923.0</td>\n",
       "    </tr>\n",
       "    <tr>\n",
       "      <th>Score</th>\n",
       "      <td>568454.0</td>\n",
       "      <td>4.18</td>\n",
       "      <td>1.31</td>\n",
       "      <td>1.0</td>\n",
       "      <td>5.0</td>\n",
       "    </tr>\n",
       "  </tbody>\n",
       "</table>\n",
       "</div>"
      ],
      "text/plain": [
       "                           count  mean   std  min    max\n",
       "HelpfulnessNumerator    568454.0  1.74  7.64  0.0  866.0\n",
       "HelpfulnessDenominator  568454.0  2.23  8.29  0.0  923.0\n",
       "Score                   568454.0  4.18  1.31  1.0    5.0"
      ]
     },
     "execution_count": 5,
     "metadata": {},
     "output_type": "execute_result"
    }
   ],
   "source": [
    "raw_data.columns\n",
    "summary_data = raw_data[['HelpfulnessNumerator',\n",
    "                         'HelpfulnessDenominator', 'Score']]\n",
    "np.round(summary_data.describe(), 2).T[['count','mean', 'std', 'min', 'max']]"
   ]
  },
  {
   "cell_type": "code",
   "execution_count": 6,
   "metadata": {},
   "outputs": [
    {
     "data": {
      "text/html": [
       "<div>\n",
       "<style scoped>\n",
       "    .dataframe tbody tr th:only-of-type {\n",
       "        vertical-align: middle;\n",
       "    }\n",
       "\n",
       "    .dataframe tbody tr th {\n",
       "        vertical-align: top;\n",
       "    }\n",
       "\n",
       "    .dataframe thead th {\n",
       "        text-align: right;\n",
       "    }\n",
       "</style>\n",
       "<table border=\"1\" class=\"dataframe\">\n",
       "  <thead>\n",
       "    <tr style=\"text-align: right;\">\n",
       "      <th></th>\n",
       "      <th>count</th>\n",
       "      <th>mean</th>\n",
       "      <th>std</th>\n",
       "      <th>min</th>\n",
       "      <th>max</th>\n",
       "    </tr>\n",
       "  </thead>\n",
       "  <tbody>\n",
       "    <tr>\n",
       "      <th>HelpfulnessNumerator</th>\n",
       "      <td>270052.0</td>\n",
       "      <td>0.00</td>\n",
       "      <td>0.00</td>\n",
       "      <td>0.0</td>\n",
       "      <td>0.0</td>\n",
       "    </tr>\n",
       "    <tr>\n",
       "      <th>HelpfulnessDenominator</th>\n",
       "      <td>270052.0</td>\n",
       "      <td>0.00</td>\n",
       "      <td>0.00</td>\n",
       "      <td>0.0</td>\n",
       "      <td>0.0</td>\n",
       "    </tr>\n",
       "    <tr>\n",
       "      <th>Score</th>\n",
       "      <td>270052.0</td>\n",
       "      <td>4.41</td>\n",
       "      <td>1.08</td>\n",
       "      <td>1.0</td>\n",
       "      <td>5.0</td>\n",
       "    </tr>\n",
       "  </tbody>\n",
       "</table>\n",
       "</div>"
      ],
      "text/plain": [
       "                           count  mean   std  min  max\n",
       "HelpfulnessNumerator    270052.0  0.00  0.00  0.0  0.0\n",
       "HelpfulnessDenominator  270052.0  0.00  0.00  0.0  0.0\n",
       "Score                   270052.0  4.41  1.08  1.0  5.0"
      ]
     },
     "execution_count": 6,
     "metadata": {},
     "output_type": "execute_result"
    }
   ],
   "source": [
    "np.round(summary_data[summary_data['HelpfulnessDenominator']==0].describe()\n",
    "         , 2\n",
    "        ).T[['count','mean', 'std', 'min', 'max']]"
   ]
  },
  {
   "cell_type": "code",
   "execution_count": 7,
   "metadata": {},
   "outputs": [
    {
     "data": {
      "text/html": [
       "<div>\n",
       "<style scoped>\n",
       "    .dataframe tbody tr th:only-of-type {\n",
       "        vertical-align: middle;\n",
       "    }\n",
       "\n",
       "    .dataframe tbody tr th {\n",
       "        vertical-align: top;\n",
       "    }\n",
       "\n",
       "    .dataframe thead th {\n",
       "        text-align: right;\n",
       "    }\n",
       "</style>\n",
       "<table border=\"1\" class=\"dataframe\">\n",
       "  <thead>\n",
       "    <tr style=\"text-align: right;\">\n",
       "      <th></th>\n",
       "      <th>count</th>\n",
       "      <th>mean</th>\n",
       "      <th>std</th>\n",
       "      <th>min</th>\n",
       "      <th>max</th>\n",
       "    </tr>\n",
       "  </thead>\n",
       "  <tbody>\n",
       "    <tr>\n",
       "      <th>HelpfulnessNumerator</th>\n",
       "      <td>298402.0</td>\n",
       "      <td>3.32</td>\n",
       "      <td>10.29</td>\n",
       "      <td>0.0</td>\n",
       "      <td>866.0</td>\n",
       "    </tr>\n",
       "    <tr>\n",
       "      <th>HelpfulnessDenominator</th>\n",
       "      <td>298402.0</td>\n",
       "      <td>4.25</td>\n",
       "      <td>11.06</td>\n",
       "      <td>1.0</td>\n",
       "      <td>923.0</td>\n",
       "    </tr>\n",
       "    <tr>\n",
       "      <th>Score</th>\n",
       "      <td>298402.0</td>\n",
       "      <td>3.98</td>\n",
       "      <td>1.46</td>\n",
       "      <td>1.0</td>\n",
       "      <td>5.0</td>\n",
       "    </tr>\n",
       "  </tbody>\n",
       "</table>\n",
       "</div>"
      ],
      "text/plain": [
       "                           count  mean    std  min    max\n",
       "HelpfulnessNumerator    298402.0  3.32  10.29  0.0  866.0\n",
       "HelpfulnessDenominator  298402.0  4.25  11.06  1.0  923.0\n",
       "Score                   298402.0  3.98   1.46  1.0    5.0"
      ]
     },
     "execution_count": 7,
     "metadata": {},
     "output_type": "execute_result"
    }
   ],
   "source": [
    "np.round(summary_data[summary_data['HelpfulnessDenominator']!=0].describe()\n",
    "         , 2\n",
    "        ).T[['count','mean', 'std', 'min', 'max']]"
   ]
  },
  {
   "cell_type": "markdown",
   "metadata": {},
   "source": [
    "From the 568,454 total reviews:\n",
    "- 270,052 Reviews were HelpfulnessDenominator = 0 - will remove these\n",
    "- 298,402 Reviews were HelpfulnessDenominator != 0 "
   ]
  },
  {
   "cell_type": "code",
   "execution_count": 8,
   "metadata": {},
   "outputs": [
    {
     "name": "stdout",
     "output_type": "stream",
     "text": [
      "(298402, 10)\n"
     ]
    }
   ],
   "source": [
    "# 1st Filter of the data set\n",
    "Helpfulness_data = raw_data[raw_data['HelpfulnessDenominator']!=0]\n",
    "print(Helpfulness_data.shape)"
   ]
  },
  {
   "cell_type": "markdown",
   "metadata": {},
   "source": [
    "#### Removing reviews(rows) when Helpfulness Denominator = 1, 2 or 3\n",
    "After removing the reviews with Denominator = 0 , there are still reviews that do not have enough votes to give enough information about the usefulness of a review. Therefore these reviews were also removed from the data set. The following section is the exploration and deletion of these cases. "
   ]
  },
  {
   "cell_type": "code",
   "execution_count": 9,
   "metadata": {},
   "outputs": [
    {
     "data": {
      "text/plain": [
       "1    112753\n",
       "2     61482\n",
       "3     34394\n",
       "4     22306\n",
       "5     14824\n",
       "Name: HelpfulnessDenominator, dtype: int64"
      ]
     },
     "execution_count": 9,
     "metadata": {},
     "output_type": "execute_result"
    }
   ],
   "source": [
    "Helpfulness_data['HelpfulnessDenominator'].value_counts().head()"
   ]
  },
  {
   "cell_type": "code",
   "execution_count": 73,
   "metadata": {},
   "outputs": [
    {
     "data": {
      "text/plain": [
       "<matplotlib.axes._subplots.AxesSubplot at 0x57cb4830>"
      ]
     },
     "execution_count": 73,
     "metadata": {},
     "output_type": "execute_result"
    },
    {
     "data": {
      "image/png": "[encoded data removed]",
      "text/plain": [
       "<Figure size 432x288 with 1 Axes>"
      ]
     },
     "metadata": {
      "needs_background": "light"
     },
     "output_type": "display_data"
    }
   ],
   "source": [
    "sns.countplot(x=\"HelpfulnessDenominator_binned\", data = Helpfulness_data)"
   ]
  },
  {
   "cell_type": "markdown",
   "metadata": {},
   "source": [
    "The count and graph from above show that there are still many reviews with 1,2 or 3 votes regarding how helpful the review was. The total cases are 208,629 (112753 + 61482 + 34394). "
   ]
  },
  {
   "cell_type": "code",
   "execution_count": 67,
   "metadata": {
    "collapsed": true
   },
   "outputs": [
    {
     "name": "stderr",
     "output_type": "stream",
     "text": [
      "C:\\Python27\\lib\\site-packages\\ipykernel_launcher.py:5: SettingWithCopyWarning: \n",
      "A value is trying to be set on a copy of a slice from a DataFrame.\n",
      "Try using .loc[row_indexer,col_indexer] = value instead\n",
      "\n",
      "See the caveats in the documentation: http://pandas.pydata.org/pandas-docs/stable/indexing.html#indexing-view-versus-copy\n",
      "  \"\"\"\n"
     ]
    }
   ],
   "source": [
    "bins = [0, 1, 2, 3, 4, 923]\n",
    "labels = [1,2,3,4,'>=5']\n",
    "Helpfulness_data['HelpfulnessDenominator_binned'] = pd.cut(Helpfulness_data['HelpfulnessDenominator'], \n",
    "                                                           bins=bins,\n",
    "                                                           labels=labels)\n",
    "\n",
    "s = Helpfulness_data.groupby(pd.cut(Helpfulness_data['HelpfulnessDenominator'], \n",
    "                                bins=bins,\n",
    "                                labels=labels)).size()\n",
    "# print(s)"
   ]
  },
  {
   "cell_type": "code",
   "execution_count": 66,
   "metadata": {
    "collapsed": true
   },
   "outputs": [
    {
     "name": "stderr",
     "output_type": "stream",
     "text": [
      "C:\\Python27\\lib\\site-packages\\ipykernel_launcher.py:5: SettingWithCopyWarning: \n",
      "A value is trying to be set on a copy of a slice from a DataFrame.\n",
      "Try using .loc[row_indexer,col_indexer] = value instead\n",
      "\n",
      "See the caveats in the documentation: http://pandas.pydata.org/pandas-docs/stable/indexing.html#indexing-view-versus-copy\n",
      "  \"\"\"\n"
     ]
    }
   ],
   "source": [
    "bins = [-1, 0, 1, 2, 3, 4, 866]\n",
    "labels = [0, 1, 2, 3, 4, '>=5']\n",
    "Helpfulness_data['HelpfulnessNumerator_binned'] = pd.cut(Helpfulness_data['HelpfulnessNumerator'], \n",
    "                                                           bins=bins,\n",
    "                                                           labels=labels)\n",
    "\n",
    "s = Helpfulness_data.groupby(pd.cut(Helpfulness_data['HelpfulnessNumerator'], \n",
    "                                bins=bins,\n",
    "                                labels=labels)).size()\n",
    "# print(s)"
   ]
  },
  {
   "cell_type": "code",
   "execution_count": 13,
   "metadata": {},
   "outputs": [
    {
     "data": {
      "text/html": [
       "<div>\n",
       "<style scoped>\n",
       "    .dataframe tbody tr th:only-of-type {\n",
       "        vertical-align: middle;\n",
       "    }\n",
       "\n",
       "    .dataframe tbody tr th {\n",
       "        vertical-align: top;\n",
       "    }\n",
       "\n",
       "    .dataframe thead th {\n",
       "        text-align: right;\n",
       "    }\n",
       "</style>\n",
       "<table border=\"1\" class=\"dataframe\">\n",
       "  <thead>\n",
       "    <tr style=\"text-align: right;\">\n",
       "      <th>HelpfulnessNumerator_binned</th>\n",
       "      <th>0</th>\n",
       "      <th>1</th>\n",
       "      <th>2</th>\n",
       "      <th>3</th>\n",
       "      <th>4</th>\n",
       "      <th>&gt;=5</th>\n",
       "      <th>All</th>\n",
       "    </tr>\n",
       "    <tr>\n",
       "      <th>HelpfulnessDenominator_binned</th>\n",
       "      <th></th>\n",
       "      <th></th>\n",
       "      <th></th>\n",
       "      <th></th>\n",
       "      <th></th>\n",
       "      <th></th>\n",
       "      <th></th>\n",
       "    </tr>\n",
       "  </thead>\n",
       "  <tbody>\n",
       "    <tr>\n",
       "      <th>1</th>\n",
       "      <td>22561</td>\n",
       "      <td>90191</td>\n",
       "      <td>0</td>\n",
       "      <td>1</td>\n",
       "      <td>0</td>\n",
       "      <td>0</td>\n",
       "      <td>112753</td>\n",
       "    </tr>\n",
       "    <tr>\n",
       "      <th>2</th>\n",
       "      <td>5832</td>\n",
       "      <td>17066</td>\n",
       "      <td>38583</td>\n",
       "      <td>1</td>\n",
       "      <td>0</td>\n",
       "      <td>0</td>\n",
       "      <td>22306</td>\n",
       "    </tr>\n",
       "    <tr>\n",
       "      <th>3</th>\n",
       "      <td>2082</td>\n",
       "      <td>4384</td>\n",
       "      <td>8819</td>\n",
       "      <td>19109</td>\n",
       "      <td>0</td>\n",
       "      <td>0</td>\n",
       "      <td>61482</td>\n",
       "    </tr>\n",
       "    <tr>\n",
       "      <th>4</th>\n",
       "      <td>1108</td>\n",
       "      <td>1799</td>\n",
       "      <td>2983</td>\n",
       "      <td>5529</td>\n",
       "      <td>10887</td>\n",
       "      <td>0</td>\n",
       "      <td>34394</td>\n",
       "    </tr>\n",
       "    <tr>\n",
       "      <th>&gt;=5</th>\n",
       "      <td>2191</td>\n",
       "      <td>3027</td>\n",
       "      <td>3342</td>\n",
       "      <td>4367</td>\n",
       "      <td>6076</td>\n",
       "      <td>48464</td>\n",
       "      <td>67467</td>\n",
       "    </tr>\n",
       "    <tr>\n",
       "      <th>All</th>\n",
       "      <td>16963</td>\n",
       "      <td>33774</td>\n",
       "      <td>29007</td>\n",
       "      <td>116467</td>\n",
       "      <td>53727</td>\n",
       "      <td>48464</td>\n",
       "      <td>298402</td>\n",
       "    </tr>\n",
       "  </tbody>\n",
       "</table>\n",
       "</div>"
      ],
      "text/plain": [
       "HelpfulnessNumerator_binned        0      1      2       3      4    >=5  \\\n",
       "HelpfulnessDenominator_binned                                              \n",
       "1                              22561  90191      0       1      0      0   \n",
       "2                               5832  17066  38583       1      0      0   \n",
       "3                               2082   4384   8819   19109      0      0   \n",
       "4                               1108   1799   2983    5529  10887      0   \n",
       ">=5                             2191   3027   3342    4367   6076  48464   \n",
       "All                            16963  33774  29007  116467  53727  48464   \n",
       "\n",
       "HelpfulnessNumerator_binned       All  \n",
       "HelpfulnessDenominator_binned          \n",
       "1                              112753  \n",
       "2                               22306  \n",
       "3                               61482  \n",
       "4                               34394  \n",
       ">=5                             67467  \n",
       "All                            298402  "
      ]
     },
     "execution_count": 13,
     "metadata": {},
     "output_type": "execute_result"
    }
   ],
   "source": [
    "## Frequency Table - usefulness\n",
    "## Volumes of reviews where Denominator = 1 is 112,753 (just one vote of usefulness)\n",
    "usefulness_freq = pd.crosstab(index=Helpfulness_data[\"HelpfulnessDenominator_binned\"],\n",
    "                              columns=Helpfulness_data[\"HelpfulnessNumerator_binned\"],\n",
    "                              margins=True)\n",
    "\n",
    "\n",
    "usefulness_freq"
   ]
  },
  {
   "cell_type": "markdown",
   "metadata": {},
   "source": [
    "Denominator distribution is biased, there for the dat set needs to be modified to get the ones with enough votes. \n",
    "The table above shows how many people voted and how many of those said the review was useful. For example, for the reviews with only 1 vote (112,753), there were 22,561 as not useful and 90,191 tagged as useful. However, they only have 1 vote so there is not enough information to say if it was actually useful or not.  \n",
    "For the reviews with 2 votes (22,306); there are 5,832 tagged as not useful; 17,066 where 1 of the votes was useful and 38,583 were both votes were towards useful. But again, these reviews have only 2 votrs, which means it is still not strogn enough, in my opinion, to say if a review was useful or not. \n",
    "It is better to focus on the reviews that had more than just a couple of votes. As mentioned above, the data set will be filter so it will only consider the cases when Denominator > = 3 (thinking a bit more about it, maybe even considering the cases with only 5 votes or higher would have been better)"
   ]
  },
  {
   "cell_type": "code",
   "execution_count": 14,
   "metadata": {},
   "outputs": [
    {
     "data": {
      "text/plain": [
       "(124167, 10)"
      ]
     },
     "execution_count": 14,
     "metadata": {},
     "output_type": "execute_result"
    }
   ],
   "source": [
    "## 2nd Filter of the data set\n",
    "DenominatorBiggerthan3_data = raw_data[raw_data['HelpfulnessDenominator']>=3]\n",
    "DenominatorBiggerthan3_data.shape"
   ]
  },
  {
   "cell_type": "markdown",
   "metadata": {},
   "source": [
    "The final data set has 124,167 reviews."
   ]
  },
  {
   "cell_type": "markdown",
   "metadata": {},
   "source": [
    "### 3. Defining the target\n",
    "<p>Usefulness ratio = helpfulness_numerator / helpfulness_denominator</p>\n",
    "Useful_flag = If usefulness > 0.5 then 1 (Useful) else 0 (Not Useful)"
   ]
  },
  {
   "cell_type": "code",
   "execution_count": 15,
   "metadata": {},
   "outputs": [],
   "source": [
    "def target(ratio): \n",
    "    if ratio > 0.7: \n",
    "        return '1'\n",
    "    return '0'\n",
    "\n",
    "def calculate_helpfulness_ratio(Numerator, Denominator):\n",
    "    ratio = Numerator/float(Denominator)\n",
    "    useful_flag = target(ratio)\n",
    "    ratio = round(ratio,2)\n",
    "    return [ratio, useful_flag]"
   ]
  },
  {
   "cell_type": "code",
   "execution_count": 16,
   "metadata": {},
   "outputs": [
    {
     "data": {
      "text/html": [
       "<div>\n",
       "<style scoped>\n",
       "    .dataframe tbody tr th:only-of-type {\n",
       "        vertical-align: middle;\n",
       "    }\n",
       "\n",
       "    .dataframe tbody tr th {\n",
       "        vertical-align: top;\n",
       "    }\n",
       "\n",
       "    .dataframe thead th {\n",
       "        text-align: right;\n",
       "    }\n",
       "</style>\n",
       "<table border=\"1\" class=\"dataframe\">\n",
       "  <thead>\n",
       "    <tr style=\"text-align: right;\">\n",
       "      <th></th>\n",
       "      <th>Id</th>\n",
       "      <th>ProductId</th>\n",
       "      <th>UserId</th>\n",
       "      <th>ProfileName</th>\n",
       "      <th>HelpfulnessNumerator</th>\n",
       "      <th>HelpfulnessDenominator</th>\n",
       "      <th>Score</th>\n",
       "      <th>Time</th>\n",
       "      <th>Summary</th>\n",
       "      <th>Text</th>\n",
       "      <th>helpfulness_ratio</th>\n",
       "      <th>useful_flag</th>\n",
       "    </tr>\n",
       "  </thead>\n",
       "  <tbody>\n",
       "    <tr>\n",
       "      <th>3</th>\n",
       "      <td>4</td>\n",
       "      <td>B000UA0QIQ</td>\n",
       "      <td>A395BORC6FGVXV</td>\n",
       "      <td>Karl</td>\n",
       "      <td>3</td>\n",
       "      <td>3</td>\n",
       "      <td>2</td>\n",
       "      <td>1307923200</td>\n",
       "      <td>Cough Medicine</td>\n",
       "      <td>If you are looking for the secret ingredient i...</td>\n",
       "      <td>1.0</td>\n",
       "      <td>1</td>\n",
       "    </tr>\n",
       "    <tr>\n",
       "      <th>11</th>\n",
       "      <td>12</td>\n",
       "      <td>B0009XLVG0</td>\n",
       "      <td>A2725IB4YY9JEB</td>\n",
       "      <td>A Poeng \"SparkyGoHome\"</td>\n",
       "      <td>4</td>\n",
       "      <td>4</td>\n",
       "      <td>5</td>\n",
       "      <td>1282867200</td>\n",
       "      <td>My cats LOVE this \"diet\" food better than thei...</td>\n",
       "      <td>One of my boys needed to lose some weight and ...</td>\n",
       "      <td>1.0</td>\n",
       "      <td>1</td>\n",
       "    </tr>\n",
       "    <tr>\n",
       "      <th>14</th>\n",
       "      <td>15</td>\n",
       "      <td>B001GVISJM</td>\n",
       "      <td>A2MUGFV2TDQ47K</td>\n",
       "      <td>Lynrie \"Oh HELL no\"</td>\n",
       "      <td>4</td>\n",
       "      <td>5</td>\n",
       "      <td>5</td>\n",
       "      <td>1268352000</td>\n",
       "      <td>Strawberry Twizzlers - Yummy</td>\n",
       "      <td>The Strawberry Twizzlers are my guilty pleasur...</td>\n",
       "      <td>0.8</td>\n",
       "      <td>1</td>\n",
       "    </tr>\n",
       "    <tr>\n",
       "      <th>15</th>\n",
       "      <td>16</td>\n",
       "      <td>B001GVISJM</td>\n",
       "      <td>A1CZX3CP8IKQIJ</td>\n",
       "      <td>Brian A. Lee</td>\n",
       "      <td>4</td>\n",
       "      <td>5</td>\n",
       "      <td>5</td>\n",
       "      <td>1262044800</td>\n",
       "      <td>Lots of twizzlers, just what you expect.</td>\n",
       "      <td>My daughter loves twizzlers and this shipment ...</td>\n",
       "      <td>0.8</td>\n",
       "      <td>1</td>\n",
       "    </tr>\n",
       "    <tr>\n",
       "      <th>32</th>\n",
       "      <td>33</td>\n",
       "      <td>B001EO5QW8</td>\n",
       "      <td>AOVROBZ8BNTP7</td>\n",
       "      <td>S. Potter</td>\n",
       "      <td>19</td>\n",
       "      <td>19</td>\n",
       "      <td>4</td>\n",
       "      <td>1163376000</td>\n",
       "      <td>Best of the Instant Oatmeals</td>\n",
       "      <td>McCann's Instant Oatmeal is great if you must ...</td>\n",
       "      <td>1.0</td>\n",
       "      <td>1</td>\n",
       "    </tr>\n",
       "  </tbody>\n",
       "</table>\n",
       "</div>"
      ],
      "text/plain": [
       "    Id   ProductId          UserId             ProfileName  \\\n",
       "3    4  B000UA0QIQ  A395BORC6FGVXV                    Karl   \n",
       "11  12  B0009XLVG0  A2725IB4YY9JEB  A Poeng \"SparkyGoHome\"   \n",
       "14  15  B001GVISJM  A2MUGFV2TDQ47K     Lynrie \"Oh HELL no\"   \n",
       "15  16  B001GVISJM  A1CZX3CP8IKQIJ            Brian A. Lee   \n",
       "32  33  B001EO5QW8   AOVROBZ8BNTP7               S. Potter   \n",
       "\n",
       "    HelpfulnessNumerator  HelpfulnessDenominator  Score        Time  \\\n",
       "3                      3                       3      2  1307923200   \n",
       "11                     4                       4      5  1282867200   \n",
       "14                     4                       5      5  1268352000   \n",
       "15                     4                       5      5  1262044800   \n",
       "32                    19                      19      4  1163376000   \n",
       "\n",
       "                                              Summary  \\\n",
       "3                                      Cough Medicine   \n",
       "11  My cats LOVE this \"diet\" food better than thei...   \n",
       "14                       Strawberry Twizzlers - Yummy   \n",
       "15           Lots of twizzlers, just what you expect.   \n",
       "32                       Best of the Instant Oatmeals   \n",
       "\n",
       "                                                 Text  helpfulness_ratio  \\\n",
       "3   If you are looking for the secret ingredient i...                1.0   \n",
       "11  One of my boys needed to lose some weight and ...                1.0   \n",
       "14  The Strawberry Twizzlers are my guilty pleasur...                0.8   \n",
       "15  My daughter loves twizzlers and this shipment ...                0.8   \n",
       "32  McCann's Instant Oatmeal is great if you must ...                1.0   \n",
       "\n",
       "   useful_flag  \n",
       "3            1  \n",
       "11           1  \n",
       "14           1  \n",
       "15           1  \n",
       "32           1  "
      ]
     },
     "execution_count": 16,
     "metadata": {},
     "output_type": "execute_result"
    }
   ],
   "source": [
    "helpfulness_ratio = DenominatorBiggerthan3_data.apply(\n",
    "    lambda x: pd.Series(\n",
    "        calculate_helpfulness_ratio(x.HelpfulnessNumerator, x.HelpfulnessDenominator), \n",
    "        index = [\"helpfulness_ratio\", \"useful_flag\"]\n",
    "    ),\n",
    "    axis=1\n",
    ")\n",
    "HelpfulnesswithTarget_df = pd.concat([DenominatorBiggerthan3_data[:], helpfulness_ratio[:]], axis=1)\n",
    "HelpfulnesswithTarget_df.head()"
   ]
  },
  {
   "cell_type": "markdown",
   "metadata": {},
   "source": [
    "In this case, the target is being defined as useful (1) for ratios that are bigger than 0.7 However there are other ways of defining a target. For example, the target could actually be the usefulness ratio and the methodology will have to be chosen accordingly. Another way would be to set different levels of the usefulness, for example ratio levels can be set as: not useful/cannot say/ very useful. In this case the output would be a multiclass variable instead of a dummy response. "
   ]
  },
  {
   "cell_type": "markdown",
   "metadata": {},
   "source": [
    "### 4. Feature Engineering\n",
    "Creating new features to enrich the data set. These include:\n",
    "1. Score variables - feeling towards product\n",
    "1. Text variables - text mining of review text\n",
    "1. Time variables - variables extracted from timestamp\n",
    "1. Product and reviewer variables"
   ]
  },
  {
   "cell_type": "markdown",
   "metadata": {},
   "source": [
    "#### 1. Score variables\n",
    "- Positive rating of a food product - flag\n",
    "- Negative rating of a food product - flag"
   ]
  },
  {
   "cell_type": "code",
   "execution_count": 17,
   "metadata": {},
   "outputs": [],
   "source": [
    "def get_rating_flags(score):\n",
    "    def negative_rating(score):\n",
    "        if score < 3:\n",
    "            return '1'\n",
    "        return '0'\n",
    "    def positive_rating(score):\n",
    "        if score > 3:\n",
    "            return '1'\n",
    "        return '0'\n",
    "    negative = negative_rating(score)\n",
    "    positive = positive_rating(score)\n",
    "    return [negative, positive]"
   ]
  },
  {
   "cell_type": "code",
   "execution_count": 18,
   "metadata": {},
   "outputs": [
    {
     "data": {
      "text/html": [
       "<div>\n",
       "<style scoped>\n",
       "    .dataframe tbody tr th:only-of-type {\n",
       "        vertical-align: middle;\n",
       "    }\n",
       "\n",
       "    .dataframe tbody tr th {\n",
       "        vertical-align: top;\n",
       "    }\n",
       "\n",
       "    .dataframe thead th {\n",
       "        text-align: right;\n",
       "    }\n",
       "</style>\n",
       "<table border=\"1\" class=\"dataframe\">\n",
       "  <thead>\n",
       "    <tr style=\"text-align: right;\">\n",
       "      <th></th>\n",
       "      <th>Id</th>\n",
       "      <th>ProductId</th>\n",
       "      <th>UserId</th>\n",
       "      <th>ProfileName</th>\n",
       "      <th>HelpfulnessNumerator</th>\n",
       "      <th>HelpfulnessDenominator</th>\n",
       "      <th>Score</th>\n",
       "      <th>Time</th>\n",
       "      <th>Summary</th>\n",
       "      <th>Text</th>\n",
       "      <th>helpfulness_ratio</th>\n",
       "      <th>useful_flag</th>\n",
       "      <th>negative_rating_flag</th>\n",
       "      <th>positive_rating_flag</th>\n",
       "    </tr>\n",
       "  </thead>\n",
       "  <tbody>\n",
       "    <tr>\n",
       "      <th>3</th>\n",
       "      <td>4</td>\n",
       "      <td>B000UA0QIQ</td>\n",
       "      <td>A395BORC6FGVXV</td>\n",
       "      <td>Karl</td>\n",
       "      <td>3</td>\n",
       "      <td>3</td>\n",
       "      <td>2</td>\n",
       "      <td>1307923200</td>\n",
       "      <td>Cough Medicine</td>\n",
       "      <td>If you are looking for the secret ingredient i...</td>\n",
       "      <td>1.0</td>\n",
       "      <td>1</td>\n",
       "      <td>1</td>\n",
       "      <td>0</td>\n",
       "    </tr>\n",
       "    <tr>\n",
       "      <th>11</th>\n",
       "      <td>12</td>\n",
       "      <td>B0009XLVG0</td>\n",
       "      <td>A2725IB4YY9JEB</td>\n",
       "      <td>A Poeng \"SparkyGoHome\"</td>\n",
       "      <td>4</td>\n",
       "      <td>4</td>\n",
       "      <td>5</td>\n",
       "      <td>1282867200</td>\n",
       "      <td>My cats LOVE this \"diet\" food better than thei...</td>\n",
       "      <td>One of my boys needed to lose some weight and ...</td>\n",
       "      <td>1.0</td>\n",
       "      <td>1</td>\n",
       "      <td>0</td>\n",
       "      <td>1</td>\n",
       "    </tr>\n",
       "    <tr>\n",
       "      <th>14</th>\n",
       "      <td>15</td>\n",
       "      <td>B001GVISJM</td>\n",
       "      <td>A2MUGFV2TDQ47K</td>\n",
       "      <td>Lynrie \"Oh HELL no\"</td>\n",
       "      <td>4</td>\n",
       "      <td>5</td>\n",
       "      <td>5</td>\n",
       "      <td>1268352000</td>\n",
       "      <td>Strawberry Twizzlers - Yummy</td>\n",
       "      <td>The Strawberry Twizzlers are my guilty pleasur...</td>\n",
       "      <td>0.8</td>\n",
       "      <td>1</td>\n",
       "      <td>0</td>\n",
       "      <td>1</td>\n",
       "    </tr>\n",
       "    <tr>\n",
       "      <th>15</th>\n",
       "      <td>16</td>\n",
       "      <td>B001GVISJM</td>\n",
       "      <td>A1CZX3CP8IKQIJ</td>\n",
       "      <td>Brian A. Lee</td>\n",
       "      <td>4</td>\n",
       "      <td>5</td>\n",
       "      <td>5</td>\n",
       "      <td>1262044800</td>\n",
       "      <td>Lots of twizzlers, just what you expect.</td>\n",
       "      <td>My daughter loves twizzlers and this shipment ...</td>\n",
       "      <td>0.8</td>\n",
       "      <td>1</td>\n",
       "      <td>0</td>\n",
       "      <td>1</td>\n",
       "    </tr>\n",
       "    <tr>\n",
       "      <th>32</th>\n",
       "      <td>33</td>\n",
       "      <td>B001EO5QW8</td>\n",
       "      <td>AOVROBZ8BNTP7</td>\n",
       "      <td>S. Potter</td>\n",
       "      <td>19</td>\n",
       "      <td>19</td>\n",
       "      <td>4</td>\n",
       "      <td>1163376000</td>\n",
       "      <td>Best of the Instant Oatmeals</td>\n",
       "      <td>McCann's Instant Oatmeal is great if you must ...</td>\n",
       "      <td>1.0</td>\n",
       "      <td>1</td>\n",
       "      <td>0</td>\n",
       "      <td>1</td>\n",
       "    </tr>\n",
       "  </tbody>\n",
       "</table>\n",
       "</div>"
      ],
      "text/plain": [
       "    Id   ProductId          UserId             ProfileName  \\\n",
       "3    4  B000UA0QIQ  A395BORC6FGVXV                    Karl   \n",
       "11  12  B0009XLVG0  A2725IB4YY9JEB  A Poeng \"SparkyGoHome\"   \n",
       "14  15  B001GVISJM  A2MUGFV2TDQ47K     Lynrie \"Oh HELL no\"   \n",
       "15  16  B001GVISJM  A1CZX3CP8IKQIJ            Brian A. Lee   \n",
       "32  33  B001EO5QW8   AOVROBZ8BNTP7               S. Potter   \n",
       "\n",
       "    HelpfulnessNumerator  HelpfulnessDenominator  Score        Time  \\\n",
       "3                      3                       3      2  1307923200   \n",
       "11                     4                       4      5  1282867200   \n",
       "14                     4                       5      5  1268352000   \n",
       "15                     4                       5      5  1262044800   \n",
       "32                    19                      19      4  1163376000   \n",
       "\n",
       "                                              Summary  \\\n",
       "3                                      Cough Medicine   \n",
       "11  My cats LOVE this \"diet\" food better than thei...   \n",
       "14                       Strawberry Twizzlers - Yummy   \n",
       "15           Lots of twizzlers, just what you expect.   \n",
       "32                       Best of the Instant Oatmeals   \n",
       "\n",
       "                                                 Text  helpfulness_ratio  \\\n",
       "3   If you are looking for the secret ingredient i...                1.0   \n",
       "11  One of my boys needed to lose some weight and ...                1.0   \n",
       "14  The Strawberry Twizzlers are my guilty pleasur...                0.8   \n",
       "15  My daughter loves twizzlers and this shipment ...                0.8   \n",
       "32  McCann's Instant Oatmeal is great if you must ...                1.0   \n",
       "\n",
       "   useful_flag negative_rating_flag positive_rating_flag  \n",
       "3            1                    1                    0  \n",
       "11           1                    0                    1  \n",
       "14           1                    0                    1  \n",
       "15           1                    0                    1  \n",
       "32           1                    0                    1  "
      ]
     },
     "execution_count": 18,
     "metadata": {},
     "output_type": "execute_result"
    }
   ],
   "source": [
    "rating_flags = HelpfulnesswithTarget_df.apply(\n",
    "    lambda x: pd.Series(\n",
    "        get_rating_flags(x.Score), \n",
    "        index = [\"negative_rating_flag\", \"positive_rating_flag\"]\n",
    "    ),\n",
    "    axis=1\n",
    ")\n",
    "HelpfulnesswithTarget_df = pd.concat([HelpfulnesswithTarget_df[:], rating_flags[:]], axis=1)\n",
    "HelpfulnesswithTarget_df.head()"
   ]
  },
  {
   "cell_type": "markdown",
   "metadata": {},
   "source": [
    "#### 2. Text Variables\n",
    "- Clean reviews\n",
    "- Number of distinct words\n",
    "- Number of total words\n",
    "- Number of distinct cleaned words\n",
    "- Number of total cleaned words\n",
    "- Ratio of clean words / total words\n",
    "\n",
    "Could have added\n",
    "- Sentiment Analysis or further text mining from the review or summary\n",
    "- Number of nouns, adjectives and exclamation marks; plus ratio of these with the number of total words"
   ]
  },
  {
   "cell_type": "code",
   "execution_count": 19,
   "metadata": {},
   "outputs": [],
   "source": [
    "## Importing NLP module\n",
    "import nltk"
   ]
  },
  {
   "cell_type": "code",
   "execution_count": 20,
   "metadata": {},
   "outputs": [],
   "source": [
    "from nltk.tokenize import RegexpTokenizer\n",
    "tokenizer = RegexpTokenizer(r'\\w+')\n",
    "\n",
    "from nltk.probability import FreqDist\n",
    "def get_word_counts(text):\n",
    "    tokenized_word=tokenizer.tokenize(text)\n",
    "    fdist = FreqDist(tokenized_word)\n",
    "    return [fdist.B(), fdist.N()]"
   ]
  },
  {
   "cell_type": "code",
   "execution_count": 21,
   "metadata": {},
   "outputs": [],
   "source": [
    "text_attributes = HelpfulnesswithTarget_df.apply(\n",
    "    lambda x: pd.Series(\n",
    "        get_word_counts(x.Text), \n",
    "        index = [\"n_distinct_words\", \"n_words\"]\n",
    "    ),\n",
    "    axis=1\n",
    ")\n",
    "HelpfulnesswithTarget_df = pd.concat([HelpfulnesswithTarget_df[:], text_attributes[:]], axis=1)\n",
    "#HelpfulnesswithTarget_df.head()"
   ]
  },
  {
   "cell_type": "code",
   "execution_count": 22,
   "metadata": {},
   "outputs": [],
   "source": [
    "import re\n",
    "import string\n",
    "string.punctuation\n",
    "\n",
    "number='0123456789'\n",
    "\n",
    "## NOT TOKENISED REVIEW\n",
    "## Text cleansing - removes punctuation and sets all text to lower case\n",
    "def initial_clean(text):\n",
    "   \n",
    "    ##remove punctuation\n",
    "    text = \"\".join([char for char in text if char not in string.punctuation])\n",
    "    text = re.sub(\"(\\')\",'',str(text))\n",
    "    text = re.sub(r\"(\\W)\",r' ',str(text))\n",
    "    text = re.sub(r\" +\",r' ',str(text))\n",
    "    text = re.sub(\"\\/\",\" \",str(text))\n",
    "    text = re.sub(r'\\b\\d+(?:\\.\\d+)?\\s+','',str(text))\n",
    "    text = re.sub('^[0-9 ]+', '', str(text))\n",
    "    text = re.sub(\"^\\d+\\s|\\s\\d+\\s|\\s\\d+$\", \" \",str(text))\n",
    "    nopunct = text.lower()\n",
    "    nonumb= \"\".join([char for char in nopunct if char not in number])\n",
    "   \n",
    "    return nonumb\n",
    "\n",
    "## Test:\n",
    "# Text_test = raw_data.loc[0,'Text'] \n",
    "# print(Text_test)\n",
    "# print(initial_clean(Text_test))"
   ]
  },
  {
   "cell_type": "code",
   "execution_count": 23,
   "metadata": {},
   "outputs": [
    {
     "name": "stderr",
     "output_type": "stream",
     "text": [
      "C:\\Python27\\lib\\site-packages\\ipykernel_launcher.py:9: UnicodeWarning: Unicode equal comparison failed to convert both arguments to Unicode - interpreting them as being unequal\n",
      "  if __name__ == '__main__':\n"
     ]
    }
   ],
   "source": [
    "from nltk.corpus import stopwords\n",
    "sr= stopwords.words('english')\n",
    "\n",
    "## TOKENISED REVIEW INTO WORDS\n",
    "## Text cleansing - removes punctuation and sets all text to lower case\n",
    "def clean_data(text):\n",
    "    text = text.lower()\n",
    "    text = tokenizer.tokenize(text)\n",
    "    text = [ word for word in text if word not in sr]\n",
    "    return text\n",
    "\n",
    "## Test:\n",
    "# Text_test = raw_data.loc[0,'Text'] \n",
    "# print(Text_test)\n",
    "# print(clean_data(Text_test))\n",
    "\n",
    "# On data set:\n",
    "# HelpfulnesswithTarget_df['Text'].apply(lambda x: clean_data(x))\n",
    "\n",
    "HelpfulnesswithTarget_df['clean_text'] = HelpfulnesswithTarget_df.apply(lambda x:clean_data(x.Text), axis=1)\n"
   ]
  },
  {
   "cell_type": "code",
   "execution_count": 24,
   "metadata": {},
   "outputs": [],
   "source": [
    "def get_cleanword_counts(text):\n",
    "    fdist = FreqDist(text)\n",
    "    return [fdist.B(), fdist.N()]\n",
    "\n",
    "clean_text_attributes = HelpfulnesswithTarget_df.apply(\n",
    "    lambda x: pd.Series(\n",
    "        get_cleanword_counts(x.clean_text), \n",
    "        index = [\"n_distinct_cleanwords\", \"n_cleanwords\"]\n",
    "    ),\n",
    "    axis=1\n",
    ")\n",
    "HelpfulnesswithTarget_df = pd.concat([HelpfulnesswithTarget_df[:], clean_text_attributes[:]], axis=1)\n",
    "#HelpfulnesswithTarget_df.head()"
   ]
  },
  {
   "cell_type": "code",
   "execution_count": 25,
   "metadata": {},
   "outputs": [],
   "source": [
    "HelpfulnesswithTarget_df['cleanwords_ratio'] = HelpfulnesswithTarget_df.n_cleanwords/HelpfulnesswithTarget_df.n_words"
   ]
  },
  {
   "cell_type": "code",
   "execution_count": 26,
   "metadata": {},
   "outputs": [],
   "source": [
    "# Tags of the words\n",
    "#nltk.pos_tag(clean_data(Text_test))"
   ]
  },
  {
   "cell_type": "code",
   "execution_count": 27,
   "metadata": {},
   "outputs": [
    {
     "data": {
      "text/html": [
       "<div>\n",
       "<style scoped>\n",
       "    .dataframe tbody tr th:only-of-type {\n",
       "        vertical-align: middle;\n",
       "    }\n",
       "\n",
       "    .dataframe tbody tr th {\n",
       "        vertical-align: top;\n",
       "    }\n",
       "\n",
       "    .dataframe thead th {\n",
       "        text-align: right;\n",
       "    }\n",
       "</style>\n",
       "<table border=\"1\" class=\"dataframe\">\n",
       "  <thead>\n",
       "    <tr style=\"text-align: right;\">\n",
       "      <th></th>\n",
       "      <th>Id</th>\n",
       "      <th>ProductId</th>\n",
       "      <th>UserId</th>\n",
       "      <th>ProfileName</th>\n",
       "      <th>HelpfulnessNumerator</th>\n",
       "      <th>HelpfulnessDenominator</th>\n",
       "      <th>Score</th>\n",
       "      <th>Time</th>\n",
       "      <th>Summary</th>\n",
       "      <th>Text</th>\n",
       "      <th>helpfulness_ratio</th>\n",
       "      <th>useful_flag</th>\n",
       "      <th>negative_rating_flag</th>\n",
       "      <th>positive_rating_flag</th>\n",
       "      <th>n_distinct_words</th>\n",
       "      <th>n_words</th>\n",
       "      <th>clean_text</th>\n",
       "      <th>n_distinct_cleanwords</th>\n",
       "      <th>n_cleanwords</th>\n",
       "      <th>cleanwords_ratio</th>\n",
       "    </tr>\n",
       "  </thead>\n",
       "  <tbody>\n",
       "    <tr>\n",
       "      <th>3</th>\n",
       "      <td>4</td>\n",
       "      <td>B000UA0QIQ</td>\n",
       "      <td>A395BORC6FGVXV</td>\n",
       "      <td>Karl</td>\n",
       "      <td>3</td>\n",
       "      <td>3</td>\n",
       "      <td>2</td>\n",
       "      <td>1307923200</td>\n",
       "      <td>Cough Medicine</td>\n",
       "      <td>If you are looking for the secret ingredient i...</td>\n",
       "      <td>1.0</td>\n",
       "      <td>1</td>\n",
       "      <td>1</td>\n",
       "      <td>0</td>\n",
       "      <td>36</td>\n",
       "      <td>41</td>\n",
       "      <td>[looking, secret, ingredient, robitussin, beli...</td>\n",
       "      <td>18</td>\n",
       "      <td>18</td>\n",
       "      <td>0.439024</td>\n",
       "    </tr>\n",
       "    <tr>\n",
       "      <th>11</th>\n",
       "      <td>12</td>\n",
       "      <td>B0009XLVG0</td>\n",
       "      <td>A2725IB4YY9JEB</td>\n",
       "      <td>A Poeng \"SparkyGoHome\"</td>\n",
       "      <td>4</td>\n",
       "      <td>4</td>\n",
       "      <td>5</td>\n",
       "      <td>1282867200</td>\n",
       "      <td>My cats LOVE this \"diet\" food better than thei...</td>\n",
       "      <td>One of my boys needed to lose some weight and ...</td>\n",
       "      <td>1.0</td>\n",
       "      <td>1</td>\n",
       "      <td>0</td>\n",
       "      <td>1</td>\n",
       "      <td>53</td>\n",
       "      <td>67</td>\n",
       "      <td>[one, boys, needed, lose, weight, put, food, f...</td>\n",
       "      <td>25</td>\n",
       "      <td>31</td>\n",
       "      <td>0.462687</td>\n",
       "    </tr>\n",
       "    <tr>\n",
       "      <th>14</th>\n",
       "      <td>15</td>\n",
       "      <td>B001GVISJM</td>\n",
       "      <td>A2MUGFV2TDQ47K</td>\n",
       "      <td>Lynrie \"Oh HELL no\"</td>\n",
       "      <td>4</td>\n",
       "      <td>5</td>\n",
       "      <td>5</td>\n",
       "      <td>1268352000</td>\n",
       "      <td>Strawberry Twizzlers - Yummy</td>\n",
       "      <td>The Strawberry Twizzlers are my guilty pleasur...</td>\n",
       "      <td>0.8</td>\n",
       "      <td>1</td>\n",
       "      <td>0</td>\n",
       "      <td>1</td>\n",
       "      <td>20</td>\n",
       "      <td>21</td>\n",
       "      <td>[strawberry, twizzlers, guilty, pleasure, yumm...</td>\n",
       "      <td>9</td>\n",
       "      <td>9</td>\n",
       "      <td>0.428571</td>\n",
       "    </tr>\n",
       "    <tr>\n",
       "      <th>15</th>\n",
       "      <td>16</td>\n",
       "      <td>B001GVISJM</td>\n",
       "      <td>A1CZX3CP8IKQIJ</td>\n",
       "      <td>Brian A. Lee</td>\n",
       "      <td>4</td>\n",
       "      <td>5</td>\n",
       "      <td>5</td>\n",
       "      <td>1262044800</td>\n",
       "      <td>Lots of twizzlers, just what you expect.</td>\n",
       "      <td>My daughter loves twizzlers and this shipment ...</td>\n",
       "      <td>0.8</td>\n",
       "      <td>1</td>\n",
       "      <td>0</td>\n",
       "      <td>1</td>\n",
       "      <td>23</td>\n",
       "      <td>26</td>\n",
       "      <td>[daughter, loves, twizzlers, shipment, six, po...</td>\n",
       "      <td>14</td>\n",
       "      <td>16</td>\n",
       "      <td>0.615385</td>\n",
       "    </tr>\n",
       "    <tr>\n",
       "      <th>32</th>\n",
       "      <td>33</td>\n",
       "      <td>B001EO5QW8</td>\n",
       "      <td>AOVROBZ8BNTP7</td>\n",
       "      <td>S. Potter</td>\n",
       "      <td>19</td>\n",
       "      <td>19</td>\n",
       "      <td>4</td>\n",
       "      <td>1163376000</td>\n",
       "      <td>Best of the Instant Oatmeals</td>\n",
       "      <td>McCann's Instant Oatmeal is great if you must ...</td>\n",
       "      <td>1.0</td>\n",
       "      <td>1</td>\n",
       "      <td>0</td>\n",
       "      <td>1</td>\n",
       "      <td>129</td>\n",
       "      <td>206</td>\n",
       "      <td>[mccann, instant, oatmeal, great, must, oatmea...</td>\n",
       "      <td>84</td>\n",
       "      <td>110</td>\n",
       "      <td>0.533981</td>\n",
       "    </tr>\n",
       "  </tbody>\n",
       "</table>\n",
       "</div>"
      ],
      "text/plain": [
       "    Id   ProductId          UserId             ProfileName  \\\n",
       "3    4  B000UA0QIQ  A395BORC6FGVXV                    Karl   \n",
       "11  12  B0009XLVG0  A2725IB4YY9JEB  A Poeng \"SparkyGoHome\"   \n",
       "14  15  B001GVISJM  A2MUGFV2TDQ47K     Lynrie \"Oh HELL no\"   \n",
       "15  16  B001GVISJM  A1CZX3CP8IKQIJ            Brian A. Lee   \n",
       "32  33  B001EO5QW8   AOVROBZ8BNTP7               S. Potter   \n",
       "\n",
       "    HelpfulnessNumerator  HelpfulnessDenominator  Score        Time  \\\n",
       "3                      3                       3      2  1307923200   \n",
       "11                     4                       4      5  1282867200   \n",
       "14                     4                       5      5  1268352000   \n",
       "15                     4                       5      5  1262044800   \n",
       "32                    19                      19      4  1163376000   \n",
       "\n",
       "                                              Summary  \\\n",
       "3                                      Cough Medicine   \n",
       "11  My cats LOVE this \"diet\" food better than thei...   \n",
       "14                       Strawberry Twizzlers - Yummy   \n",
       "15           Lots of twizzlers, just what you expect.   \n",
       "32                       Best of the Instant Oatmeals   \n",
       "\n",
       "                                                 Text  helpfulness_ratio  \\\n",
       "3   If you are looking for the secret ingredient i...                1.0   \n",
       "11  One of my boys needed to lose some weight and ...                1.0   \n",
       "14  The Strawberry Twizzlers are my guilty pleasur...                0.8   \n",
       "15  My daughter loves twizzlers and this shipment ...                0.8   \n",
       "32  McCann's Instant Oatmeal is great if you must ...                1.0   \n",
       "\n",
       "   useful_flag negative_rating_flag positive_rating_flag  n_distinct_words  \\\n",
       "3            1                    1                    0                36   \n",
       "11           1                    0                    1                53   \n",
       "14           1                    0                    1                20   \n",
       "15           1                    0                    1                23   \n",
       "32           1                    0                    1               129   \n",
       "\n",
       "    n_words                                         clean_text  \\\n",
       "3        41  [looking, secret, ingredient, robitussin, beli...   \n",
       "11       67  [one, boys, needed, lose, weight, put, food, f...   \n",
       "14       21  [strawberry, twizzlers, guilty, pleasure, yumm...   \n",
       "15       26  [daughter, loves, twizzlers, shipment, six, po...   \n",
       "32      206  [mccann, instant, oatmeal, great, must, oatmea...   \n",
       "\n",
       "    n_distinct_cleanwords  n_cleanwords  cleanwords_ratio  \n",
       "3                      18            18          0.439024  \n",
       "11                     25            31          0.462687  \n",
       "14                      9             9          0.428571  \n",
       "15                     14            16          0.615385  \n",
       "32                     84           110          0.533981  "
      ]
     },
     "execution_count": 27,
     "metadata": {},
     "output_type": "execute_result"
    }
   ],
   "source": [
    "HelpfulnesswithTarget_df.head()"
   ]
  },
  {
   "cell_type": "markdown",
   "metadata": {},
   "source": [
    "\n",
    "#### 3. Time Variables\n",
    "- Transform variable to the right format\n",
    "- Day of the week variable\n",
    "- Month variable\n",
    "- Season flags - winter and summer\n",
    "- Year variable - not enough reviews from all the years\n",
    "- Daytime/Nightime/EarlyMorning - time stamp does not have the time attribute, just the date\n",
    "\n",
    "Could add: special events or holiday flags"
   ]
  },
  {
   "cell_type": "code",
   "execution_count": 28,
   "metadata": {},
   "outputs": [
    {
     "data": {
      "text/html": [
       "<div>\n",
       "<style scoped>\n",
       "    .dataframe tbody tr th:only-of-type {\n",
       "        vertical-align: middle;\n",
       "    }\n",
       "\n",
       "    .dataframe tbody tr th {\n",
       "        vertical-align: top;\n",
       "    }\n",
       "\n",
       "    .dataframe thead th {\n",
       "        text-align: right;\n",
       "    }\n",
       "</style>\n",
       "<table border=\"1\" class=\"dataframe\">\n",
       "  <thead>\n",
       "    <tr style=\"text-align: right;\">\n",
       "      <th></th>\n",
       "      <th>Id</th>\n",
       "      <th>ProductId</th>\n",
       "      <th>UserId</th>\n",
       "      <th>ProfileName</th>\n",
       "      <th>HelpfulnessNumerator</th>\n",
       "      <th>HelpfulnessDenominator</th>\n",
       "      <th>Score</th>\n",
       "      <th>Time</th>\n",
       "      <th>Summary</th>\n",
       "      <th>Text</th>\n",
       "      <th>...</th>\n",
       "      <th>n_distinct_words</th>\n",
       "      <th>n_words</th>\n",
       "      <th>clean_text</th>\n",
       "      <th>n_distinct_cleanwords</th>\n",
       "      <th>n_cleanwords</th>\n",
       "      <th>cleanwords_ratio</th>\n",
       "      <th>day_of_week</th>\n",
       "      <th>year</th>\n",
       "      <th>month</th>\n",
       "      <th>hour</th>\n",
       "    </tr>\n",
       "  </thead>\n",
       "  <tbody>\n",
       "    <tr>\n",
       "      <th>3</th>\n",
       "      <td>4</td>\n",
       "      <td>B000UA0QIQ</td>\n",
       "      <td>A395BORC6FGVXV</td>\n",
       "      <td>Karl</td>\n",
       "      <td>3</td>\n",
       "      <td>3</td>\n",
       "      <td>2</td>\n",
       "      <td>2011-06-13</td>\n",
       "      <td>Cough Medicine</td>\n",
       "      <td>If you are looking for the secret ingredient i...</td>\n",
       "      <td>...</td>\n",
       "      <td>36</td>\n",
       "      <td>41</td>\n",
       "      <td>[looking, secret, ingredient, robitussin, beli...</td>\n",
       "      <td>18</td>\n",
       "      <td>18</td>\n",
       "      <td>0.439024</td>\n",
       "      <td>0</td>\n",
       "      <td>2011</td>\n",
       "      <td>6</td>\n",
       "      <td>0</td>\n",
       "    </tr>\n",
       "    <tr>\n",
       "      <th>11</th>\n",
       "      <td>12</td>\n",
       "      <td>B0009XLVG0</td>\n",
       "      <td>A2725IB4YY9JEB</td>\n",
       "      <td>A Poeng \"SparkyGoHome\"</td>\n",
       "      <td>4</td>\n",
       "      <td>4</td>\n",
       "      <td>5</td>\n",
       "      <td>2010-08-27</td>\n",
       "      <td>My cats LOVE this \"diet\" food better than thei...</td>\n",
       "      <td>One of my boys needed to lose some weight and ...</td>\n",
       "      <td>...</td>\n",
       "      <td>53</td>\n",
       "      <td>67</td>\n",
       "      <td>[one, boys, needed, lose, weight, put, food, f...</td>\n",
       "      <td>25</td>\n",
       "      <td>31</td>\n",
       "      <td>0.462687</td>\n",
       "      <td>4</td>\n",
       "      <td>2010</td>\n",
       "      <td>8</td>\n",
       "      <td>0</td>\n",
       "    </tr>\n",
       "    <tr>\n",
       "      <th>14</th>\n",
       "      <td>15</td>\n",
       "      <td>B001GVISJM</td>\n",
       "      <td>A2MUGFV2TDQ47K</td>\n",
       "      <td>Lynrie \"Oh HELL no\"</td>\n",
       "      <td>4</td>\n",
       "      <td>5</td>\n",
       "      <td>5</td>\n",
       "      <td>2010-03-12</td>\n",
       "      <td>Strawberry Twizzlers - Yummy</td>\n",
       "      <td>The Strawberry Twizzlers are my guilty pleasur...</td>\n",
       "      <td>...</td>\n",
       "      <td>20</td>\n",
       "      <td>21</td>\n",
       "      <td>[strawberry, twizzlers, guilty, pleasure, yumm...</td>\n",
       "      <td>9</td>\n",
       "      <td>9</td>\n",
       "      <td>0.428571</td>\n",
       "      <td>4</td>\n",
       "      <td>2010</td>\n",
       "      <td>3</td>\n",
       "      <td>0</td>\n",
       "    </tr>\n",
       "    <tr>\n",
       "      <th>15</th>\n",
       "      <td>16</td>\n",
       "      <td>B001GVISJM</td>\n",
       "      <td>A1CZX3CP8IKQIJ</td>\n",
       "      <td>Brian A. Lee</td>\n",
       "      <td>4</td>\n",
       "      <td>5</td>\n",
       "      <td>5</td>\n",
       "      <td>2009-12-29</td>\n",
       "      <td>Lots of twizzlers, just what you expect.</td>\n",
       "      <td>My daughter loves twizzlers and this shipment ...</td>\n",
       "      <td>...</td>\n",
       "      <td>23</td>\n",
       "      <td>26</td>\n",
       "      <td>[daughter, loves, twizzlers, shipment, six, po...</td>\n",
       "      <td>14</td>\n",
       "      <td>16</td>\n",
       "      <td>0.615385</td>\n",
       "      <td>1</td>\n",
       "      <td>2009</td>\n",
       "      <td>12</td>\n",
       "      <td>0</td>\n",
       "    </tr>\n",
       "    <tr>\n",
       "      <th>32</th>\n",
       "      <td>33</td>\n",
       "      <td>B001EO5QW8</td>\n",
       "      <td>AOVROBZ8BNTP7</td>\n",
       "      <td>S. Potter</td>\n",
       "      <td>19</td>\n",
       "      <td>19</td>\n",
       "      <td>4</td>\n",
       "      <td>2006-11-13</td>\n",
       "      <td>Best of the Instant Oatmeals</td>\n",
       "      <td>McCann's Instant Oatmeal is great if you must ...</td>\n",
       "      <td>...</td>\n",
       "      <td>129</td>\n",
       "      <td>206</td>\n",
       "      <td>[mccann, instant, oatmeal, great, must, oatmea...</td>\n",
       "      <td>84</td>\n",
       "      <td>110</td>\n",
       "      <td>0.533981</td>\n",
       "      <td>0</td>\n",
       "      <td>2006</td>\n",
       "      <td>11</td>\n",
       "      <td>0</td>\n",
       "    </tr>\n",
       "  </tbody>\n",
       "</table>\n",
       "<p>5 rows × 24 columns</p>\n",
       "</div>"
      ],
      "text/plain": [
       "    Id   ProductId          UserId             ProfileName  \\\n",
       "3    4  B000UA0QIQ  A395BORC6FGVXV                    Karl   \n",
       "11  12  B0009XLVG0  A2725IB4YY9JEB  A Poeng \"SparkyGoHome\"   \n",
       "14  15  B001GVISJM  A2MUGFV2TDQ47K     Lynrie \"Oh HELL no\"   \n",
       "15  16  B001GVISJM  A1CZX3CP8IKQIJ            Brian A. Lee   \n",
       "32  33  B001EO5QW8   AOVROBZ8BNTP7               S. Potter   \n",
       "\n",
       "    HelpfulnessNumerator  HelpfulnessDenominator  Score       Time  \\\n",
       "3                      3                       3      2 2011-06-13   \n",
       "11                     4                       4      5 2010-08-27   \n",
       "14                     4                       5      5 2010-03-12   \n",
       "15                     4                       5      5 2009-12-29   \n",
       "32                    19                      19      4 2006-11-13   \n",
       "\n",
       "                                              Summary  \\\n",
       "3                                      Cough Medicine   \n",
       "11  My cats LOVE this \"diet\" food better than thei...   \n",
       "14                       Strawberry Twizzlers - Yummy   \n",
       "15           Lots of twizzlers, just what you expect.   \n",
       "32                       Best of the Instant Oatmeals   \n",
       "\n",
       "                                                 Text  ...  n_distinct_words  \\\n",
       "3   If you are looking for the secret ingredient i...  ...                36   \n",
       "11  One of my boys needed to lose some weight and ...  ...                53   \n",
       "14  The Strawberry Twizzlers are my guilty pleasur...  ...                20   \n",
       "15  My daughter loves twizzlers and this shipment ...  ...                23   \n",
       "32  McCann's Instant Oatmeal is great if you must ...  ...               129   \n",
       "\n",
       "   n_words                                         clean_text  \\\n",
       "3       41  [looking, secret, ingredient, robitussin, beli...   \n",
       "11      67  [one, boys, needed, lose, weight, put, food, f...   \n",
       "14      21  [strawberry, twizzlers, guilty, pleasure, yumm...   \n",
       "15      26  [daughter, loves, twizzlers, shipment, six, po...   \n",
       "32     206  [mccann, instant, oatmeal, great, must, oatmea...   \n",
       "\n",
       "   n_distinct_cleanwords  n_cleanwords  cleanwords_ratio day_of_week  year  \\\n",
       "3                     18            18          0.439024           0  2011   \n",
       "11                    25            31          0.462687           4  2010   \n",
       "14                     9             9          0.428571           4  2010   \n",
       "15                    14            16          0.615385           1  2009   \n",
       "32                    84           110          0.533981           0  2006   \n",
       "\n",
       "    month  hour  \n",
       "3       6     0  \n",
       "11      8     0  \n",
       "14      3     0  \n",
       "15     12     0  \n",
       "32     11     0  \n",
       "\n",
       "[5 rows x 24 columns]"
      ]
     },
     "execution_count": 28,
     "metadata": {},
     "output_type": "execute_result"
    }
   ],
   "source": [
    "## Change timestamp format\n",
    "# HelpfulnesswithTarget_df[\"Time\"] = HelpfulnesswithTarget_df[\"Time\"].map(lambda timestamp: pd.Timestamp(timestamp, unit=\"s\"))\n",
    "HelpfulnesswithTarget_df['Time'] = pd.to_datetime(HelpfulnesswithTarget_df['Time'], unit='s')\n",
    "HelpfulnesswithTarget_df['day_of_week'] = HelpfulnesswithTarget_df['Time'].dt.weekday #+ 1\n",
    "HelpfulnesswithTarget_df['year'] = HelpfulnesswithTarget_df['Time'].dt.year\n",
    "HelpfulnesswithTarget_df['month'] = HelpfulnesswithTarget_df['Time'].dt.month\n",
    "HelpfulnesswithTarget_df['hour'] = HelpfulnesswithTarget_df['Time'].dt.hour\n",
    "\n",
    "HelpfulnesswithTarget_df.head()"
   ]
  },
  {
   "cell_type": "code",
   "execution_count": 29,
   "metadata": {},
   "outputs": [
    {
     "data": {
      "text/plain": [
       "0    124167\n",
       "Name: hour, dtype: int64"
      ]
     },
     "execution_count": 29,
     "metadata": {},
     "output_type": "execute_result"
    }
   ],
   "source": [
    "HelpfulnesswithTarget_df['hour'].value_counts().head() # hour is not recorded in the time stamp"
   ]
  },
  {
   "cell_type": "code",
   "execution_count": 30,
   "metadata": {},
   "outputs": [],
   "source": [
    "del HelpfulnesswithTarget_df['hour']"
   ]
  },
  {
   "cell_type": "code",
   "execution_count": 43,
   "metadata": {},
   "outputs": [],
   "source": [
    "def get_season_flags(month):\n",
    "    def winter_flag(month):\n",
    "        if month in [10, 11, 12 , 1, 2]:\n",
    "            return '1'\n",
    "        return '0'\n",
    "    def summer_flag(month):\n",
    "        if month in [7, 8]:\n",
    "            return '1'\n",
    "        return '0'\n",
    "    winter = winter_flag(month)\n",
    "    summer = summer_flag(month)\n",
    "    return [winter, summer]"
   ]
  },
  {
   "cell_type": "code",
   "execution_count": 44,
   "metadata": {},
   "outputs": [
    {
     "data": {
      "text/html": [
       "<div>\n",
       "<style scoped>\n",
       "    .dataframe tbody tr th:only-of-type {\n",
       "        vertical-align: middle;\n",
       "    }\n",
       "\n",
       "    .dataframe tbody tr th {\n",
       "        vertical-align: top;\n",
       "    }\n",
       "\n",
       "    .dataframe thead th {\n",
       "        text-align: right;\n",
       "    }\n",
       "</style>\n",
       "<table border=\"1\" class=\"dataframe\">\n",
       "  <thead>\n",
       "    <tr style=\"text-align: right;\">\n",
       "      <th></th>\n",
       "      <th>Id</th>\n",
       "      <th>ProductId</th>\n",
       "      <th>UserId</th>\n",
       "      <th>ProfileName</th>\n",
       "      <th>HelpfulnessNumerator</th>\n",
       "      <th>HelpfulnessDenominator</th>\n",
       "      <th>Score</th>\n",
       "      <th>Time</th>\n",
       "      <th>Summary</th>\n",
       "      <th>Text</th>\n",
       "      <th>...</th>\n",
       "      <th>n_distinct_cleanwords</th>\n",
       "      <th>n_cleanwords</th>\n",
       "      <th>cleanwords_ratio</th>\n",
       "      <th>day_of_week</th>\n",
       "      <th>year</th>\n",
       "      <th>month</th>\n",
       "      <th>product_freq</th>\n",
       "      <th>reviewer_freq</th>\n",
       "      <th>winter_flag</th>\n",
       "      <th>summer_flag</th>\n",
       "    </tr>\n",
       "  </thead>\n",
       "  <tbody>\n",
       "    <tr>\n",
       "      <th>3</th>\n",
       "      <td>4</td>\n",
       "      <td>B000UA0QIQ</td>\n",
       "      <td>A395BORC6FGVXV</td>\n",
       "      <td>Karl</td>\n",
       "      <td>3</td>\n",
       "      <td>3</td>\n",
       "      <td>2</td>\n",
       "      <td>2011-06-13</td>\n",
       "      <td>Cough Medicine</td>\n",
       "      <td>If you are looking for the secret ingredient i...</td>\n",
       "      <td>...</td>\n",
       "      <td>18</td>\n",
       "      <td>18</td>\n",
       "      <td>0.439024</td>\n",
       "      <td>0</td>\n",
       "      <td>2011</td>\n",
       "      <td>6</td>\n",
       "      <td>1</td>\n",
       "      <td>3</td>\n",
       "      <td>0</td>\n",
       "      <td>0</td>\n",
       "    </tr>\n",
       "    <tr>\n",
       "      <th>11</th>\n",
       "      <td>12</td>\n",
       "      <td>B0009XLVG0</td>\n",
       "      <td>A2725IB4YY9JEB</td>\n",
       "      <td>A Poeng \"SparkyGoHome\"</td>\n",
       "      <td>4</td>\n",
       "      <td>4</td>\n",
       "      <td>5</td>\n",
       "      <td>2010-08-27</td>\n",
       "      <td>My cats LOVE this \"diet\" food better than thei...</td>\n",
       "      <td>One of my boys needed to lose some weight and ...</td>\n",
       "      <td>...</td>\n",
       "      <td>25</td>\n",
       "      <td>31</td>\n",
       "      <td>0.462687</td>\n",
       "      <td>4</td>\n",
       "      <td>2010</td>\n",
       "      <td>8</td>\n",
       "      <td>1</td>\n",
       "      <td>3</td>\n",
       "      <td>0</td>\n",
       "      <td>1</td>\n",
       "    </tr>\n",
       "    <tr>\n",
       "      <th>14</th>\n",
       "      <td>15</td>\n",
       "      <td>B001GVISJM</td>\n",
       "      <td>A2MUGFV2TDQ47K</td>\n",
       "      <td>Lynrie \"Oh HELL no\"</td>\n",
       "      <td>4</td>\n",
       "      <td>5</td>\n",
       "      <td>5</td>\n",
       "      <td>2010-03-12</td>\n",
       "      <td>Strawberry Twizzlers - Yummy</td>\n",
       "      <td>The Strawberry Twizzlers are my guilty pleasur...</td>\n",
       "      <td>...</td>\n",
       "      <td>9</td>\n",
       "      <td>9</td>\n",
       "      <td>0.428571</td>\n",
       "      <td>4</td>\n",
       "      <td>2010</td>\n",
       "      <td>3</td>\n",
       "      <td>2</td>\n",
       "      <td>42</td>\n",
       "      <td>0</td>\n",
       "      <td>0</td>\n",
       "    </tr>\n",
       "    <tr>\n",
       "      <th>15</th>\n",
       "      <td>16</td>\n",
       "      <td>B001GVISJM</td>\n",
       "      <td>A1CZX3CP8IKQIJ</td>\n",
       "      <td>Brian A. Lee</td>\n",
       "      <td>4</td>\n",
       "      <td>5</td>\n",
       "      <td>5</td>\n",
       "      <td>2009-12-29</td>\n",
       "      <td>Lots of twizzlers, just what you expect.</td>\n",
       "      <td>My daughter loves twizzlers and this shipment ...</td>\n",
       "      <td>...</td>\n",
       "      <td>14</td>\n",
       "      <td>16</td>\n",
       "      <td>0.615385</td>\n",
       "      <td>1</td>\n",
       "      <td>2009</td>\n",
       "      <td>12</td>\n",
       "      <td>2</td>\n",
       "      <td>1</td>\n",
       "      <td>1</td>\n",
       "      <td>0</td>\n",
       "    </tr>\n",
       "    <tr>\n",
       "      <th>32</th>\n",
       "      <td>33</td>\n",
       "      <td>B001EO5QW8</td>\n",
       "      <td>AOVROBZ8BNTP7</td>\n",
       "      <td>S. Potter</td>\n",
       "      <td>19</td>\n",
       "      <td>19</td>\n",
       "      <td>4</td>\n",
       "      <td>2006-11-13</td>\n",
       "      <td>Best of the Instant Oatmeals</td>\n",
       "      <td>McCann's Instant Oatmeal is great if you must ...</td>\n",
       "      <td>...</td>\n",
       "      <td>84</td>\n",
       "      <td>110</td>\n",
       "      <td>0.533981</td>\n",
       "      <td>0</td>\n",
       "      <td>2006</td>\n",
       "      <td>11</td>\n",
       "      <td>5</td>\n",
       "      <td>6</td>\n",
       "      <td>1</td>\n",
       "      <td>0</td>\n",
       "    </tr>\n",
       "  </tbody>\n",
       "</table>\n",
       "<p>5 rows × 27 columns</p>\n",
       "</div>"
      ],
      "text/plain": [
       "    Id   ProductId          UserId             ProfileName  \\\n",
       "3    4  B000UA0QIQ  A395BORC6FGVXV                    Karl   \n",
       "11  12  B0009XLVG0  A2725IB4YY9JEB  A Poeng \"SparkyGoHome\"   \n",
       "14  15  B001GVISJM  A2MUGFV2TDQ47K     Lynrie \"Oh HELL no\"   \n",
       "15  16  B001GVISJM  A1CZX3CP8IKQIJ            Brian A. Lee   \n",
       "32  33  B001EO5QW8   AOVROBZ8BNTP7               S. Potter   \n",
       "\n",
       "    HelpfulnessNumerator  HelpfulnessDenominator  Score       Time  \\\n",
       "3                      3                       3      2 2011-06-13   \n",
       "11                     4                       4      5 2010-08-27   \n",
       "14                     4                       5      5 2010-03-12   \n",
       "15                     4                       5      5 2009-12-29   \n",
       "32                    19                      19      4 2006-11-13   \n",
       "\n",
       "                                              Summary  \\\n",
       "3                                      Cough Medicine   \n",
       "11  My cats LOVE this \"diet\" food better than thei...   \n",
       "14                       Strawberry Twizzlers - Yummy   \n",
       "15           Lots of twizzlers, just what you expect.   \n",
       "32                       Best of the Instant Oatmeals   \n",
       "\n",
       "                                                 Text  ...  \\\n",
       "3   If you are looking for the secret ingredient i...  ...   \n",
       "11  One of my boys needed to lose some weight and ...  ...   \n",
       "14  The Strawberry Twizzlers are my guilty pleasur...  ...   \n",
       "15  My daughter loves twizzlers and this shipment ...  ...   \n",
       "32  McCann's Instant Oatmeal is great if you must ...  ...   \n",
       "\n",
       "    n_distinct_cleanwords n_cleanwords cleanwords_ratio day_of_week  year  \\\n",
       "3                      18           18         0.439024           0  2011   \n",
       "11                     25           31         0.462687           4  2010   \n",
       "14                      9            9         0.428571           4  2010   \n",
       "15                     14           16         0.615385           1  2009   \n",
       "32                     84          110         0.533981           0  2006   \n",
       "\n",
       "    month product_freq  reviewer_freq  winter_flag  summer_flag  \n",
       "3       6            1              3            0            0  \n",
       "11      8            1              3            0            1  \n",
       "14      3            2             42            0            0  \n",
       "15     12            2              1            1            0  \n",
       "32     11            5              6            1            0  \n",
       "\n",
       "[5 rows x 27 columns]"
      ]
     },
     "execution_count": 44,
     "metadata": {},
     "output_type": "execute_result"
    }
   ],
   "source": [
    "season_flags = HelpfulnesswithTarget_df.apply(\n",
    "    lambda x: pd.Series(\n",
    "        get_season_flags(x.month), \n",
    "        index = [\"winter_flag\", \"summer_flag\"]\n",
    "    ),\n",
    "    axis=1\n",
    ")\n",
    "HelpfulnesswithTarget_df = pd.concat([HelpfulnesswithTarget_df[:], season_flags[:]], axis=1)\n",
    "HelpfulnesswithTarget_df.head()"
   ]
  },
  {
   "cell_type": "markdown",
   "metadata": {},
   "source": [
    "#### 4. Product and reviewer variables\n",
    "- Number of times product appears in reviews (product_freq)\n",
    "- Number of times reviewer appears in reviews (reviewer_freq)\n",
    "\n",
    "Could have added:\n",
    "- average number of reviews per reviewer\n",
    "- average number of reviews per product"
   ]
  },
  {
   "cell_type": "code",
   "execution_count": 31,
   "metadata": {},
   "outputs": [
    {
     "data": {
      "text/plain": [
       "B003B3OOPA    200\n",
       "B000VK08OC    187\n",
       "B006Q820X0    144\n",
       "B004SRFYMK    137\n",
       "B000CNB4LE    137\n",
       "Name: ProductId, dtype: int64"
      ]
     },
     "execution_count": 31,
     "metadata": {},
     "output_type": "execute_result"
    }
   ],
   "source": [
    "## Counts per product\n",
    "HelpfulnesswithTarget_df.ProductId.value_counts().head()"
   ]
  },
  {
   "cell_type": "code",
   "execution_count": 32,
   "metadata": {},
   "outputs": [
    {
     "data": {
      "text/html": [
       "<div>\n",
       "<style scoped>\n",
       "    .dataframe tbody tr th:only-of-type {\n",
       "        vertical-align: middle;\n",
       "    }\n",
       "\n",
       "    .dataframe tbody tr th {\n",
       "        vertical-align: top;\n",
       "    }\n",
       "\n",
       "    .dataframe thead th {\n",
       "        text-align: right;\n",
       "    }\n",
       "</style>\n",
       "<table border=\"1\" class=\"dataframe\">\n",
       "  <thead>\n",
       "    <tr style=\"text-align: right;\">\n",
       "      <th></th>\n",
       "      <th>Id</th>\n",
       "      <th>ProductId</th>\n",
       "      <th>UserId</th>\n",
       "      <th>ProfileName</th>\n",
       "      <th>HelpfulnessNumerator</th>\n",
       "      <th>HelpfulnessDenominator</th>\n",
       "      <th>Score</th>\n",
       "      <th>Time</th>\n",
       "      <th>Summary</th>\n",
       "      <th>Text</th>\n",
       "      <th>...</th>\n",
       "      <th>n_distinct_words</th>\n",
       "      <th>n_words</th>\n",
       "      <th>clean_text</th>\n",
       "      <th>n_distinct_cleanwords</th>\n",
       "      <th>n_cleanwords</th>\n",
       "      <th>cleanwords_ratio</th>\n",
       "      <th>day_of_week</th>\n",
       "      <th>year</th>\n",
       "      <th>month</th>\n",
       "      <th>product_freq</th>\n",
       "    </tr>\n",
       "  </thead>\n",
       "  <tbody>\n",
       "    <tr>\n",
       "      <th>368064</th>\n",
       "      <td>368065</td>\n",
       "      <td>B003B3OOPA</td>\n",
       "      <td>A3IX5ZKGGYUGLF</td>\n",
       "      <td>Mary Rose</td>\n",
       "      <td>9</td>\n",
       "      <td>9</td>\n",
       "      <td>5</td>\n",
       "      <td>2012-01-12</td>\n",
       "      <td>AMAZING</td>\n",
       "      <td>Trying to find a natural alternative for my ac...</td>\n",
       "      <td>...</td>\n",
       "      <td>208</td>\n",
       "      <td>376</td>\n",
       "      <td>[trying, find, natural, alternative, acne, cam...</td>\n",
       "      <td>144</td>\n",
       "      <td>196</td>\n",
       "      <td>0.521277</td>\n",
       "      <td>3</td>\n",
       "      <td>2012</td>\n",
       "      <td>1</td>\n",
       "      <td>200</td>\n",
       "    </tr>\n",
       "    <tr>\n",
       "      <th>367574</th>\n",
       "      <td>367575</td>\n",
       "      <td>B003B3OOPA</td>\n",
       "      <td>A3MX83L81I5OU0</td>\n",
       "      <td>lexylex</td>\n",
       "      <td>3</td>\n",
       "      <td>3</td>\n",
       "      <td>5</td>\n",
       "      <td>2011-02-23</td>\n",
       "      <td>Love It</td>\n",
       "      <td>This stuff is so great. It smells wonderful an...</td>\n",
       "      <td>...</td>\n",
       "      <td>32</td>\n",
       "      <td>39</td>\n",
       "      <td>[stuff, great, smells, wonderful, melts, like,...</td>\n",
       "      <td>18</td>\n",
       "      <td>19</td>\n",
       "      <td>0.487179</td>\n",
       "      <td>2</td>\n",
       "      <td>2011</td>\n",
       "      <td>2</td>\n",
       "      <td>200</td>\n",
       "    </tr>\n",
       "    <tr>\n",
       "      <th>367564</th>\n",
       "      <td>367565</td>\n",
       "      <td>B003B3OOPA</td>\n",
       "      <td>A313E4ZC69N13A</td>\n",
       "      <td>Noura</td>\n",
       "      <td>3</td>\n",
       "      <td>3</td>\n",
       "      <td>5</td>\n",
       "      <td>2012-02-17</td>\n",
       "      <td>Tastes great and good for you</td>\n",
       "      <td>Coconut oil is so good for you and tasty. It c...</td>\n",
       "      <td>...</td>\n",
       "      <td>34</td>\n",
       "      <td>39</td>\n",
       "      <td>[coconut, oil, good, tasty, contains, 62, mct,...</td>\n",
       "      <td>20</td>\n",
       "      <td>21</td>\n",
       "      <td>0.538462</td>\n",
       "      <td>4</td>\n",
       "      <td>2012</td>\n",
       "      <td>2</td>\n",
       "      <td>200</td>\n",
       "    </tr>\n",
       "    <tr>\n",
       "      <th>367565</th>\n",
       "      <td>367566</td>\n",
       "      <td>B003B3OOPA</td>\n",
       "      <td>AN20622QMIJVV</td>\n",
       "      <td>Ajanta</td>\n",
       "      <td>3</td>\n",
       "      <td>3</td>\n",
       "      <td>5</td>\n",
       "      <td>2012-02-17</td>\n",
       "      <td>Absolutely great!!</td>\n",
       "      <td>I LOVE the organic coconut oil by Nature's Way...</td>\n",
       "      <td>...</td>\n",
       "      <td>91</td>\n",
       "      <td>142</td>\n",
       "      <td>[love, organic, coconut, oil, nature, way, bes...</td>\n",
       "      <td>56</td>\n",
       "      <td>71</td>\n",
       "      <td>0.500000</td>\n",
       "      <td>4</td>\n",
       "      <td>2012</td>\n",
       "      <td>2</td>\n",
       "      <td>200</td>\n",
       "    </tr>\n",
       "    <tr>\n",
       "      <th>367566</th>\n",
       "      <td>367567</td>\n",
       "      <td>B003B3OOPA</td>\n",
       "      <td>A2RFGRBQ5NZFOP</td>\n",
       "      <td>A.D.</td>\n",
       "      <td>3</td>\n",
       "      <td>3</td>\n",
       "      <td>5</td>\n",
       "      <td>2012-02-09</td>\n",
       "      <td>Delightful taste!</td>\n",
       "      <td>I'm just starting out with coconut oil, and af...</td>\n",
       "      <td>...</td>\n",
       "      <td>115</td>\n",
       "      <td>201</td>\n",
       "      <td>[starting, coconut, oil, trying, product, well...</td>\n",
       "      <td>69</td>\n",
       "      <td>91</td>\n",
       "      <td>0.452736</td>\n",
       "      <td>3</td>\n",
       "      <td>2012</td>\n",
       "      <td>2</td>\n",
       "      <td>200</td>\n",
       "    </tr>\n",
       "  </tbody>\n",
       "</table>\n",
       "<p>5 rows × 24 columns</p>\n",
       "</div>"
      ],
      "text/plain": [
       "            Id   ProductId          UserId ProfileName  HelpfulnessNumerator  \\\n",
       "368064  368065  B003B3OOPA  A3IX5ZKGGYUGLF   Mary Rose                     9   \n",
       "367574  367575  B003B3OOPA  A3MX83L81I5OU0     lexylex                     3   \n",
       "367564  367565  B003B3OOPA  A313E4ZC69N13A       Noura                     3   \n",
       "367565  367566  B003B3OOPA   AN20622QMIJVV      Ajanta                     3   \n",
       "367566  367567  B003B3OOPA  A2RFGRBQ5NZFOP        A.D.                     3   \n",
       "\n",
       "        HelpfulnessDenominator  Score       Time  \\\n",
       "368064                       9      5 2012-01-12   \n",
       "367574                       3      5 2011-02-23   \n",
       "367564                       3      5 2012-02-17   \n",
       "367565                       3      5 2012-02-17   \n",
       "367566                       3      5 2012-02-09   \n",
       "\n",
       "                              Summary  \\\n",
       "368064                        AMAZING   \n",
       "367574                        Love It   \n",
       "367564  Tastes great and good for you   \n",
       "367565             Absolutely great!!   \n",
       "367566              Delightful taste!   \n",
       "\n",
       "                                                     Text  ...  \\\n",
       "368064  Trying to find a natural alternative for my ac...  ...   \n",
       "367574  This stuff is so great. It smells wonderful an...  ...   \n",
       "367564  Coconut oil is so good for you and tasty. It c...  ...   \n",
       "367565  I LOVE the organic coconut oil by Nature's Way...  ...   \n",
       "367566  I'm just starting out with coconut oil, and af...  ...   \n",
       "\n",
       "        n_distinct_words n_words  \\\n",
       "368064               208     376   \n",
       "367574                32      39   \n",
       "367564                34      39   \n",
       "367565                91     142   \n",
       "367566               115     201   \n",
       "\n",
       "                                               clean_text  \\\n",
       "368064  [trying, find, natural, alternative, acne, cam...   \n",
       "367574  [stuff, great, smells, wonderful, melts, like,...   \n",
       "367564  [coconut, oil, good, tasty, contains, 62, mct,...   \n",
       "367565  [love, organic, coconut, oil, nature, way, bes...   \n",
       "367566  [starting, coconut, oil, trying, product, well...   \n",
       "\n",
       "       n_distinct_cleanwords  n_cleanwords  cleanwords_ratio day_of_week  \\\n",
       "368064                   144           196          0.521277           3   \n",
       "367574                    18            19          0.487179           2   \n",
       "367564                    20            21          0.538462           4   \n",
       "367565                    56            71          0.500000           4   \n",
       "367566                    69            91          0.452736           3   \n",
       "\n",
       "        year  month  product_freq  \n",
       "368064  2012      1           200  \n",
       "367574  2011      2           200  \n",
       "367564  2012      2           200  \n",
       "367565  2012      2           200  \n",
       "367566  2012      2           200  \n",
       "\n",
       "[5 rows x 24 columns]"
      ]
     },
     "execution_count": 32,
     "metadata": {},
     "output_type": "execute_result"
    }
   ],
   "source": [
    "HelpfulnesswithTarget_df['product_freq'] = HelpfulnesswithTarget_df.groupby('ProductId')['ProductId'].transform('count')\n",
    "HelpfulnesswithTarget_df.sort_values('product_freq', ascending=False).head()"
   ]
  },
  {
   "cell_type": "code",
   "execution_count": 33,
   "metadata": {},
   "outputs": [
    {
     "data": {
      "text/plain": [
       "A3TVZM3ZIXG8YW    191\n",
       "A1YUL9PCJR3JTY    165\n",
       "A281NPSIMI1C2R    132\n",
       "A29JUMRL1US6YP    129\n",
       "A3OXHLG6DIBRW8    103\n",
       "Name: UserId, dtype: int64"
      ]
     },
     "execution_count": 33,
     "metadata": {},
     "output_type": "execute_result"
    }
   ],
   "source": [
    "## Counts per reviewer\n",
    "HelpfulnesswithTarget_df.UserId.value_counts().head()"
   ]
  },
  {
   "cell_type": "code",
   "execution_count": 34,
   "metadata": {},
   "outputs": [
    {
     "data": {
      "text/html": [
       "<div>\n",
       "<style scoped>\n",
       "    .dataframe tbody tr th:only-of-type {\n",
       "        vertical-align: middle;\n",
       "    }\n",
       "\n",
       "    .dataframe tbody tr th {\n",
       "        vertical-align: top;\n",
       "    }\n",
       "\n",
       "    .dataframe thead th {\n",
       "        text-align: right;\n",
       "    }\n",
       "</style>\n",
       "<table border=\"1\" class=\"dataframe\">\n",
       "  <thead>\n",
       "    <tr style=\"text-align: right;\">\n",
       "      <th></th>\n",
       "      <th>Id</th>\n",
       "      <th>ProductId</th>\n",
       "      <th>UserId</th>\n",
       "      <th>ProfileName</th>\n",
       "      <th>HelpfulnessNumerator</th>\n",
       "      <th>HelpfulnessDenominator</th>\n",
       "      <th>Score</th>\n",
       "      <th>Time</th>\n",
       "      <th>Summary</th>\n",
       "      <th>Text</th>\n",
       "      <th>...</th>\n",
       "      <th>n_words</th>\n",
       "      <th>clean_text</th>\n",
       "      <th>n_distinct_cleanwords</th>\n",
       "      <th>n_cleanwords</th>\n",
       "      <th>cleanwords_ratio</th>\n",
       "      <th>day_of_week</th>\n",
       "      <th>year</th>\n",
       "      <th>month</th>\n",
       "      <th>product_freq</th>\n",
       "      <th>reviewer_freq</th>\n",
       "    </tr>\n",
       "  </thead>\n",
       "  <tbody>\n",
       "    <tr>\n",
       "      <th>149943</th>\n",
       "      <td>149944</td>\n",
       "      <td>B003M60K54</td>\n",
       "      <td>A3TVZM3ZIXG8YW</td>\n",
       "      <td>christopher hayes</td>\n",
       "      <td>18</td>\n",
       "      <td>24</td>\n",
       "      <td>1</td>\n",
       "      <td>2010-12-04</td>\n",
       "      <td>Filler food is empty, leaves your cat always n...</td>\n",
       "      <td>This review will make me sound really stupid, ...</td>\n",
       "      <td>...</td>\n",
       "      <td>889</td>\n",
       "      <td>[review, make, sound, really, stupid, whatever...</td>\n",
       "      <td>273</td>\n",
       "      <td>434</td>\n",
       "      <td>0.488189</td>\n",
       "      <td>5</td>\n",
       "      <td>2010</td>\n",
       "      <td>12</td>\n",
       "      <td>33</td>\n",
       "      <td>191</td>\n",
       "    </tr>\n",
       "    <tr>\n",
       "      <th>248203</th>\n",
       "      <td>248204</td>\n",
       "      <td>B003MWCXHQ</td>\n",
       "      <td>A3TVZM3ZIXG8YW</td>\n",
       "      <td>christopher hayes</td>\n",
       "      <td>11</td>\n",
       "      <td>16</td>\n",
       "      <td>1</td>\n",
       "      <td>2010-12-04</td>\n",
       "      <td>Filler food is empty, leaves your cat always n...</td>\n",
       "      <td>This review will make me sound really stupid, ...</td>\n",
       "      <td>...</td>\n",
       "      <td>889</td>\n",
       "      <td>[review, make, sound, really, stupid, whatever...</td>\n",
       "      <td>273</td>\n",
       "      <td>434</td>\n",
       "      <td>0.488189</td>\n",
       "      <td>5</td>\n",
       "      <td>2010</td>\n",
       "      <td>12</td>\n",
       "      <td>2</td>\n",
       "      <td>191</td>\n",
       "    </tr>\n",
       "    <tr>\n",
       "      <th>247110</th>\n",
       "      <td>247111</td>\n",
       "      <td>B003M5TG28</td>\n",
       "      <td>A3TVZM3ZIXG8YW</td>\n",
       "      <td>christopher hayes</td>\n",
       "      <td>2</td>\n",
       "      <td>4</td>\n",
       "      <td>1</td>\n",
       "      <td>2010-12-04</td>\n",
       "      <td>Filler food is empty, leaves your cat always n...</td>\n",
       "      <td>This review will make me sound really stupid, ...</td>\n",
       "      <td>...</td>\n",
       "      <td>889</td>\n",
       "      <td>[review, make, sound, really, stupid, whatever...</td>\n",
       "      <td>273</td>\n",
       "      <td>434</td>\n",
       "      <td>0.488189</td>\n",
       "      <td>5</td>\n",
       "      <td>2010</td>\n",
       "      <td>12</td>\n",
       "      <td>33</td>\n",
       "      <td>191</td>\n",
       "    </tr>\n",
       "    <tr>\n",
       "      <th>369794</th>\n",
       "      <td>369795</td>\n",
       "      <td>B000084DWM</td>\n",
       "      <td>A3TVZM3ZIXG8YW</td>\n",
       "      <td>christopher hayes</td>\n",
       "      <td>11</td>\n",
       "      <td>15</td>\n",
       "      <td>1</td>\n",
       "      <td>2010-12-04</td>\n",
       "      <td>Filler food is empty, leaves your cat always n...</td>\n",
       "      <td>This review will make me sound really stupid, ...</td>\n",
       "      <td>...</td>\n",
       "      <td>889</td>\n",
       "      <td>[review, make, sound, really, stupid, whatever...</td>\n",
       "      <td>273</td>\n",
       "      <td>434</td>\n",
       "      <td>0.488189</td>\n",
       "      <td>5</td>\n",
       "      <td>2010</td>\n",
       "      <td>12</td>\n",
       "      <td>33</td>\n",
       "      <td>191</td>\n",
       "    </tr>\n",
       "    <tr>\n",
       "      <th>432655</th>\n",
       "      <td>432656</td>\n",
       "      <td>B003MWBFXY</td>\n",
       "      <td>A3TVZM3ZIXG8YW</td>\n",
       "      <td>christopher hayes</td>\n",
       "      <td>11</td>\n",
       "      <td>15</td>\n",
       "      <td>1</td>\n",
       "      <td>2010-12-04</td>\n",
       "      <td>Filler food is empty, leaves your cat always n...</td>\n",
       "      <td>This review will make me sound really stupid, ...</td>\n",
       "      <td>...</td>\n",
       "      <td>889</td>\n",
       "      <td>[review, make, sound, really, stupid, whatever...</td>\n",
       "      <td>273</td>\n",
       "      <td>434</td>\n",
       "      <td>0.488189</td>\n",
       "      <td>5</td>\n",
       "      <td>2010</td>\n",
       "      <td>12</td>\n",
       "      <td>33</td>\n",
       "      <td>191</td>\n",
       "    </tr>\n",
       "  </tbody>\n",
       "</table>\n",
       "<p>5 rows × 25 columns</p>\n",
       "</div>"
      ],
      "text/plain": [
       "            Id   ProductId          UserId        ProfileName  \\\n",
       "149943  149944  B003M60K54  A3TVZM3ZIXG8YW  christopher hayes   \n",
       "248203  248204  B003MWCXHQ  A3TVZM3ZIXG8YW  christopher hayes   \n",
       "247110  247111  B003M5TG28  A3TVZM3ZIXG8YW  christopher hayes   \n",
       "369794  369795  B000084DWM  A3TVZM3ZIXG8YW  christopher hayes   \n",
       "432655  432656  B003MWBFXY  A3TVZM3ZIXG8YW  christopher hayes   \n",
       "\n",
       "        HelpfulnessNumerator  HelpfulnessDenominator  Score       Time  \\\n",
       "149943                    18                      24      1 2010-12-04   \n",
       "248203                    11                      16      1 2010-12-04   \n",
       "247110                     2                       4      1 2010-12-04   \n",
       "369794                    11                      15      1 2010-12-04   \n",
       "432655                    11                      15      1 2010-12-04   \n",
       "\n",
       "                                                  Summary  \\\n",
       "149943  Filler food is empty, leaves your cat always n...   \n",
       "248203  Filler food is empty, leaves your cat always n...   \n",
       "247110  Filler food is empty, leaves your cat always n...   \n",
       "369794  Filler food is empty, leaves your cat always n...   \n",
       "432655  Filler food is empty, leaves your cat always n...   \n",
       "\n",
       "                                                     Text  ...  n_words  \\\n",
       "149943  This review will make me sound really stupid, ...  ...      889   \n",
       "248203  This review will make me sound really stupid, ...  ...      889   \n",
       "247110  This review will make me sound really stupid, ...  ...      889   \n",
       "369794  This review will make me sound really stupid, ...  ...      889   \n",
       "432655  This review will make me sound really stupid, ...  ...      889   \n",
       "\n",
       "                                               clean_text  \\\n",
       "149943  [review, make, sound, really, stupid, whatever...   \n",
       "248203  [review, make, sound, really, stupid, whatever...   \n",
       "247110  [review, make, sound, really, stupid, whatever...   \n",
       "369794  [review, make, sound, really, stupid, whatever...   \n",
       "432655  [review, make, sound, really, stupid, whatever...   \n",
       "\n",
       "       n_distinct_cleanwords n_cleanwords  cleanwords_ratio  day_of_week  \\\n",
       "149943                   273          434          0.488189            5   \n",
       "248203                   273          434          0.488189            5   \n",
       "247110                   273          434          0.488189            5   \n",
       "369794                   273          434          0.488189            5   \n",
       "432655                   273          434          0.488189            5   \n",
       "\n",
       "        year  month  product_freq  reviewer_freq  \n",
       "149943  2010     12            33            191  \n",
       "248203  2010     12             2            191  \n",
       "247110  2010     12            33            191  \n",
       "369794  2010     12            33            191  \n",
       "432655  2010     12            33            191  \n",
       "\n",
       "[5 rows x 25 columns]"
      ]
     },
     "execution_count": 34,
     "metadata": {},
     "output_type": "execute_result"
    }
   ],
   "source": [
    "HelpfulnesswithTarget_df['reviewer_freq'] = HelpfulnesswithTarget_df.groupby('UserId')['UserId'].transform('count')\n",
    "HelpfulnesswithTarget_df.sort_values('reviewer_freq', ascending=False).head()"
   ]
  },
  {
   "cell_type": "markdown",
   "metadata": {},
   "source": [
    "### 5. Data Exploration\n",
    "\n",
    "This section includes plots and graphs from the data set with the variables created from the previous section. Plus their comparison with the target variable. It gives an idea of which are the important variables in the model. It also helpsdecide which variables to take out of the study and it also helps create more variables if needed. \n",
    "\n",
    "The data set at this point includes:\n",
    "- Reviews from Oct 2001 - Oct 2012\n",
    "- 124,167 reviews\n",
    "- 69,408 users\n",
    "- 28,311 products"
   ]
  },
  {
   "cell_type": "code",
   "execution_count": 36,
   "metadata": {},
   "outputs": [
    {
     "data": {
      "text/html": [
       "<div>\n",
       "<style scoped>\n",
       "    .dataframe tbody tr th:only-of-type {\n",
       "        vertical-align: middle;\n",
       "    }\n",
       "\n",
       "    .dataframe tbody tr th {\n",
       "        vertical-align: top;\n",
       "    }\n",
       "\n",
       "    .dataframe thead th {\n",
       "        text-align: right;\n",
       "    }\n",
       "</style>\n",
       "<table border=\"1\" class=\"dataframe\">\n",
       "  <thead>\n",
       "    <tr style=\"text-align: right;\">\n",
       "      <th></th>\n",
       "      <th>count</th>\n",
       "      <th>unique</th>\n",
       "    </tr>\n",
       "  </thead>\n",
       "  <tbody>\n",
       "    <tr>\n",
       "      <th>ProductId</th>\n",
       "      <td>124167</td>\n",
       "      <td>28311</td>\n",
       "    </tr>\n",
       "    <tr>\n",
       "      <th>UserId</th>\n",
       "      <td>124167</td>\n",
       "      <td>69408</td>\n",
       "    </tr>\n",
       "  </tbody>\n",
       "</table>\n",
       "</div>"
      ],
      "text/plain": [
       "            count unique\n",
       "ProductId  124167  28311\n",
       "UserId     124167  69408"
      ]
     },
     "execution_count": 36,
     "metadata": {},
     "output_type": "execute_result"
    }
   ],
   "source": [
    "HelpfulnesswithTarget_df[['ProductId', 'UserId']].describe().T[['count','unique']]\n",
    "# HelpfulnesswithTarget_df.ProductId.nunique()"
   ]
  },
  {
   "cell_type": "code",
   "execution_count": 37,
   "metadata": {
    "collapsed": true
   },
   "outputs": [
    {
     "name": "stdout",
     "output_type": "stream",
     "text": [
      "Id                                 int64\n",
      "ProductId                         object\n",
      "UserId                            object\n",
      "ProfileName                       object\n",
      "HelpfulnessNumerator               int64\n",
      "HelpfulnessDenominator             int64\n",
      "Score                              int64\n",
      "Time                      datetime64[ns]\n",
      "Summary                           object\n",
      "Text                              object\n",
      "helpfulness_ratio                float64\n",
      "useful_flag                       object\n",
      "negative_rating_flag              object\n",
      "positive_rating_flag              object\n",
      "n_distinct_words                   int64\n",
      "n_words                            int64\n",
      "clean_text                        object\n",
      "n_distinct_cleanwords              int64\n",
      "n_cleanwords                       int64\n",
      "cleanwords_ratio                 float64\n",
      "day_of_week                        int64\n",
      "year                               int64\n",
      "month                              int64\n",
      "product_freq                       int64\n",
      "reviewer_freq                      int64\n",
      "dtype: object\n"
     ]
    }
   ],
   "source": [
    "print(HelpfulnesswithTarget_df.dtypes)"
   ]
  },
  {
   "cell_type": "code",
   "execution_count": 55,
   "metadata": {},
   "outputs": [],
   "source": [
    "HelpfulnesswithTarget_df['day_of_week'] = HelpfulnesswithTarget_df['day_of_week'].astype('category') \n",
    "HelpfulnesswithTarget_df['year'] = HelpfulnesswithTarget_df['year'].astype('category') \n",
    "HelpfulnesswithTarget_df['month'] = HelpfulnesswithTarget_df['month'].astype('category') "
   ]
  },
  {
   "cell_type": "markdown",
   "metadata": {},
   "source": [
    "#### => Looking at the target variable\n",
    "\n",
    "When having a look at the target variable, it is possible to see that there are more 1's than 0's. This imbalance will need to be corrected so that the model ingests balanced data as this will help with performance and will give robustness to our model "
   ]
  },
  {
   "cell_type": "code",
   "execution_count": 38,
   "metadata": {},
   "outputs": [
    {
     "data": {
      "text/plain": [
       "<matplotlib.axes._subplots.AxesSubplot at 0x56423f30>"
      ]
     },
     "execution_count": 38,
     "metadata": {},
     "output_type": "execute_result"
    },
    {
     "data": {
      "image/png": "[encoded data removed]",
      "text/plain": [
       "<Figure size 432x288 with 1 Axes>"
      ]
     },
     "metadata": {
      "needs_background": "light"
     },
     "output_type": "display_data"
    }
   ],
   "source": [
    "sns.distplot(HelpfulnesswithTarget_df[['helpfulness_ratio']],kde=False, rug=False)\n",
    "# plt.hist(HelpfulnesswithTarget_df[['helpfulness_ratio']])"
   ]
  },
  {
   "cell_type": "code",
   "execution_count": 44,
   "metadata": {},
   "outputs": [
    {
     "name": "stdout",
     "output_type": "stream",
     "text": [
      "1    82096\n",
      "0    42071\n",
      "Name: useful_flag, dtype: int64\n"
     ]
    },
    {
     "data": {
      "text/plain": [
       "<seaborn.axisgrid.FacetGrid at 0xebbccf0>"
      ]
     },
     "execution_count": 44,
     "metadata": {},
     "output_type": "execute_result"
    },
    {
     "data": {
      "image/png": "[encoded data removed]",
      "text/plain": [
       "<Figure size 360x360 with 1 Axes>"
      ]
     },
     "metadata": {
      "needs_background": "light"
     },
     "output_type": "display_data"
    }
   ],
   "source": [
    "print(HelpfulnesswithTarget_df['useful_flag'].value_counts().head())\n",
    "sns.catplot(x=\"useful_flag\", kind=\"count\", data = HelpfulnesswithTarget_df)"
   ]
  },
  {
   "cell_type": "markdown",
   "metadata": {},
   "source": [
    "#### => Numeric variable means related to target variable\n",
    "Just by looking at the mean table for the numerical and ordinal features it is possible to see that Score will be an important variable to distinct between the two outcomes. This because useful reviews have products which on average got higher scores (4.2) and not useful reviews have products which on average have lower product ratings (2.6) \n",
    "The plots displayed also show a clear difference. "
   ]
  },
  {
   "cell_type": "code",
   "execution_count": 42,
   "metadata": {},
   "outputs": [
    {
     "data": {
      "text/html": [
       "<div>\n",
       "<style scoped>\n",
       "    .dataframe tbody tr th:only-of-type {\n",
       "        vertical-align: middle;\n",
       "    }\n",
       "\n",
       "    .dataframe tbody tr th {\n",
       "        vertical-align: top;\n",
       "    }\n",
       "\n",
       "    .dataframe thead th {\n",
       "        text-align: right;\n",
       "    }\n",
       "</style>\n",
       "<table border=\"1\" class=\"dataframe\">\n",
       "  <thead>\n",
       "    <tr style=\"text-align: right;\">\n",
       "      <th></th>\n",
       "      <th>helpfulness_ratio</th>\n",
       "      <th>Score</th>\n",
       "      <th>n_distinct_words</th>\n",
       "      <th>n_distinct_cleanwords</th>\n",
       "      <th>n_words</th>\n",
       "      <th>n_cleanwords</th>\n",
       "      <th>cleanwords_ratio</th>\n",
       "      <th>product_freq</th>\n",
       "      <th>reviewer_freq</th>\n",
       "    </tr>\n",
       "    <tr>\n",
       "      <th>useful_flag</th>\n",
       "      <th></th>\n",
       "      <th></th>\n",
       "      <th></th>\n",
       "      <th></th>\n",
       "      <th></th>\n",
       "      <th></th>\n",
       "      <th></th>\n",
       "      <th></th>\n",
       "      <th></th>\n",
       "    </tr>\n",
       "  </thead>\n",
       "  <tbody>\n",
       "    <tr>\n",
       "      <th>0</th>\n",
       "      <td>0.408305</td>\n",
       "      <td>2.664520</td>\n",
       "      <td>63.127570</td>\n",
       "      <td>37.632621</td>\n",
       "      <td>92.999620</td>\n",
       "      <td>47.148653</td>\n",
       "      <td>0.500941</td>\n",
       "      <td>24.106178</td>\n",
       "      <td>6.077702</td>\n",
       "    </tr>\n",
       "    <tr>\n",
       "      <th>1</th>\n",
       "      <td>0.942632</td>\n",
       "      <td>4.211021</td>\n",
       "      <td>75.762875</td>\n",
       "      <td>46.369165</td>\n",
       "      <td>115.005993</td>\n",
       "      <td>58.813742</td>\n",
       "      <td>0.506060</td>\n",
       "      <td>19.484701</td>\n",
       "      <td>6.460169</td>\n",
       "    </tr>\n",
       "  </tbody>\n",
       "</table>\n",
       "</div>"
      ],
      "text/plain": [
       "             helpfulness_ratio     Score  n_distinct_words  \\\n",
       "useful_flag                                                  \n",
       "0                     0.408305  2.664520         63.127570   \n",
       "1                     0.942632  4.211021         75.762875   \n",
       "\n",
       "             n_distinct_cleanwords     n_words  n_cleanwords  \\\n",
       "useful_flag                                                    \n",
       "0                        37.632621   92.999620     47.148653   \n",
       "1                        46.369165  115.005993     58.813742   \n",
       "\n",
       "             cleanwords_ratio  product_freq  reviewer_freq  \n",
       "useful_flag                                                 \n",
       "0                    0.500941     24.106178       6.077702  \n",
       "1                    0.506060     19.484701       6.460169  "
      ]
     },
     "execution_count": 42,
     "metadata": {},
     "output_type": "execute_result"
    }
   ],
   "source": [
    "for_exploration = HelpfulnesswithTarget_df[['useful_flag'\n",
    "                                           ,'helpfulness_ratio'\n",
    "                                           ,'Score'\n",
    "                                           ,'negative_rating_flag'\n",
    "                                           ,'positive_rating_flag'\n",
    "                                           ,'n_distinct_words'\n",
    "                                           ,'n_distinct_cleanwords'\n",
    "                                           ,'n_words'\n",
    "                                           ,'n_cleanwords'\n",
    "                                           ,'cleanwords_ratio'\n",
    "                                           ,'product_freq'\n",
    "                                           ,'reviewer_freq']]\n",
    "\n",
    "for_exploration.groupby('useful_flag').mean()"
   ]
  },
  {
   "cell_type": "code",
   "execution_count": 46,
   "metadata": {},
   "outputs": [
    {
     "data": {
      "text/plain": [
       "<seaborn.axisgrid.FacetGrid at 0x4c1604f0>"
      ]
     },
     "execution_count": 46,
     "metadata": {},
     "output_type": "execute_result"
    },
    {
     "data": {
      "image/png": "[encoded data removed]",
      "text/plain": [
       "<Figure size 360x360 with 1 Axes>"
      ]
     },
     "metadata": {
      "needs_background": "light"
     },
     "output_type": "display_data"
    }
   ],
   "source": [
    "HelpfulnesswithTarget_df['negative_rating_flag'].value_counts().head()\n",
    "sns.catplot(x=\"negative_rating_flag\", y=\"helpfulness_ratio\", kind=\"box\", data=HelpfulnesswithTarget_df)"
   ]
  },
  {
   "cell_type": "code",
   "execution_count": 47,
   "metadata": {},
   "outputs": [
    {
     "data": {
      "text/plain": [
       "<seaborn.axisgrid.FacetGrid at 0x4cb36e10>"
      ]
     },
     "execution_count": 47,
     "metadata": {},
     "output_type": "execute_result"
    },
    {
     "data": {
      "image/png": "[encoded data removed]",
      "text/plain": [
       "<Figure size 360x360 with 1 Axes>"
      ]
     },
     "metadata": {
      "needs_background": "light"
     },
     "output_type": "display_data"
    }
   ],
   "source": [
    "HelpfulnesswithTarget_df['positive_rating_flag'].value_counts().head()\n",
    "sns.catplot(x=\"positive_rating_flag\", y=\"helpfulness_ratio\", kind=\"box\", data=HelpfulnesswithTarget_df)"
   ]
  },
  {
   "cell_type": "code",
   "execution_count": 49,
   "metadata": {},
   "outputs": [
    {
     "data": {
      "text/plain": [
       "<seaborn.axisgrid.FacetGrid at 0x57db7a70>"
      ]
     },
     "execution_count": 49,
     "metadata": {},
     "output_type": "execute_result"
    },
    {
     "data": {
      "image/png": "[encoded data removed]",
      "text/plain": [
       "<Figure size 360x360 with 1 Axes>"
      ]
     },
     "metadata": {
      "needs_background": "light"
     },
     "output_type": "display_data"
    },
    {
     "data": {
      "image/png": "[encoded data removed]",
      "text/plain": [
       "<Figure size 360x360 with 1 Axes>"
      ]
     },
     "metadata": {
      "needs_background": "light"
     },
     "output_type": "display_data"
    }
   ],
   "source": [
    "## Score Histograms\n",
    "## Seaborn histogram\n",
    "sns.catplot(x=\"Score\", kind=\"count\", data = HelpfulnesswithTarget_df)\n",
    "sns.catplot(x=\"Score\", y=\"helpfulness_ratio\", kind=\"box\", data=HelpfulnesswithTarget_df)"
   ]
  },
  {
   "cell_type": "markdown",
   "metadata": {},
   "source": [
    "#### => Looking at reviews and products per year\n",
    "When having a closer look at the years, this variable does not seem to be a good candidae for the model since there are not enough reviews from across all years and introducing it might bring bias to the model. "
   ]
  },
  {
   "cell_type": "code",
   "execution_count": 42,
   "metadata": {},
   "outputs": [
    {
     "name": "stdout",
     "output_type": "stream",
     "text": [
      "2011    33321\n",
      "2010    25927\n",
      "2009    18780\n",
      "2012    16342\n",
      "2008    12938\n",
      "2007    11235\n",
      "2006     4208\n",
      "2005      875\n",
      "2004      388\n",
      "2003       87\n",
      "2002       39\n",
      "2000       17\n",
      "2001       10\n",
      "Name: year, dtype: int64\n"
     ]
    },
    {
     "data": {
      "text/plain": [
       "<seaborn.axisgrid.FacetGrid at 0xf38cf70>"
      ]
     },
     "execution_count": 42,
     "metadata": {},
     "output_type": "execute_result"
    },
    {
     "data": {
      "image/png": "[encoded data removed]",
      "text/plain": [
       "<Figure size 360x360 with 1 Axes>"
      ]
     },
     "metadata": {
      "needs_background": "light"
     },
     "output_type": "display_data"
    }
   ],
   "source": [
    "## Reviews per year\n",
    "print(HelpfulnesswithTarget_df['year'].value_counts())\n",
    "sns.catplot(x=\"year\", kind=\"count\", data = HelpfulnesswithTarget_df) # reviews per year"
   ]
  },
  {
   "cell_type": "code",
   "execution_count": 43,
   "metadata": {},
   "outputs": [
    {
     "data": {
      "text/plain": [
       "year\n",
       "2000        7\n",
       "2001        4\n",
       "2002       12\n",
       "2003       79\n",
       "2004      278\n",
       "2005      648\n",
       "2006     2156\n",
       "2007     5038\n",
       "2008     6269\n",
       "2009     8613\n",
       "2010    11182\n",
       "2011    12699\n",
       "2012     6533\n",
       "Name: ProductId, dtype: int64"
      ]
     },
     "execution_count": 43,
     "metadata": {},
     "output_type": "execute_result"
    }
   ],
   "source": [
    "## Distinct products per year\n",
    "HelpfulnesswithTarget_df.groupby('year').ProductId.nunique()\n",
    "\n",
    "# print(pd.crosstab(HelpfulnesswithTarget_df.year\n",
    "#             ,HelpfulnesswithTarget_df.ProductId\n",
    "#            ).ne(0).mean(1))"
   ]
  },
  {
   "cell_type": "markdown",
   "metadata": {},
   "source": [
    "#### => Plots of categorical variables - month and days of the week\n",
    "From the plots, these variables might not bring too much into the model as there is not a clear difference between the usefulness ratio and the useful flag when plotting against the months and days of the week. However, it might not hurt to put them in."
   ]
  },
  {
   "cell_type": "code",
   "execution_count": 51,
   "metadata": {},
   "outputs": [
    {
     "data": {
      "text/plain": [
       "<seaborn.axisgrid.FacetGrid at 0x4662ae30>"
      ]
     },
     "execution_count": 51,
     "metadata": {},
     "output_type": "execute_result"
    },
    {
     "data": {
      "image/png": "[encoded data removed]",
      "text/plain": [
       "<Figure size 360x360 with 1 Axes>"
      ]
     },
     "metadata": {
      "needs_background": "light"
     },
     "output_type": "display_data"
    },
    {
     "data": {
      "image/png": "[encoded data removed]",
      "text/plain": [
       "<Figure size 360x360 with 1 Axes>"
      ]
     },
     "metadata": {
      "needs_background": "light"
     },
     "output_type": "display_data"
    },
    {
     "data": {
      "image/png": "[encoded data removed]",
      "text/plain": [
       "<Figure size 360x360 with 1 Axes>"
      ]
     },
     "metadata": {
      "needs_background": "light"
     },
     "output_type": "display_data"
    },
    {
     "data": {
      "image/png": "[encoded data removed]",
      "text/plain": [
       "<Figure size 360x360 with 1 Axes>"
      ]
     },
     "metadata": {
      "needs_background": "light"
     },
     "output_type": "display_data"
    }
   ],
   "source": [
    "sns.catplot(x=\"day_of_week\", kind=\"count\", data = HelpfulnesswithTarget_df) #, ax=axes[0][0])\n",
    "sns.catplot(x=\"day_of_week\", y=\"helpfulness_ratio\", kind=\"box\", data=HelpfulnesswithTarget_df) #, ax=axes[0][1])\n",
    "sns.catplot(x=\"month\", kind=\"count\", data = HelpfulnesswithTarget_df) #, ax=axes[1][0])\n",
    "sns.catplot(x=\"month\", y=\"helpfulness_ratio\", kind=\"box\", data=HelpfulnesswithTarget_df) #, ax=axes[1][1])"
   ]
  },
  {
   "cell_type": "code",
   "execution_count": 46,
   "metadata": {},
   "outputs": [
    {
     "data": {
      "text/plain": [
       "Text(0,0.5,'Reviews')"
      ]
     },
     "execution_count": 46,
     "metadata": {},
     "output_type": "execute_result"
    },
    {
     "data": {
      "image/png": "[encoded data removed]",
      "text/plain": [
       "<Figure size 432x288 with 1 Axes>"
      ]
     },
     "metadata": {
      "needs_background": "light"
     },
     "output_type": "display_data"
    }
   ],
   "source": [
    "pd.crosstab(HelpfulnesswithTarget_df.month,HelpfulnesswithTarget_df.useful_flag).plot(kind='bar')\n",
    "plt.title('Usefulness per Month')\n",
    "plt.xlabel('Month')\n",
    "plt.ylabel('Reviews')\n",
    "\n",
    "# plt.savefig('usefulness_perMonth')"
   ]
  },
  {
   "cell_type": "code",
   "execution_count": null,
   "metadata": {},
   "outputs": [],
   "source": [
    "# Correlation - Scatter plot\n",
    "# print(HelpfulnesswithTarget_df.columns)\n",
    "# correlation_df=HelpfulnesswithTarget_df[[ 'helpfulness_ratio'\n",
    "#                                          ,'Score'\n",
    "#                                          ,'n_distinct_words'\n",
    "#                                          ,'n_distinct_cleanwords'\n",
    "#                                          ,'n_words'\n",
    "#                                          ,'n_cleanwords']]\n",
    "# correlation_df.corr(method='pearson')"
   ]
  },
  {
   "cell_type": "code",
   "execution_count": null,
   "metadata": {},
   "outputs": [],
   "source": [
    "#seaborn scatter plot\n",
    "#sns.pairplot(correlation_df)\n",
    "\n",
    "# matplotlib scatter plot\n",
    "# fig, ax = plt.subplots()\n",
    "# ax.scatter(delta1[:-1], delta1[1:], c=close, s=volume, alpha=0.5)"
   ]
  },
  {
   "cell_type": "code",
   "execution_count": 76,
   "metadata": {
    "collapsed": true
   },
   "outputs": [
    {
     "data": {
      "text/plain": [
       "['Id',\n",
       " 'ProductId',\n",
       " 'UserId',\n",
       " 'ProfileName',\n",
       " 'HelpfulnessNumerator',\n",
       " 'HelpfulnessDenominator',\n",
       " 'Score',\n",
       " 'Time',\n",
       " 'Summary',\n",
       " 'Text',\n",
       " 'helpfulness_ratio',\n",
       " 'useful_flag',\n",
       " 'negative_rating_flag',\n",
       " 'positive_rating_flag',\n",
       " 'n_distinct_words',\n",
       " 'n_words',\n",
       " 'clean_text',\n",
       " 'n_distinct_cleanwords',\n",
       " 'n_cleanwords',\n",
       " 'cleanwords_ratio',\n",
       " 'day_of_week',\n",
       " 'year',\n",
       " 'month',\n",
       " 'product_freq',\n",
       " 'reviewer_freq',\n",
       " 'winter_flag',\n",
       " 'summer_flag']"
      ]
     },
     "execution_count": 76,
     "metadata": {},
     "output_type": "execute_result"
    }
   ],
   "source": [
    "[col for col in HelpfulnesswithTarget_df]"
   ]
  },
  {
   "cell_type": "markdown",
   "metadata": {},
   "source": [
    "#### Saving the data set for section 2"
   ]
  },
  {
   "cell_type": "code",
   "execution_count": 48,
   "metadata": {},
   "outputs": [],
   "source": [
    "HelpfulnesswithTarget_df.to_csv('HelpfulnesswithTarget_df.csv')"
   ]
  },
  {
   "cell_type": "markdown",
   "metadata": {},
   "source": [
    "### 6. Conclusions from 1\n",
    "- Data. Could have renamed the variables to make them more intuitive\n",
    "- Data. I didn't considered product or reviewer popularity when removing the reviews with no votes and for the rest of the analysis which is something that should be considered as it is very possible I am introducing biased by not doing so.\n",
    "- Target. The 0.7 threshold of the target is arbitrary and I could have predicted the ratio as well to avoid this, but I wanted to try logistic regression as I haven't done it in a while. \n",
    "- Variables. Could have added more variables. For example, variables that have to do with sentiment analysis of the review or words used or topic modelling\n",
    "- Workflow. In practice, Number 4 (Feature Engineering) and 5 (Data Exploration) are created almost in parallel. The more one explores the data the more features one comes up with until the final data set is as complete as possible. \n",
    "- Rating flags. I did not consider Score = 3 as I consider this is does not say if a person has negative or positive review of the product"
   ]
  }
 ],
 "metadata": {
  "kernelspec": {
   "display_name": "Python 2",
   "language": "python",
   "name": "python2"
  },
  "language_info": {
   "codemirror_mode": {
    "name": "ipython",
    "version": 2
   },
   "file_extension": ".py",
   "mimetype": "text/x-python",
   "name": "python",
   "nbconvert_exporter": "python",
   "pygments_lexer": "ipython2",
   "version": "2.7.14"
  }
 },
 "nbformat": 4,
 "nbformat_minor": 2
}
