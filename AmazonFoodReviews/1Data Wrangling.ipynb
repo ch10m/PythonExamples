{
 "cells": [
  {
   "cell_type": "markdown",
   "metadata": {},
   "source": [
    "## Amazon Food reviews set - Classifying food reviews\n",
    "\n",
    "This dataset consists of reviews of fine foods from amazon. The data span a period of more than 10 years, including all ~500,000 reviews up to October 2012. Reviews include product and user information, ratings, and a plain text review. \n",
    "\n",
    "Variables included are:\n",
    "- Row Id\n",
    "- ProductId - Unique identifier for the product\n",
    "- UserId - Unqiue identifier for the user\n",
    "- ProfileName - Profile name of the user\n",
    "- HelpfulnessNumerator - Number of users who found the review helpful\n",
    "- HelpfulnessDenominator - Number of users who indicated whether they found the review helpful or not\n",
    "- Score - Rating between 1 and 5\n",
    "- Time - Timestamp for the review\n",
    "- Summary - Brief summary of the review\n",
    "- Text - Text of the review\n",
    "\n",
    "The following notebooks will look at the data, create new features, do data exploration and adjust a logistic regression. The goal is to try to predict if a review is categorised as useful/helpful (1) or not useful/helpful (0) based on the helpfulness votes from the readers. "
   ]
  },
  {
   "cell_type": "markdown",
   "metadata": {},
   "source": [
    "#### Justification\n",
    "Why would it be of interest to predict if a review is helpful or not?\n",
    "Some of the reason include:\n",
    "- New comments posted. This will help overcome cold start problem (reviews with no information) and re-rank of the products. \n",
    "- Find out if a reviewer is good, if they are reliable. If so then could give them some kind of stamp/reward. Thinking like what other companies do. Example airbnb\n",
    "- Understand the factors from review (text/comments elements) that influences/convinces or put off people in purchasing the products (attractive of the products/ not attractive)\n",
    "- Bot or false reviews identification \n",
    "\n",
    "#### Modelling process\n",
    "The steps followed are split in 2 notebooks. \n",
    "\n",
    "Notebook 1 - Data Exploration and Manipulation:\n",
    "1. Loading the data - first glimpe\n",
    "1. Defining the data set - which observations will be included in the study and which ones will be left out\n",
    "1. Defining the target - if a review is useful then 1 if not then 0\n",
    "1. Feature engineering - creating new variables and adding them to the data set\n",
    "1. Data exploration \n",
    "6. Conclusions\n",
    "\n",
    "Notebook 2 - Classification Methodology:\n",
    "1. Data preparation - subsetting the data set, changing data types and creating dummy variables for all the categorical features\n",
    "2. Preparing train and test sets\n",
    "3. Classification model - Logistic regression pipeline\n",
    "4. Model performance\n",
    "5. Quick look at a Random Forest\n",
    "6. Conclusions\n",
    "\n",
    "Notebook 3 - Scikit learn workflow - using a pipeline\n",
    "\n",
    "Hope you have fun reading this, I certainly had fun doing it. :)"
   ]
  },
  {
   "cell_type": "markdown",
   "metadata": {},
   "source": [
    "Let us start by calling all the relevant libraries needed. This is always the first step when doing things in Python. "
   ]
  },
  {
   "cell_type": "code",
   "execution_count": 1,
   "metadata": {},
   "outputs": [],
   "source": [
    "## Import all relevent libraries to analyse the data\n",
    "import pandas as pd\n",
    "import numpy as np\n",
    "import datetime\n",
    "import math\n",
    "import matplotlib.pyplot as plt\n",
    "import seaborn as sns\n",
    "from scipy import stats\n",
    "\n",
    "## This line makes sure that our graphs are rendered within the notebook\n",
    "%matplotlib inline\n",
    "\n",
    "sns.set(color_codes=True)\n",
    "\n",
    "## Set options to display all columns\n",
    "# pd.set_option(\"display.max_columns\",None)"
   ]
  },
  {
   "cell_type": "markdown",
   "metadata": {},
   "source": [
    "### 1. First glimpse of the data\n",
    "Loading the data and having a first look. \n",
    "Data includes:\n",
    "- Reviews from Oct 1999 - Oct 2012\n",
    "- 568,454 reviews\n",
    "- 256,059 users\n",
    "- 74,258 products\n",
    "- 260 users with > 50 reviews"
   ]
  },
  {
   "cell_type": "code",
   "execution_count": 2,
   "metadata": {},
   "outputs": [
    {
     "name": "stdout",
     "output_type": "stream",
     "text": [
      "(568454, 10)\n",
      "   Id   ProductId          UserId                      ProfileName  \\\n",
      "0   1  B001E4KFG0  A3SGXH7AUHU8GW                       delmartian   \n",
      "1   2  B00813GRG4  A1D87F6ZCVE5NK                           dll pa   \n",
      "2   3  B000LQOCH0   ABXLMWJIXXAIN  Natalia Corres \"Natalia Corres\"   \n",
      "3   4  B000UA0QIQ  A395BORC6FGVXV                             Karl   \n",
      "4   5  B006K2ZZ7K  A1UQRSCLF8GW1T    Michael D. Bigham \"M. Wassir\"   \n",
      "\n",
      "   HelpfulnessNumerator  HelpfulnessDenominator  Score        Time  \\\n",
      "0                     1                       1      5  1303862400   \n",
      "1                     0                       0      1  1346976000   \n",
      "2                     1                       1      4  1219017600   \n",
      "3                     3                       3      2  1307923200   \n",
      "4                     0                       0      5  1350777600   \n",
      "\n",
      "                 Summary                                               Text  \n",
      "0  Good Quality Dog Food  I have bought several of the Vitality canned d...  \n",
      "1      Not as Advertised  Product arrived labeled as Jumbo Salted Peanut...  \n",
      "2  \"Delight\" says it all  This is a confection that has been around a fe...  \n",
      "3         Cough Medicine  If you are looking for the secret ingredient i...  \n",
      "4            Great taffy  Great taffy at a great price.  There was a wid...  \n"
     ]
    }
   ],
   "source": [
    "raw_data = pd.read_csv('Reviews.csv')\n",
    "print(raw_data.shape)\n",
    "print(raw_data.head())"
   ]
  },
  {
   "cell_type": "code",
   "execution_count": 6,
   "metadata": {},
   "outputs": [
    {
     "name": "stdout",
     "output_type": "stream",
     "text": [
      "Id                         int64\n",
      "ProductId                 object\n",
      "UserId                    object\n",
      "ProfileName               object\n",
      "HelpfulnessNumerator       int64\n",
      "HelpfulnessDenominator     int64\n",
      "Score                      int64\n",
      "Time                       int64\n",
      "Summary                   object\n",
      "Text                      object\n",
      "dtype: object\n"
     ]
    }
   ],
   "source": [
    "print(raw_data.dtypes)"
   ]
  },
  {
   "cell_type": "code",
   "execution_count": 7,
   "metadata": {},
   "outputs": [
    {
     "data": {
      "text/html": [
       "<div>\n",
       "<style scoped>\n",
       "    .dataframe tbody tr th:only-of-type {\n",
       "        vertical-align: middle;\n",
       "    }\n",
       "\n",
       "    .dataframe tbody tr th {\n",
       "        vertical-align: top;\n",
       "    }\n",
       "\n",
       "    .dataframe thead th {\n",
       "        text-align: right;\n",
       "    }\n",
       "</style>\n",
       "<table border=\"1\" class=\"dataframe\">\n",
       "  <thead>\n",
       "    <tr style=\"text-align: right;\">\n",
       "      <th></th>\n",
       "      <th>count</th>\n",
       "      <th>unique</th>\n",
       "    </tr>\n",
       "  </thead>\n",
       "  <tbody>\n",
       "    <tr>\n",
       "      <th>ProductId</th>\n",
       "      <td>568454</td>\n",
       "      <td>74258</td>\n",
       "    </tr>\n",
       "    <tr>\n",
       "      <th>UserId</th>\n",
       "      <td>568454</td>\n",
       "      <td>256059</td>\n",
       "    </tr>\n",
       "  </tbody>\n",
       "</table>\n",
       "</div>"
      ],
      "text/plain": [
       "            count  unique\n",
       "ProductId  568454   74258\n",
       "UserId     568454  256059"
      ]
     },
     "execution_count": 7,
     "metadata": {},
     "output_type": "execute_result"
    }
   ],
   "source": [
    "raw_data[['ProductId', 'UserId']].describe().T[['count','unique']]"
   ]
  },
  {
   "cell_type": "markdown",
   "metadata": {},
   "source": [
    "### 2. Defining the data set"
   ]
  },
  {
   "cell_type": "markdown",
   "metadata": {},
   "source": [
    "#### Removing reviews(rows) when Helpfulness Denominator = 0\n",
    "There are 270,052 reviews where Helpfulness Denominator = 0, meaning the review had no votes saying if it was useful or not.\n",
    "\n",
    "The following section is the exploration and deletion of the cases when Helpfulness Denominator <= 3; meaning removing the cases with less or 3 votes. Our final data set will only have products with reviews with greater than 3 votes \n",
    "\n"
   ]
  },
  {
   "cell_type": "code",
   "execution_count": 8,
   "metadata": {},
   "outputs": [
    {
     "data": {
      "text/html": [
       "<div>\n",
       "<style scoped>\n",
       "    .dataframe tbody tr th:only-of-type {\n",
       "        vertical-align: middle;\n",
       "    }\n",
       "\n",
       "    .dataframe tbody tr th {\n",
       "        vertical-align: top;\n",
       "    }\n",
       "\n",
       "    .dataframe thead th {\n",
       "        text-align: right;\n",
       "    }\n",
       "</style>\n",
       "<table border=\"1\" class=\"dataframe\">\n",
       "  <thead>\n",
       "    <tr style=\"text-align: right;\">\n",
       "      <th></th>\n",
       "      <th>count</th>\n",
       "      <th>mean</th>\n",
       "      <th>std</th>\n",
       "      <th>min</th>\n",
       "      <th>max</th>\n",
       "    </tr>\n",
       "  </thead>\n",
       "  <tbody>\n",
       "    <tr>\n",
       "      <th>HelpfulnessNumerator</th>\n",
       "      <td>568454.0</td>\n",
       "      <td>1.74</td>\n",
       "      <td>7.64</td>\n",
       "      <td>0.0</td>\n",
       "      <td>866.0</td>\n",
       "    </tr>\n",
       "    <tr>\n",
       "      <th>HelpfulnessDenominator</th>\n",
       "      <td>568454.0</td>\n",
       "      <td>2.23</td>\n",
       "      <td>8.29</td>\n",
       "      <td>0.0</td>\n",
       "      <td>923.0</td>\n",
       "    </tr>\n",
       "    <tr>\n",
       "      <th>Score</th>\n",
       "      <td>568454.0</td>\n",
       "      <td>4.18</td>\n",
       "      <td>1.31</td>\n",
       "      <td>1.0</td>\n",
       "      <td>5.0</td>\n",
       "    </tr>\n",
       "  </tbody>\n",
       "</table>\n",
       "</div>"
      ],
      "text/plain": [
       "                           count  mean   std  min    max\n",
       "HelpfulnessNumerator    568454.0  1.74  7.64  0.0  866.0\n",
       "HelpfulnessDenominator  568454.0  2.23  8.29  0.0  923.0\n",
       "Score                   568454.0  4.18  1.31  1.0    5.0"
      ]
     },
     "execution_count": 8,
     "metadata": {},
     "output_type": "execute_result"
    }
   ],
   "source": [
    "# Total data points \n",
    "raw_data.columns\n",
    "summary_data = raw_data[['HelpfulnessNumerator',\n",
    "                         'HelpfulnessDenominator', 'Score']]\n",
    "np.round(summary_data.describe(), 2).T[['count','mean', 'std', 'min', 'max']]"
   ]
  },
  {
   "cell_type": "code",
   "execution_count": 9,
   "metadata": {},
   "outputs": [
    {
     "data": {
      "text/html": [
       "<div>\n",
       "<style scoped>\n",
       "    .dataframe tbody tr th:only-of-type {\n",
       "        vertical-align: middle;\n",
       "    }\n",
       "\n",
       "    .dataframe tbody tr th {\n",
       "        vertical-align: top;\n",
       "    }\n",
       "\n",
       "    .dataframe thead th {\n",
       "        text-align: right;\n",
       "    }\n",
       "</style>\n",
       "<table border=\"1\" class=\"dataframe\">\n",
       "  <thead>\n",
       "    <tr style=\"text-align: right;\">\n",
       "      <th></th>\n",
       "      <th>count</th>\n",
       "      <th>mean</th>\n",
       "      <th>std</th>\n",
       "      <th>min</th>\n",
       "      <th>max</th>\n",
       "    </tr>\n",
       "  </thead>\n",
       "  <tbody>\n",
       "    <tr>\n",
       "      <th>HelpfulnessNumerator</th>\n",
       "      <td>270052.0</td>\n",
       "      <td>0.00</td>\n",
       "      <td>0.00</td>\n",
       "      <td>0.0</td>\n",
       "      <td>0.0</td>\n",
       "    </tr>\n",
       "    <tr>\n",
       "      <th>HelpfulnessDenominator</th>\n",
       "      <td>270052.0</td>\n",
       "      <td>0.00</td>\n",
       "      <td>0.00</td>\n",
       "      <td>0.0</td>\n",
       "      <td>0.0</td>\n",
       "    </tr>\n",
       "    <tr>\n",
       "      <th>Score</th>\n",
       "      <td>270052.0</td>\n",
       "      <td>4.41</td>\n",
       "      <td>1.08</td>\n",
       "      <td>1.0</td>\n",
       "      <td>5.0</td>\n",
       "    </tr>\n",
       "  </tbody>\n",
       "</table>\n",
       "</div>"
      ],
      "text/plain": [
       "                           count  mean   std  min  max\n",
       "HelpfulnessNumerator    270052.0  0.00  0.00  0.0  0.0\n",
       "HelpfulnessDenominator  270052.0  0.00  0.00  0.0  0.0\n",
       "Score                   270052.0  4.41  1.08  1.0  5.0"
      ]
     },
     "execution_count": 9,
     "metadata": {},
     "output_type": "execute_result"
    }
   ],
   "source": [
    "# Products reviews with no votes\n",
    "np.round(summary_data[summary_data['HelpfulnessDenominator']==0].describe()\n",
    "         , 2\n",
    "        ).T[['count','mean', 'std', 'min', 'max']]"
   ]
  },
  {
   "cell_type": "code",
   "execution_count": 10,
   "metadata": {},
   "outputs": [
    {
     "data": {
      "text/html": [
       "<div>\n",
       "<style scoped>\n",
       "    .dataframe tbody tr th:only-of-type {\n",
       "        vertical-align: middle;\n",
       "    }\n",
       "\n",
       "    .dataframe tbody tr th {\n",
       "        vertical-align: top;\n",
       "    }\n",
       "\n",
       "    .dataframe thead th {\n",
       "        text-align: right;\n",
       "    }\n",
       "</style>\n",
       "<table border=\"1\" class=\"dataframe\">\n",
       "  <thead>\n",
       "    <tr style=\"text-align: right;\">\n",
       "      <th></th>\n",
       "      <th>count</th>\n",
       "      <th>mean</th>\n",
       "      <th>std</th>\n",
       "      <th>min</th>\n",
       "      <th>max</th>\n",
       "    </tr>\n",
       "  </thead>\n",
       "  <tbody>\n",
       "    <tr>\n",
       "      <th>HelpfulnessNumerator</th>\n",
       "      <td>298402.0</td>\n",
       "      <td>3.32</td>\n",
       "      <td>10.29</td>\n",
       "      <td>0.0</td>\n",
       "      <td>866.0</td>\n",
       "    </tr>\n",
       "    <tr>\n",
       "      <th>HelpfulnessDenominator</th>\n",
       "      <td>298402.0</td>\n",
       "      <td>4.25</td>\n",
       "      <td>11.06</td>\n",
       "      <td>1.0</td>\n",
       "      <td>923.0</td>\n",
       "    </tr>\n",
       "    <tr>\n",
       "      <th>Score</th>\n",
       "      <td>298402.0</td>\n",
       "      <td>3.98</td>\n",
       "      <td>1.46</td>\n",
       "      <td>1.0</td>\n",
       "      <td>5.0</td>\n",
       "    </tr>\n",
       "  </tbody>\n",
       "</table>\n",
       "</div>"
      ],
      "text/plain": [
       "                           count  mean    std  min    max\n",
       "HelpfulnessNumerator    298402.0  3.32  10.29  0.0  866.0\n",
       "HelpfulnessDenominator  298402.0  4.25  11.06  1.0  923.0\n",
       "Score                   298402.0  3.98   1.46  1.0    5.0"
      ]
     },
     "execution_count": 10,
     "metadata": {},
     "output_type": "execute_result"
    }
   ],
   "source": [
    "# Products reviews with at least 1 vote\n",
    "np.round(summary_data[summary_data['HelpfulnessDenominator']!=0].describe()\n",
    "         , 2\n",
    "        ).T[['count','mean', 'std', 'min', 'max']]"
   ]
  },
  {
   "cell_type": "markdown",
   "metadata": {},
   "source": [
    "From the 568,454 total reviews:\n",
    "- 270,052 Reviews were HelpfulnessDenominator = 0 - will remove these as these products' reviews have no votes\n",
    "- 298,402 Reviews were HelpfulnessDenominator != 0 - at least one vote"
   ]
  },
  {
   "cell_type": "code",
   "execution_count": 3,
   "metadata": {},
   "outputs": [
    {
     "name": "stdout",
     "output_type": "stream",
     "text": [
      "(298402, 10)\n"
     ]
    }
   ],
   "source": [
    "# 1st Filter of the data set\n",
    "Helpfulness_data = raw_data[raw_data['HelpfulnessDenominator']!=0]\n",
    "print(Helpfulness_data.shape)"
   ]
  },
  {
   "cell_type": "markdown",
   "metadata": {},
   "source": [
    "#### Removing reviews(rows) when Helpfulness Denominator = 1, 2 or 3\n",
    "After removing the reviews with Denominator = 0 , there are still reviews that do not have enough votes to give enough information about the usefulness of a review. Therefore these reviews were also removed from the data set. The following section is the exploration and deletion of these cases. "
   ]
  },
  {
   "cell_type": "code",
   "execution_count": 4,
   "metadata": {},
   "outputs": [
    {
     "data": {
      "text/plain": [
       "1    112753\n",
       "2     61482\n",
       "3     34394\n",
       "4     22306\n",
       "5     14824\n",
       "Name: HelpfulnessDenominator, dtype: int64"
      ]
     },
     "execution_count": 4,
     "metadata": {},
     "output_type": "execute_result"
    }
   ],
   "source": [
    "Helpfulness_data['HelpfulnessDenominator'].value_counts().head()"
   ]
  },
  {
   "cell_type": "code",
   "execution_count": 31,
   "metadata": {},
   "outputs": [
    {
     "name": "stdout",
     "output_type": "stream",
     "text": [
      "HelpfulnessDenominator\n",
      "1      112753\n",
      "2       61482\n",
      "3       34394\n",
      "4       22306\n",
      ">=5     67467\n",
      "dtype: int64\n"
     ]
    },
    {
     "name": "stderr",
     "output_type": "stream",
     "text": [
      "/var/folders/19/gng8wq0n5m5bjyrq4j4xr6s00000gn/T/ipykernel_64115/2498055864.py:3: SettingWithCopyWarning: \n",
      "A value is trying to be set on a copy of a slice from a DataFrame.\n",
      "Try using .loc[row_indexer,col_indexer] = value instead\n",
      "\n",
      "See the caveats in the documentation: https://pandas.pydata.org/pandas-docs/stable/user_guide/indexing.html#returning-a-view-versus-a-copy\n",
      "  Helpfulness_data['HelpfulnessDenominator_binned'] = pd.cut(Helpfulness_data['HelpfulnessDenominator']\n"
     ]
    }
   ],
   "source": [
    "bins = [0, 1, 2, 3, 4, 1000]\n",
    "labels = [1,2,3,4,'>=5']\n",
    "Helpfulness_data['HelpfulnessDenominator_binned'] = pd.cut(Helpfulness_data['HelpfulnessDenominator']\n",
    "                                                           , bins=bins\n",
    "                                                           , labels=labels)\n",
    "\n",
    "s = Helpfulness_data.groupby(pd.cut(Helpfulness_data['HelpfulnessDenominator'] \n",
    "                                ,bins=bins\n",
    "                                ,labels=labels)).size()\n",
    "\n",
    "print(s)"
   ]
  },
  {
   "cell_type": "code",
   "execution_count": 21,
   "metadata": {},
   "outputs": [
    {
     "data": {
      "text/plain": [
       "<AxesSubplot:xlabel='HelpfulnessDenominator_binned', ylabel='count'>"
      ]
     },
     "execution_count": 21,
     "metadata": {},
     "output_type": "execute_result"
    },
    {
     "data": {
      "image/png": "[encoded data removed]",
      "text/plain": [
       "<Figure size 432x288 with 1 Axes>"
      ]
     },
     "metadata": {},
     "output_type": "display_data"
    }
   ],
   "source": [
    "sns.countplot(x=\"HelpfulnessDenominator_binned\", data = Helpfulness_data)"
   ]
  },
  {
   "cell_type": "markdown",
   "metadata": {},
   "source": [
    "The count and graph from above show that there are some reviews with 1, 2 or 3 votes. The total cases are 208,629 (112753 + 61482 + 34394). "
   ]
  },
  {
   "cell_type": "code",
   "execution_count": 29,
   "metadata": {},
   "outputs": [
    {
     "data": {
      "text/plain": [
       "(89773, 10)"
      ]
     },
     "execution_count": 29,
     "metadata": {},
     "output_type": "execute_result"
    }
   ],
   "source": [
    "## 2nd Filter of the data set\n",
    "DenominatorBiggerthan3_data = raw_data[raw_data['HelpfulnessDenominator']>3]\n",
    "DenominatorBiggerthan3_data.shape"
   ]
  },
  {
   "cell_type": "markdown",
   "metadata": {},
   "source": [
    "**The final data set has 89,773 reviews.**"
   ]
  },
  {
   "cell_type": "markdown",
   "metadata": {},
   "source": [
    "### 3. Defining the target\n",
    "<p>Usefulness ratio = helpfulness_numerator / helpfulness_denominator</p>\n",
    "Useful_flag = If usefulness > 0.7 then 1 (Useful) else 0 (Not Useful)"
   ]
  },
  {
   "cell_type": "code",
   "execution_count": 35,
   "metadata": {},
   "outputs": [],
   "source": [
    "def target(ratio): \n",
    "    if ratio > 0.7: \n",
    "        return '1'\n",
    "    return '0'\n",
    "\n",
    "def calculate_helpfulness_ratio(Numerator, Denominator):\n",
    "    ratio = Numerator/float(Denominator)\n",
    "    useful_flag = target(ratio)\n",
    "    ratio = round(ratio,2)\n",
    "    return [ratio, useful_flag]"
   ]
  },
  {
   "cell_type": "code",
   "execution_count": 36,
   "metadata": {},
   "outputs": [
    {
     "data": {
      "text/html": [
       "<div>\n",
       "<style scoped>\n",
       "    .dataframe tbody tr th:only-of-type {\n",
       "        vertical-align: middle;\n",
       "    }\n",
       "\n",
       "    .dataframe tbody tr th {\n",
       "        vertical-align: top;\n",
       "    }\n",
       "\n",
       "    .dataframe thead th {\n",
       "        text-align: right;\n",
       "    }\n",
       "</style>\n",
       "<table border=\"1\" class=\"dataframe\">\n",
       "  <thead>\n",
       "    <tr style=\"text-align: right;\">\n",
       "      <th></th>\n",
       "      <th>Id</th>\n",
       "      <th>ProductId</th>\n",
       "      <th>UserId</th>\n",
       "      <th>ProfileName</th>\n",
       "      <th>HelpfulnessNumerator</th>\n",
       "      <th>HelpfulnessDenominator</th>\n",
       "      <th>Score</th>\n",
       "      <th>Time</th>\n",
       "      <th>Summary</th>\n",
       "      <th>Text</th>\n",
       "      <th>helpfulness_ratio</th>\n",
       "      <th>useful_flag</th>\n",
       "    </tr>\n",
       "  </thead>\n",
       "  <tbody>\n",
       "    <tr>\n",
       "      <th>11</th>\n",
       "      <td>12</td>\n",
       "      <td>B0009XLVG0</td>\n",
       "      <td>A2725IB4YY9JEB</td>\n",
       "      <td>A Poeng \"SparkyGoHome\"</td>\n",
       "      <td>4</td>\n",
       "      <td>4</td>\n",
       "      <td>5</td>\n",
       "      <td>1282867200</td>\n",
       "      <td>My cats LOVE this \"diet\" food better than thei...</td>\n",
       "      <td>One of my boys needed to lose some weight and ...</td>\n",
       "      <td>1.0</td>\n",
       "      <td>1</td>\n",
       "    </tr>\n",
       "    <tr>\n",
       "      <th>14</th>\n",
       "      <td>15</td>\n",
       "      <td>B001GVISJM</td>\n",
       "      <td>A2MUGFV2TDQ47K</td>\n",
       "      <td>Lynrie \"Oh HELL no\"</td>\n",
       "      <td>4</td>\n",
       "      <td>5</td>\n",
       "      <td>5</td>\n",
       "      <td>1268352000</td>\n",
       "      <td>Strawberry Twizzlers - Yummy</td>\n",
       "      <td>The Strawberry Twizzlers are my guilty pleasur...</td>\n",
       "      <td>0.8</td>\n",
       "      <td>1</td>\n",
       "    </tr>\n",
       "    <tr>\n",
       "      <th>15</th>\n",
       "      <td>16</td>\n",
       "      <td>B001GVISJM</td>\n",
       "      <td>A1CZX3CP8IKQIJ</td>\n",
       "      <td>Brian A. Lee</td>\n",
       "      <td>4</td>\n",
       "      <td>5</td>\n",
       "      <td>5</td>\n",
       "      <td>1262044800</td>\n",
       "      <td>Lots of twizzlers, just what you expect.</td>\n",
       "      <td>My daughter loves twizzlers and this shipment ...</td>\n",
       "      <td>0.8</td>\n",
       "      <td>1</td>\n",
       "    </tr>\n",
       "    <tr>\n",
       "      <th>32</th>\n",
       "      <td>33</td>\n",
       "      <td>B001EO5QW8</td>\n",
       "      <td>AOVROBZ8BNTP7</td>\n",
       "      <td>S. Potter</td>\n",
       "      <td>19</td>\n",
       "      <td>19</td>\n",
       "      <td>4</td>\n",
       "      <td>1163376000</td>\n",
       "      <td>Best of the Instant Oatmeals</td>\n",
       "      <td>McCann's Instant Oatmeal is great if you must ...</td>\n",
       "      <td>1.0</td>\n",
       "      <td>1</td>\n",
       "    </tr>\n",
       "    <tr>\n",
       "      <th>33</th>\n",
       "      <td>34</td>\n",
       "      <td>B001EO5QW8</td>\n",
       "      <td>A3PMM0NFVEJGK9</td>\n",
       "      <td>Megan \"Bad at Nicknames\"</td>\n",
       "      <td>13</td>\n",
       "      <td>13</td>\n",
       "      <td>4</td>\n",
       "      <td>1166313600</td>\n",
       "      <td>Good Instant</td>\n",
       "      <td>This is a good instant oatmeal from the best o...</td>\n",
       "      <td>1.0</td>\n",
       "      <td>1</td>\n",
       "    </tr>\n",
       "  </tbody>\n",
       "</table>\n",
       "</div>"
      ],
      "text/plain": [
       "    Id   ProductId          UserId               ProfileName  \\\n",
       "11  12  B0009XLVG0  A2725IB4YY9JEB    A Poeng \"SparkyGoHome\"   \n",
       "14  15  B001GVISJM  A2MUGFV2TDQ47K       Lynrie \"Oh HELL no\"   \n",
       "15  16  B001GVISJM  A1CZX3CP8IKQIJ              Brian A. Lee   \n",
       "32  33  B001EO5QW8   AOVROBZ8BNTP7                 S. Potter   \n",
       "33  34  B001EO5QW8  A3PMM0NFVEJGK9  Megan \"Bad at Nicknames\"   \n",
       "\n",
       "    HelpfulnessNumerator  HelpfulnessDenominator  Score        Time  \\\n",
       "11                     4                       4      5  1282867200   \n",
       "14                     4                       5      5  1268352000   \n",
       "15                     4                       5      5  1262044800   \n",
       "32                    19                      19      4  1163376000   \n",
       "33                    13                      13      4  1166313600   \n",
       "\n",
       "                                              Summary  \\\n",
       "11  My cats LOVE this \"diet\" food better than thei...   \n",
       "14                       Strawberry Twizzlers - Yummy   \n",
       "15           Lots of twizzlers, just what you expect.   \n",
       "32                       Best of the Instant Oatmeals   \n",
       "33                                       Good Instant   \n",
       "\n",
       "                                                 Text  helpfulness_ratio  \\\n",
       "11  One of my boys needed to lose some weight and ...                1.0   \n",
       "14  The Strawberry Twizzlers are my guilty pleasur...                0.8   \n",
       "15  My daughter loves twizzlers and this shipment ...                0.8   \n",
       "32  McCann's Instant Oatmeal is great if you must ...                1.0   \n",
       "33  This is a good instant oatmeal from the best o...                1.0   \n",
       "\n",
       "   useful_flag  \n",
       "11           1  \n",
       "14           1  \n",
       "15           1  \n",
       "32           1  \n",
       "33           1  "
      ]
     },
     "execution_count": 36,
     "metadata": {},
     "output_type": "execute_result"
    }
   ],
   "source": [
    "helpfulness_ratio = DenominatorBiggerthan3_data.apply(\n",
    "    lambda x: pd.Series(\n",
    "        calculate_helpfulness_ratio(x.HelpfulnessNumerator, x.HelpfulnessDenominator), \n",
    "        index = [\"helpfulness_ratio\", \"useful_flag\"]\n",
    "    ),\n",
    "    axis=1\n",
    ")\n",
    "HelpfulnesswithTarget_df = pd.concat([DenominatorBiggerthan3_data[:], helpfulness_ratio[:]], axis=1)\n",
    "HelpfulnesswithTarget_df.head()"
   ]
  },
  {
   "cell_type": "markdown",
   "metadata": {},
   "source": [
    "In this case, the target is being defined as useful (1) for ratios that are bigger than 0.7 However there are other ways of defining a target. For example, the target could actually be the usefulness ratio and the methodology will have to be chosen accordingly. Another way would be to set different levels of the usefulness, for example ratio levels can be set as: not useful/cannot say/ very useful. In this case the output would be a multiclass variable instead of a dummy response. "
   ]
  },
  {
   "cell_type": "markdown",
   "metadata": {},
   "source": [
    "### 4. Feature Engineering\n",
    "Creating new features to enrich the data set. These include:\n",
    "1. Score variables - feeling towards product\n",
    "1. Text variables - text mining of review text\n",
    "1. Time variables - variables extracted from timestamp\n",
    "1. Product and reviewer variables"
   ]
  },
  {
   "cell_type": "markdown",
   "metadata": {},
   "source": [
    "#### 4.1. Feature Engineering - Score variables\n",
    "- Positive rating of a food product - flag\n",
    "- Negative rating of a food product - flag"
   ]
  },
  {
   "cell_type": "code",
   "execution_count": 37,
   "metadata": {},
   "outputs": [],
   "source": [
    "def get_rating_flags(score):\n",
    "    def negative_rating(score):\n",
    "        if score < 3:\n",
    "            return '1'\n",
    "        return '0'\n",
    "    def positive_rating(score):\n",
    "        if score > 3:\n",
    "            return '1'\n",
    "        return '0'\n",
    "    negative = negative_rating(score)\n",
    "    positive = positive_rating(score)\n",
    "    return [negative, positive]"
   ]
  },
  {
   "cell_type": "code",
   "execution_count": 38,
   "metadata": {},
   "outputs": [
    {
     "data": {
      "text/html": [
       "<div>\n",
       "<style scoped>\n",
       "    .dataframe tbody tr th:only-of-type {\n",
       "        vertical-align: middle;\n",
       "    }\n",
       "\n",
       "    .dataframe tbody tr th {\n",
       "        vertical-align: top;\n",
       "    }\n",
       "\n",
       "    .dataframe thead th {\n",
       "        text-align: right;\n",
       "    }\n",
       "</style>\n",
       "<table border=\"1\" class=\"dataframe\">\n",
       "  <thead>\n",
       "    <tr style=\"text-align: right;\">\n",
       "      <th></th>\n",
       "      <th>Id</th>\n",
       "      <th>ProductId</th>\n",
       "      <th>UserId</th>\n",
       "      <th>ProfileName</th>\n",
       "      <th>HelpfulnessNumerator</th>\n",
       "      <th>HelpfulnessDenominator</th>\n",
       "      <th>Score</th>\n",
       "      <th>Time</th>\n",
       "      <th>Summary</th>\n",
       "      <th>Text</th>\n",
       "      <th>helpfulness_ratio</th>\n",
       "      <th>useful_flag</th>\n",
       "      <th>negative_rating_flag</th>\n",
       "      <th>positive_rating_flag</th>\n",
       "    </tr>\n",
       "  </thead>\n",
       "  <tbody>\n",
       "    <tr>\n",
       "      <th>11</th>\n",
       "      <td>12</td>\n",
       "      <td>B0009XLVG0</td>\n",
       "      <td>A2725IB4YY9JEB</td>\n",
       "      <td>A Poeng \"SparkyGoHome\"</td>\n",
       "      <td>4</td>\n",
       "      <td>4</td>\n",
       "      <td>5</td>\n",
       "      <td>1282867200</td>\n",
       "      <td>My cats LOVE this \"diet\" food better than thei...</td>\n",
       "      <td>One of my boys needed to lose some weight and ...</td>\n",
       "      <td>1.0</td>\n",
       "      <td>1</td>\n",
       "      <td>0</td>\n",
       "      <td>1</td>\n",
       "    </tr>\n",
       "    <tr>\n",
       "      <th>14</th>\n",
       "      <td>15</td>\n",
       "      <td>B001GVISJM</td>\n",
       "      <td>A2MUGFV2TDQ47K</td>\n",
       "      <td>Lynrie \"Oh HELL no\"</td>\n",
       "      <td>4</td>\n",
       "      <td>5</td>\n",
       "      <td>5</td>\n",
       "      <td>1268352000</td>\n",
       "      <td>Strawberry Twizzlers - Yummy</td>\n",
       "      <td>The Strawberry Twizzlers are my guilty pleasur...</td>\n",
       "      <td>0.8</td>\n",
       "      <td>1</td>\n",
       "      <td>0</td>\n",
       "      <td>1</td>\n",
       "    </tr>\n",
       "    <tr>\n",
       "      <th>15</th>\n",
       "      <td>16</td>\n",
       "      <td>B001GVISJM</td>\n",
       "      <td>A1CZX3CP8IKQIJ</td>\n",
       "      <td>Brian A. Lee</td>\n",
       "      <td>4</td>\n",
       "      <td>5</td>\n",
       "      <td>5</td>\n",
       "      <td>1262044800</td>\n",
       "      <td>Lots of twizzlers, just what you expect.</td>\n",
       "      <td>My daughter loves twizzlers and this shipment ...</td>\n",
       "      <td>0.8</td>\n",
       "      <td>1</td>\n",
       "      <td>0</td>\n",
       "      <td>1</td>\n",
       "    </tr>\n",
       "    <tr>\n",
       "      <th>32</th>\n",
       "      <td>33</td>\n",
       "      <td>B001EO5QW8</td>\n",
       "      <td>AOVROBZ8BNTP7</td>\n",
       "      <td>S. Potter</td>\n",
       "      <td>19</td>\n",
       "      <td>19</td>\n",
       "      <td>4</td>\n",
       "      <td>1163376000</td>\n",
       "      <td>Best of the Instant Oatmeals</td>\n",
       "      <td>McCann's Instant Oatmeal is great if you must ...</td>\n",
       "      <td>1.0</td>\n",
       "      <td>1</td>\n",
       "      <td>0</td>\n",
       "      <td>1</td>\n",
       "    </tr>\n",
       "    <tr>\n",
       "      <th>33</th>\n",
       "      <td>34</td>\n",
       "      <td>B001EO5QW8</td>\n",
       "      <td>A3PMM0NFVEJGK9</td>\n",
       "      <td>Megan \"Bad at Nicknames\"</td>\n",
       "      <td>13</td>\n",
       "      <td>13</td>\n",
       "      <td>4</td>\n",
       "      <td>1166313600</td>\n",
       "      <td>Good Instant</td>\n",
       "      <td>This is a good instant oatmeal from the best o...</td>\n",
       "      <td>1.0</td>\n",
       "      <td>1</td>\n",
       "      <td>0</td>\n",
       "      <td>1</td>\n",
       "    </tr>\n",
       "  </tbody>\n",
       "</table>\n",
       "</div>"
      ],
      "text/plain": [
       "    Id   ProductId          UserId               ProfileName  \\\n",
       "11  12  B0009XLVG0  A2725IB4YY9JEB    A Poeng \"SparkyGoHome\"   \n",
       "14  15  B001GVISJM  A2MUGFV2TDQ47K       Lynrie \"Oh HELL no\"   \n",
       "15  16  B001GVISJM  A1CZX3CP8IKQIJ              Brian A. Lee   \n",
       "32  33  B001EO5QW8   AOVROBZ8BNTP7                 S. Potter   \n",
       "33  34  B001EO5QW8  A3PMM0NFVEJGK9  Megan \"Bad at Nicknames\"   \n",
       "\n",
       "    HelpfulnessNumerator  HelpfulnessDenominator  Score        Time  \\\n",
       "11                     4                       4      5  1282867200   \n",
       "14                     4                       5      5  1268352000   \n",
       "15                     4                       5      5  1262044800   \n",
       "32                    19                      19      4  1163376000   \n",
       "33                    13                      13      4  1166313600   \n",
       "\n",
       "                                              Summary  \\\n",
       "11  My cats LOVE this \"diet\" food better than thei...   \n",
       "14                       Strawberry Twizzlers - Yummy   \n",
       "15           Lots of twizzlers, just what you expect.   \n",
       "32                       Best of the Instant Oatmeals   \n",
       "33                                       Good Instant   \n",
       "\n",
       "                                                 Text  helpfulness_ratio  \\\n",
       "11  One of my boys needed to lose some weight and ...                1.0   \n",
       "14  The Strawberry Twizzlers are my guilty pleasur...                0.8   \n",
       "15  My daughter loves twizzlers and this shipment ...                0.8   \n",
       "32  McCann's Instant Oatmeal is great if you must ...                1.0   \n",
       "33  This is a good instant oatmeal from the best o...                1.0   \n",
       "\n",
       "   useful_flag negative_rating_flag positive_rating_flag  \n",
       "11           1                    0                    1  \n",
       "14           1                    0                    1  \n",
       "15           1                    0                    1  \n",
       "32           1                    0                    1  \n",
       "33           1                    0                    1  "
      ]
     },
     "execution_count": 38,
     "metadata": {},
     "output_type": "execute_result"
    }
   ],
   "source": [
    "rating_flags = HelpfulnesswithTarget_df.apply(\n",
    "    lambda x: pd.Series(\n",
    "        get_rating_flags(x.Score), \n",
    "        index = [\"negative_rating_flag\", \"positive_rating_flag\"]\n",
    "    ),\n",
    "    axis=1\n",
    ")\n",
    "HelpfulnesswithTarget_df = pd.concat([HelpfulnesswithTarget_df[:], rating_flags[:]], axis=1)\n",
    "HelpfulnesswithTarget_df.head()"
   ]
  },
  {
   "cell_type": "markdown",
   "metadata": {},
   "source": [
    "#### 4.2. Feature Engineering - Text Variables\n",
    "- Clean reviews\n",
    "- Number of distinct words\n",
    "- Number of total words\n",
    "- Number of distinct cleaned words\n",
    "- Number of total cleaned words\n",
    "- Ratio of clean words / total words\n",
    "\n",
    "Could have added:\n",
    "- Sentiment Analysis or further text mining from the review or summary\n",
    "- Number of nouns, adjectives and exclamation marks; plus ratio of these with the number of total words"
   ]
  },
  {
   "cell_type": "code",
   "execution_count": 39,
   "metadata": {},
   "outputs": [],
   "source": [
    "## Importing NLP module\n",
    "import nltk"
   ]
  },
  {
   "cell_type": "code",
   "execution_count": 40,
   "metadata": {},
   "outputs": [],
   "source": [
    "from nltk.tokenize import RegexpTokenizer\n",
    "tokenizer = RegexpTokenizer(r'\\w+')\n",
    "\n",
    "from nltk.probability import FreqDist\n",
    "\n",
    "def get_word_counts(text):\n",
    "    tokenized_word=tokenizer.tokenize(text)\n",
    "    fdist = FreqDist(tokenized_word)\n",
    "    return [fdist.B(), fdist.N()]"
   ]
  },
  {
   "cell_type": "code",
   "execution_count": 41,
   "metadata": {},
   "outputs": [],
   "source": [
    "text_attributes = HelpfulnesswithTarget_df.apply(\n",
    "    lambda x: pd.Series(\n",
    "        get_word_counts(x.Text), \n",
    "        index = [\"n_distinct_words\", \"n_words\"]\n",
    "    ),\n",
    "    axis=1\n",
    ")\n",
    "HelpfulnesswithTarget_df = pd.concat([HelpfulnesswithTarget_df[:], text_attributes[:]], axis=1)\n",
    "#HelpfulnesswithTarget_df.head()"
   ]
  },
  {
   "cell_type": "code",
   "execution_count": 42,
   "metadata": {
    "jupyter": {
     "source_hidden": true
    },
    "tags": []
   },
   "outputs": [],
   "source": [
    "import re\n",
    "import string\n",
    "string.punctuation\n",
    "\n",
    "number='0123456789'\n",
    "\n",
    "## NOT TOKENISED REVIEW\n",
    "## Text cleansing - removes punctuation and sets all text to lower case\n",
    "def initial_clean(text):\n",
    "   \n",
    "    ##remove punctuation\n",
    "    text = \"\".join([char for char in text if char not in string.punctuation])\n",
    "    text = re.sub(\"(\\')\",'',str(text))\n",
    "    text = re.sub(r\"(\\W)\",r' ',str(text))\n",
    "    text = re.sub(r\" +\",r' ',str(text))\n",
    "    text = re.sub(\"\\/\",\" \",str(text))\n",
    "    text = re.sub(r'\\b\\d+(?:\\.\\d+)?\\s+','',str(text))\n",
    "    text = re.sub('^[0-9 ]+', '', str(text))\n",
    "    text = re.sub(\"^\\d+\\s|\\s\\d+\\s|\\s\\d+$\", \" \",str(text))\n",
    "    nopunct = text.lower()\n",
    "    nonumb= \"\".join([char for char in nopunct if char not in number])\n",
    "   \n",
    "    return nonumb\n",
    "\n",
    "## Test:\n",
    "# Text_test = raw_data.loc[0,'Text'] \n",
    "# print(Text_test)\n",
    "# print(initial_clean(Text_test))"
   ]
  },
  {
   "cell_type": "code",
   "execution_count": 44,
   "metadata": {},
   "outputs": [
    {
     "name": "stderr",
     "output_type": "stream",
     "text": [
      "[nltk_data] Downloading package stopwords to\n",
      "[nltk_data]     /Users/CH10ZMB/nltk_data...\n",
      "[nltk_data]   Unzipping corpora/stopwords.zip.\n"
     ]
    }
   ],
   "source": [
    "from nltk.corpus import stopwords\n",
    "#nltk.download('stopwords')\n",
    "sr= stopwords.words('english')\n",
    "\n",
    "## TOKENISED REVIEW INTO WORDS\n",
    "## Text cleansing - removes punctuation and sets all text to lower case\n",
    "def clean_data(text):\n",
    "    text = text.lower()\n",
    "    text = tokenizer.tokenize(text)\n",
    "    text = [ word for word in text if word not in sr]\n",
    "    return text\n",
    "\n",
    "## Test:\n",
    "# Text_test = raw_data.loc[0,'Text'] \n",
    "# print(Text_test)\n",
    "# print(clean_data(Text_test))\n",
    "\n",
    "# On data set:\n",
    "# HelpfulnesswithTarget_df['Text'].apply(lambda x: clean_data(x))\n",
    "\n",
    "HelpfulnesswithTarget_df['clean_text'] = HelpfulnesswithTarget_df.apply(lambda x:clean_data(x.Text), axis=1)\n"
   ]
  },
  {
   "cell_type": "code",
   "execution_count": 45,
   "metadata": {},
   "outputs": [],
   "source": [
    "def get_cleanword_counts(text):\n",
    "    fdist = FreqDist(text)\n",
    "    return [fdist.B(), fdist.N()]\n",
    "\n",
    "clean_text_attributes = HelpfulnesswithTarget_df.apply(\n",
    "    lambda x: pd.Series(\n",
    "        get_cleanword_counts(x.clean_text), \n",
    "        index = [\"n_distinct_cleanwords\", \"n_cleanwords\"]\n",
    "    ),\n",
    "    axis=1\n",
    ")\n",
    "HelpfulnesswithTarget_df = pd.concat([HelpfulnesswithTarget_df[:], clean_text_attributes[:]], axis=1)\n",
    "#HelpfulnesswithTarget_df.head()"
   ]
  },
  {
   "cell_type": "code",
   "execution_count": 46,
   "metadata": {},
   "outputs": [],
   "source": [
    "HelpfulnesswithTarget_df['cleanwords_ratio'] = HelpfulnesswithTarget_df.n_cleanwords/HelpfulnesswithTarget_df.n_words"
   ]
  },
  {
   "cell_type": "code",
   "execution_count": 26,
   "metadata": {},
   "outputs": [],
   "source": [
    "# Tags of the words\n",
    "#nltk.pos_tag(clean_data(Text_test))"
   ]
  },
  {
   "cell_type": "code",
   "execution_count": 47,
   "metadata": {},
   "outputs": [
    {
     "data": {
      "text/html": [
       "<div>\n",
       "<style scoped>\n",
       "    .dataframe tbody tr th:only-of-type {\n",
       "        vertical-align: middle;\n",
       "    }\n",
       "\n",
       "    .dataframe tbody tr th {\n",
       "        vertical-align: top;\n",
       "    }\n",
       "\n",
       "    .dataframe thead th {\n",
       "        text-align: right;\n",
       "    }\n",
       "</style>\n",
       "<table border=\"1\" class=\"dataframe\">\n",
       "  <thead>\n",
       "    <tr style=\"text-align: right;\">\n",
       "      <th></th>\n",
       "      <th>Id</th>\n",
       "      <th>ProductId</th>\n",
       "      <th>UserId</th>\n",
       "      <th>ProfileName</th>\n",
       "      <th>HelpfulnessNumerator</th>\n",
       "      <th>HelpfulnessDenominator</th>\n",
       "      <th>Score</th>\n",
       "      <th>Time</th>\n",
       "      <th>Summary</th>\n",
       "      <th>Text</th>\n",
       "      <th>helpfulness_ratio</th>\n",
       "      <th>useful_flag</th>\n",
       "      <th>negative_rating_flag</th>\n",
       "      <th>positive_rating_flag</th>\n",
       "      <th>n_distinct_words</th>\n",
       "      <th>n_words</th>\n",
       "      <th>clean_text</th>\n",
       "      <th>n_distinct_cleanwords</th>\n",
       "      <th>n_cleanwords</th>\n",
       "      <th>cleanwords_ratio</th>\n",
       "    </tr>\n",
       "  </thead>\n",
       "  <tbody>\n",
       "    <tr>\n",
       "      <th>11</th>\n",
       "      <td>12</td>\n",
       "      <td>B0009XLVG0</td>\n",
       "      <td>A2725IB4YY9JEB</td>\n",
       "      <td>A Poeng \"SparkyGoHome\"</td>\n",
       "      <td>4</td>\n",
       "      <td>4</td>\n",
       "      <td>5</td>\n",
       "      <td>1282867200</td>\n",
       "      <td>My cats LOVE this \"diet\" food better than thei...</td>\n",
       "      <td>One of my boys needed to lose some weight and ...</td>\n",
       "      <td>1.0</td>\n",
       "      <td>1</td>\n",
       "      <td>0</td>\n",
       "      <td>1</td>\n",
       "      <td>53</td>\n",
       "      <td>67</td>\n",
       "      <td>[one, boys, needed, lose, weight, put, food, f...</td>\n",
       "      <td>25</td>\n",
       "      <td>31</td>\n",
       "      <td>0.462687</td>\n",
       "    </tr>\n",
       "    <tr>\n",
       "      <th>14</th>\n",
       "      <td>15</td>\n",
       "      <td>B001GVISJM</td>\n",
       "      <td>A2MUGFV2TDQ47K</td>\n",
       "      <td>Lynrie \"Oh HELL no\"</td>\n",
       "      <td>4</td>\n",
       "      <td>5</td>\n",
       "      <td>5</td>\n",
       "      <td>1268352000</td>\n",
       "      <td>Strawberry Twizzlers - Yummy</td>\n",
       "      <td>The Strawberry Twizzlers are my guilty pleasur...</td>\n",
       "      <td>0.8</td>\n",
       "      <td>1</td>\n",
       "      <td>0</td>\n",
       "      <td>1</td>\n",
       "      <td>20</td>\n",
       "      <td>21</td>\n",
       "      <td>[strawberry, twizzlers, guilty, pleasure, yumm...</td>\n",
       "      <td>9</td>\n",
       "      <td>9</td>\n",
       "      <td>0.428571</td>\n",
       "    </tr>\n",
       "    <tr>\n",
       "      <th>15</th>\n",
       "      <td>16</td>\n",
       "      <td>B001GVISJM</td>\n",
       "      <td>A1CZX3CP8IKQIJ</td>\n",
       "      <td>Brian A. Lee</td>\n",
       "      <td>4</td>\n",
       "      <td>5</td>\n",
       "      <td>5</td>\n",
       "      <td>1262044800</td>\n",
       "      <td>Lots of twizzlers, just what you expect.</td>\n",
       "      <td>My daughter loves twizzlers and this shipment ...</td>\n",
       "      <td>0.8</td>\n",
       "      <td>1</td>\n",
       "      <td>0</td>\n",
       "      <td>1</td>\n",
       "      <td>23</td>\n",
       "      <td>26</td>\n",
       "      <td>[daughter, loves, twizzlers, shipment, six, po...</td>\n",
       "      <td>14</td>\n",
       "      <td>16</td>\n",
       "      <td>0.615385</td>\n",
       "    </tr>\n",
       "    <tr>\n",
       "      <th>32</th>\n",
       "      <td>33</td>\n",
       "      <td>B001EO5QW8</td>\n",
       "      <td>AOVROBZ8BNTP7</td>\n",
       "      <td>S. Potter</td>\n",
       "      <td>19</td>\n",
       "      <td>19</td>\n",
       "      <td>4</td>\n",
       "      <td>1163376000</td>\n",
       "      <td>Best of the Instant Oatmeals</td>\n",
       "      <td>McCann's Instant Oatmeal is great if you must ...</td>\n",
       "      <td>1.0</td>\n",
       "      <td>1</td>\n",
       "      <td>0</td>\n",
       "      <td>1</td>\n",
       "      <td>129</td>\n",
       "      <td>206</td>\n",
       "      <td>[mccann, instant, oatmeal, great, must, oatmea...</td>\n",
       "      <td>84</td>\n",
       "      <td>110</td>\n",
       "      <td>0.533981</td>\n",
       "    </tr>\n",
       "    <tr>\n",
       "      <th>33</th>\n",
       "      <td>34</td>\n",
       "      <td>B001EO5QW8</td>\n",
       "      <td>A3PMM0NFVEJGK9</td>\n",
       "      <td>Megan \"Bad at Nicknames\"</td>\n",
       "      <td>13</td>\n",
       "      <td>13</td>\n",
       "      <td>4</td>\n",
       "      <td>1166313600</td>\n",
       "      <td>Good Instant</td>\n",
       "      <td>This is a good instant oatmeal from the best o...</td>\n",
       "      <td>1.0</td>\n",
       "      <td>1</td>\n",
       "      <td>0</td>\n",
       "      <td>1</td>\n",
       "      <td>72</td>\n",
       "      <td>93</td>\n",
       "      <td>[good, instant, oatmeal, best, oatmeal, brand,...</td>\n",
       "      <td>40</td>\n",
       "      <td>46</td>\n",
       "      <td>0.494624</td>\n",
       "    </tr>\n",
       "  </tbody>\n",
       "</table>\n",
       "</div>"
      ],
      "text/plain": [
       "    Id   ProductId          UserId               ProfileName  \\\n",
       "11  12  B0009XLVG0  A2725IB4YY9JEB    A Poeng \"SparkyGoHome\"   \n",
       "14  15  B001GVISJM  A2MUGFV2TDQ47K       Lynrie \"Oh HELL no\"   \n",
       "15  16  B001GVISJM  A1CZX3CP8IKQIJ              Brian A. Lee   \n",
       "32  33  B001EO5QW8   AOVROBZ8BNTP7                 S. Potter   \n",
       "33  34  B001EO5QW8  A3PMM0NFVEJGK9  Megan \"Bad at Nicknames\"   \n",
       "\n",
       "    HelpfulnessNumerator  HelpfulnessDenominator  Score        Time  \\\n",
       "11                     4                       4      5  1282867200   \n",
       "14                     4                       5      5  1268352000   \n",
       "15                     4                       5      5  1262044800   \n",
       "32                    19                      19      4  1163376000   \n",
       "33                    13                      13      4  1166313600   \n",
       "\n",
       "                                              Summary  \\\n",
       "11  My cats LOVE this \"diet\" food better than thei...   \n",
       "14                       Strawberry Twizzlers - Yummy   \n",
       "15           Lots of twizzlers, just what you expect.   \n",
       "32                       Best of the Instant Oatmeals   \n",
       "33                                       Good Instant   \n",
       "\n",
       "                                                 Text  helpfulness_ratio  \\\n",
       "11  One of my boys needed to lose some weight and ...                1.0   \n",
       "14  The Strawberry Twizzlers are my guilty pleasur...                0.8   \n",
       "15  My daughter loves twizzlers and this shipment ...                0.8   \n",
       "32  McCann's Instant Oatmeal is great if you must ...                1.0   \n",
       "33  This is a good instant oatmeal from the best o...                1.0   \n",
       "\n",
       "   useful_flag negative_rating_flag positive_rating_flag  n_distinct_words  \\\n",
       "11           1                    0                    1                53   \n",
       "14           1                    0                    1                20   \n",
       "15           1                    0                    1                23   \n",
       "32           1                    0                    1               129   \n",
       "33           1                    0                    1                72   \n",
       "\n",
       "    n_words                                         clean_text  \\\n",
       "11       67  [one, boys, needed, lose, weight, put, food, f...   \n",
       "14       21  [strawberry, twizzlers, guilty, pleasure, yumm...   \n",
       "15       26  [daughter, loves, twizzlers, shipment, six, po...   \n",
       "32      206  [mccann, instant, oatmeal, great, must, oatmea...   \n",
       "33       93  [good, instant, oatmeal, best, oatmeal, brand,...   \n",
       "\n",
       "    n_distinct_cleanwords  n_cleanwords  cleanwords_ratio  \n",
       "11                     25            31          0.462687  \n",
       "14                      9             9          0.428571  \n",
       "15                     14            16          0.615385  \n",
       "32                     84           110          0.533981  \n",
       "33                     40            46          0.494624  "
      ]
     },
     "execution_count": 47,
     "metadata": {},
     "output_type": "execute_result"
    }
   ],
   "source": [
    "HelpfulnesswithTarget_df.head()"
   ]
  },
  {
   "cell_type": "markdown",
   "metadata": {},
   "source": [
    "\n",
    "#### 4.3. Feature Engineering - Time Variables\n",
    "- Transform variable to the right format\n",
    "- Day of the week variable\n",
    "- Month variable\n",
    "- Season flags - winter and summer\n",
    "- Year variable - not enough reviews from all the years\n",
    "- Daytime/Nightime/EarlyMorning - time stamp does not have the time attribute, just the date\n",
    "\n",
    "Could add: special events or holiday flags"
   ]
  },
  {
   "cell_type": "code",
   "execution_count": 48,
   "metadata": {},
   "outputs": [
    {
     "data": {
      "text/html": [
       "<div>\n",
       "<style scoped>\n",
       "    .dataframe tbody tr th:only-of-type {\n",
       "        vertical-align: middle;\n",
       "    }\n",
       "\n",
       "    .dataframe tbody tr th {\n",
       "        vertical-align: top;\n",
       "    }\n",
       "\n",
       "    .dataframe thead th {\n",
       "        text-align: right;\n",
       "    }\n",
       "</style>\n",
       "<table border=\"1\" class=\"dataframe\">\n",
       "  <thead>\n",
       "    <tr style=\"text-align: right;\">\n",
       "      <th></th>\n",
       "      <th>Id</th>\n",
       "      <th>ProductId</th>\n",
       "      <th>UserId</th>\n",
       "      <th>ProfileName</th>\n",
       "      <th>HelpfulnessNumerator</th>\n",
       "      <th>HelpfulnessDenominator</th>\n",
       "      <th>Score</th>\n",
       "      <th>Time</th>\n",
       "      <th>Summary</th>\n",
       "      <th>Text</th>\n",
       "      <th>...</th>\n",
       "      <th>n_distinct_words</th>\n",
       "      <th>n_words</th>\n",
       "      <th>clean_text</th>\n",
       "      <th>n_distinct_cleanwords</th>\n",
       "      <th>n_cleanwords</th>\n",
       "      <th>cleanwords_ratio</th>\n",
       "      <th>day_of_week</th>\n",
       "      <th>year</th>\n",
       "      <th>month</th>\n",
       "      <th>hour</th>\n",
       "    </tr>\n",
       "  </thead>\n",
       "  <tbody>\n",
       "    <tr>\n",
       "      <th>11</th>\n",
       "      <td>12</td>\n",
       "      <td>B0009XLVG0</td>\n",
       "      <td>A2725IB4YY9JEB</td>\n",
       "      <td>A Poeng \"SparkyGoHome\"</td>\n",
       "      <td>4</td>\n",
       "      <td>4</td>\n",
       "      <td>5</td>\n",
       "      <td>2010-08-27</td>\n",
       "      <td>My cats LOVE this \"diet\" food better than thei...</td>\n",
       "      <td>One of my boys needed to lose some weight and ...</td>\n",
       "      <td>...</td>\n",
       "      <td>53</td>\n",
       "      <td>67</td>\n",
       "      <td>[one, boys, needed, lose, weight, put, food, f...</td>\n",
       "      <td>25</td>\n",
       "      <td>31</td>\n",
       "      <td>0.462687</td>\n",
       "      <td>4</td>\n",
       "      <td>2010</td>\n",
       "      <td>8</td>\n",
       "      <td>0</td>\n",
       "    </tr>\n",
       "    <tr>\n",
       "      <th>14</th>\n",
       "      <td>15</td>\n",
       "      <td>B001GVISJM</td>\n",
       "      <td>A2MUGFV2TDQ47K</td>\n",
       "      <td>Lynrie \"Oh HELL no\"</td>\n",
       "      <td>4</td>\n",
       "      <td>5</td>\n",
       "      <td>5</td>\n",
       "      <td>2010-03-12</td>\n",
       "      <td>Strawberry Twizzlers - Yummy</td>\n",
       "      <td>The Strawberry Twizzlers are my guilty pleasur...</td>\n",
       "      <td>...</td>\n",
       "      <td>20</td>\n",
       "      <td>21</td>\n",
       "      <td>[strawberry, twizzlers, guilty, pleasure, yumm...</td>\n",
       "      <td>9</td>\n",
       "      <td>9</td>\n",
       "      <td>0.428571</td>\n",
       "      <td>4</td>\n",
       "      <td>2010</td>\n",
       "      <td>3</td>\n",
       "      <td>0</td>\n",
       "    </tr>\n",
       "    <tr>\n",
       "      <th>15</th>\n",
       "      <td>16</td>\n",
       "      <td>B001GVISJM</td>\n",
       "      <td>A1CZX3CP8IKQIJ</td>\n",
       "      <td>Brian A. Lee</td>\n",
       "      <td>4</td>\n",
       "      <td>5</td>\n",
       "      <td>5</td>\n",
       "      <td>2009-12-29</td>\n",
       "      <td>Lots of twizzlers, just what you expect.</td>\n",
       "      <td>My daughter loves twizzlers and this shipment ...</td>\n",
       "      <td>...</td>\n",
       "      <td>23</td>\n",
       "      <td>26</td>\n",
       "      <td>[daughter, loves, twizzlers, shipment, six, po...</td>\n",
       "      <td>14</td>\n",
       "      <td>16</td>\n",
       "      <td>0.615385</td>\n",
       "      <td>1</td>\n",
       "      <td>2009</td>\n",
       "      <td>12</td>\n",
       "      <td>0</td>\n",
       "    </tr>\n",
       "    <tr>\n",
       "      <th>32</th>\n",
       "      <td>33</td>\n",
       "      <td>B001EO5QW8</td>\n",
       "      <td>AOVROBZ8BNTP7</td>\n",
       "      <td>S. Potter</td>\n",
       "      <td>19</td>\n",
       "      <td>19</td>\n",
       "      <td>4</td>\n",
       "      <td>2006-11-13</td>\n",
       "      <td>Best of the Instant Oatmeals</td>\n",
       "      <td>McCann's Instant Oatmeal is great if you must ...</td>\n",
       "      <td>...</td>\n",
       "      <td>129</td>\n",
       "      <td>206</td>\n",
       "      <td>[mccann, instant, oatmeal, great, must, oatmea...</td>\n",
       "      <td>84</td>\n",
       "      <td>110</td>\n",
       "      <td>0.533981</td>\n",
       "      <td>0</td>\n",
       "      <td>2006</td>\n",
       "      <td>11</td>\n",
       "      <td>0</td>\n",
       "    </tr>\n",
       "    <tr>\n",
       "      <th>33</th>\n",
       "      <td>34</td>\n",
       "      <td>B001EO5QW8</td>\n",
       "      <td>A3PMM0NFVEJGK9</td>\n",
       "      <td>Megan \"Bad at Nicknames\"</td>\n",
       "      <td>13</td>\n",
       "      <td>13</td>\n",
       "      <td>4</td>\n",
       "      <td>2006-12-17</td>\n",
       "      <td>Good Instant</td>\n",
       "      <td>This is a good instant oatmeal from the best o...</td>\n",
       "      <td>...</td>\n",
       "      <td>72</td>\n",
       "      <td>93</td>\n",
       "      <td>[good, instant, oatmeal, best, oatmeal, brand,...</td>\n",
       "      <td>40</td>\n",
       "      <td>46</td>\n",
       "      <td>0.494624</td>\n",
       "      <td>6</td>\n",
       "      <td>2006</td>\n",
       "      <td>12</td>\n",
       "      <td>0</td>\n",
       "    </tr>\n",
       "  </tbody>\n",
       "</table>\n",
       "<p>5 rows × 24 columns</p>\n",
       "</div>"
      ],
      "text/plain": [
       "    Id   ProductId          UserId               ProfileName  \\\n",
       "11  12  B0009XLVG0  A2725IB4YY9JEB    A Poeng \"SparkyGoHome\"   \n",
       "14  15  B001GVISJM  A2MUGFV2TDQ47K       Lynrie \"Oh HELL no\"   \n",
       "15  16  B001GVISJM  A1CZX3CP8IKQIJ              Brian A. Lee   \n",
       "32  33  B001EO5QW8   AOVROBZ8BNTP7                 S. Potter   \n",
       "33  34  B001EO5QW8  A3PMM0NFVEJGK9  Megan \"Bad at Nicknames\"   \n",
       "\n",
       "    HelpfulnessNumerator  HelpfulnessDenominator  Score       Time  \\\n",
       "11                     4                       4      5 2010-08-27   \n",
       "14                     4                       5      5 2010-03-12   \n",
       "15                     4                       5      5 2009-12-29   \n",
       "32                    19                      19      4 2006-11-13   \n",
       "33                    13                      13      4 2006-12-17   \n",
       "\n",
       "                                              Summary  \\\n",
       "11  My cats LOVE this \"diet\" food better than thei...   \n",
       "14                       Strawberry Twizzlers - Yummy   \n",
       "15           Lots of twizzlers, just what you expect.   \n",
       "32                       Best of the Instant Oatmeals   \n",
       "33                                       Good Instant   \n",
       "\n",
       "                                                 Text  ...  n_distinct_words  \\\n",
       "11  One of my boys needed to lose some weight and ...  ...                53   \n",
       "14  The Strawberry Twizzlers are my guilty pleasur...  ...                20   \n",
       "15  My daughter loves twizzlers and this shipment ...  ...                23   \n",
       "32  McCann's Instant Oatmeal is great if you must ...  ...               129   \n",
       "33  This is a good instant oatmeal from the best o...  ...                72   \n",
       "\n",
       "   n_words                                         clean_text  \\\n",
       "11      67  [one, boys, needed, lose, weight, put, food, f...   \n",
       "14      21  [strawberry, twizzlers, guilty, pleasure, yumm...   \n",
       "15      26  [daughter, loves, twizzlers, shipment, six, po...   \n",
       "32     206  [mccann, instant, oatmeal, great, must, oatmea...   \n",
       "33      93  [good, instant, oatmeal, best, oatmeal, brand,...   \n",
       "\n",
       "   n_distinct_cleanwords  n_cleanwords  cleanwords_ratio day_of_week  year  \\\n",
       "11                    25            31          0.462687           4  2010   \n",
       "14                     9             9          0.428571           4  2010   \n",
       "15                    14            16          0.615385           1  2009   \n",
       "32                    84           110          0.533981           0  2006   \n",
       "33                    40            46          0.494624           6  2006   \n",
       "\n",
       "    month  hour  \n",
       "11      8     0  \n",
       "14      3     0  \n",
       "15     12     0  \n",
       "32     11     0  \n",
       "33     12     0  \n",
       "\n",
       "[5 rows x 24 columns]"
      ]
     },
     "execution_count": 48,
     "metadata": {},
     "output_type": "execute_result"
    }
   ],
   "source": [
    "## Change timestamp format\n",
    "# HelpfulnesswithTarget_df[\"Time\"] = HelpfulnesswithTarget_df[\"Time\"].map(lambda timestamp: pd.Timestamp(timestamp, unit=\"s\"))\n",
    "HelpfulnesswithTarget_df['Time'] = pd.to_datetime(HelpfulnesswithTarget_df['Time'], unit='s')\n",
    "HelpfulnesswithTarget_df['day_of_week'] = HelpfulnesswithTarget_df['Time'].dt.weekday #+ 1\n",
    "HelpfulnesswithTarget_df['year'] = HelpfulnesswithTarget_df['Time'].dt.year\n",
    "HelpfulnesswithTarget_df['month'] = HelpfulnesswithTarget_df['Time'].dt.month\n",
    "HelpfulnesswithTarget_df['hour'] = HelpfulnesswithTarget_df['Time'].dt.hour\n",
    "\n",
    "HelpfulnesswithTarget_df.head()"
   ]
  },
  {
   "cell_type": "code",
   "execution_count": 49,
   "metadata": {},
   "outputs": [
    {
     "data": {
      "text/plain": [
       "0    89773\n",
       "Name: hour, dtype: int64"
      ]
     },
     "execution_count": 49,
     "metadata": {},
     "output_type": "execute_result"
    }
   ],
   "source": [
    "HelpfulnesswithTarget_df['hour'].value_counts().head() # hour is not recorded in the time stamp"
   ]
  },
  {
   "cell_type": "code",
   "execution_count": 50,
   "metadata": {},
   "outputs": [],
   "source": [
    "del HelpfulnesswithTarget_df['hour']"
   ]
  },
  {
   "cell_type": "code",
   "execution_count": 51,
   "metadata": {},
   "outputs": [],
   "source": [
    "def get_season_flags(month):\n",
    "    def winter_flag(month):\n",
    "        if month in [10, 11, 12 , 1, 2]:\n",
    "            return '1'\n",
    "        return '0'\n",
    "    def summer_flag(month):\n",
    "        if month in [7, 8]:\n",
    "            return '1'\n",
    "        return '0'\n",
    "    winter = winter_flag(month)\n",
    "    summer = summer_flag(month)\n",
    "    return [winter, summer]"
   ]
  },
  {
   "cell_type": "code",
   "execution_count": 52,
   "metadata": {},
   "outputs": [
    {
     "data": {
      "text/html": [
       "<div>\n",
       "<style scoped>\n",
       "    .dataframe tbody tr th:only-of-type {\n",
       "        vertical-align: middle;\n",
       "    }\n",
       "\n",
       "    .dataframe tbody tr th {\n",
       "        vertical-align: top;\n",
       "    }\n",
       "\n",
       "    .dataframe thead th {\n",
       "        text-align: right;\n",
       "    }\n",
       "</style>\n",
       "<table border=\"1\" class=\"dataframe\">\n",
       "  <thead>\n",
       "    <tr style=\"text-align: right;\">\n",
       "      <th></th>\n",
       "      <th>Id</th>\n",
       "      <th>ProductId</th>\n",
       "      <th>UserId</th>\n",
       "      <th>ProfileName</th>\n",
       "      <th>HelpfulnessNumerator</th>\n",
       "      <th>HelpfulnessDenominator</th>\n",
       "      <th>Score</th>\n",
       "      <th>Time</th>\n",
       "      <th>Summary</th>\n",
       "      <th>Text</th>\n",
       "      <th>...</th>\n",
       "      <th>n_words</th>\n",
       "      <th>clean_text</th>\n",
       "      <th>n_distinct_cleanwords</th>\n",
       "      <th>n_cleanwords</th>\n",
       "      <th>cleanwords_ratio</th>\n",
       "      <th>day_of_week</th>\n",
       "      <th>year</th>\n",
       "      <th>month</th>\n",
       "      <th>winter_flag</th>\n",
       "      <th>summer_flag</th>\n",
       "    </tr>\n",
       "  </thead>\n",
       "  <tbody>\n",
       "    <tr>\n",
       "      <th>11</th>\n",
       "      <td>12</td>\n",
       "      <td>B0009XLVG0</td>\n",
       "      <td>A2725IB4YY9JEB</td>\n",
       "      <td>A Poeng \"SparkyGoHome\"</td>\n",
       "      <td>4</td>\n",
       "      <td>4</td>\n",
       "      <td>5</td>\n",
       "      <td>2010-08-27</td>\n",
       "      <td>My cats LOVE this \"diet\" food better than thei...</td>\n",
       "      <td>One of my boys needed to lose some weight and ...</td>\n",
       "      <td>...</td>\n",
       "      <td>67</td>\n",
       "      <td>[one, boys, needed, lose, weight, put, food, f...</td>\n",
       "      <td>25</td>\n",
       "      <td>31</td>\n",
       "      <td>0.462687</td>\n",
       "      <td>4</td>\n",
       "      <td>2010</td>\n",
       "      <td>8</td>\n",
       "      <td>0</td>\n",
       "      <td>1</td>\n",
       "    </tr>\n",
       "    <tr>\n",
       "      <th>14</th>\n",
       "      <td>15</td>\n",
       "      <td>B001GVISJM</td>\n",
       "      <td>A2MUGFV2TDQ47K</td>\n",
       "      <td>Lynrie \"Oh HELL no\"</td>\n",
       "      <td>4</td>\n",
       "      <td>5</td>\n",
       "      <td>5</td>\n",
       "      <td>2010-03-12</td>\n",
       "      <td>Strawberry Twizzlers - Yummy</td>\n",
       "      <td>The Strawberry Twizzlers are my guilty pleasur...</td>\n",
       "      <td>...</td>\n",
       "      <td>21</td>\n",
       "      <td>[strawberry, twizzlers, guilty, pleasure, yumm...</td>\n",
       "      <td>9</td>\n",
       "      <td>9</td>\n",
       "      <td>0.428571</td>\n",
       "      <td>4</td>\n",
       "      <td>2010</td>\n",
       "      <td>3</td>\n",
       "      <td>0</td>\n",
       "      <td>0</td>\n",
       "    </tr>\n",
       "    <tr>\n",
       "      <th>15</th>\n",
       "      <td>16</td>\n",
       "      <td>B001GVISJM</td>\n",
       "      <td>A1CZX3CP8IKQIJ</td>\n",
       "      <td>Brian A. Lee</td>\n",
       "      <td>4</td>\n",
       "      <td>5</td>\n",
       "      <td>5</td>\n",
       "      <td>2009-12-29</td>\n",
       "      <td>Lots of twizzlers, just what you expect.</td>\n",
       "      <td>My daughter loves twizzlers and this shipment ...</td>\n",
       "      <td>...</td>\n",
       "      <td>26</td>\n",
       "      <td>[daughter, loves, twizzlers, shipment, six, po...</td>\n",
       "      <td>14</td>\n",
       "      <td>16</td>\n",
       "      <td>0.615385</td>\n",
       "      <td>1</td>\n",
       "      <td>2009</td>\n",
       "      <td>12</td>\n",
       "      <td>1</td>\n",
       "      <td>0</td>\n",
       "    </tr>\n",
       "    <tr>\n",
       "      <th>32</th>\n",
       "      <td>33</td>\n",
       "      <td>B001EO5QW8</td>\n",
       "      <td>AOVROBZ8BNTP7</td>\n",
       "      <td>S. Potter</td>\n",
       "      <td>19</td>\n",
       "      <td>19</td>\n",
       "      <td>4</td>\n",
       "      <td>2006-11-13</td>\n",
       "      <td>Best of the Instant Oatmeals</td>\n",
       "      <td>McCann's Instant Oatmeal is great if you must ...</td>\n",
       "      <td>...</td>\n",
       "      <td>206</td>\n",
       "      <td>[mccann, instant, oatmeal, great, must, oatmea...</td>\n",
       "      <td>84</td>\n",
       "      <td>110</td>\n",
       "      <td>0.533981</td>\n",
       "      <td>0</td>\n",
       "      <td>2006</td>\n",
       "      <td>11</td>\n",
       "      <td>1</td>\n",
       "      <td>0</td>\n",
       "    </tr>\n",
       "    <tr>\n",
       "      <th>33</th>\n",
       "      <td>34</td>\n",
       "      <td>B001EO5QW8</td>\n",
       "      <td>A3PMM0NFVEJGK9</td>\n",
       "      <td>Megan \"Bad at Nicknames\"</td>\n",
       "      <td>13</td>\n",
       "      <td>13</td>\n",
       "      <td>4</td>\n",
       "      <td>2006-12-17</td>\n",
       "      <td>Good Instant</td>\n",
       "      <td>This is a good instant oatmeal from the best o...</td>\n",
       "      <td>...</td>\n",
       "      <td>93</td>\n",
       "      <td>[good, instant, oatmeal, best, oatmeal, brand,...</td>\n",
       "      <td>40</td>\n",
       "      <td>46</td>\n",
       "      <td>0.494624</td>\n",
       "      <td>6</td>\n",
       "      <td>2006</td>\n",
       "      <td>12</td>\n",
       "      <td>1</td>\n",
       "      <td>0</td>\n",
       "    </tr>\n",
       "  </tbody>\n",
       "</table>\n",
       "<p>5 rows × 25 columns</p>\n",
       "</div>"
      ],
      "text/plain": [
       "    Id   ProductId          UserId               ProfileName  \\\n",
       "11  12  B0009XLVG0  A2725IB4YY9JEB    A Poeng \"SparkyGoHome\"   \n",
       "14  15  B001GVISJM  A2MUGFV2TDQ47K       Lynrie \"Oh HELL no\"   \n",
       "15  16  B001GVISJM  A1CZX3CP8IKQIJ              Brian A. Lee   \n",
       "32  33  B001EO5QW8   AOVROBZ8BNTP7                 S. Potter   \n",
       "33  34  B001EO5QW8  A3PMM0NFVEJGK9  Megan \"Bad at Nicknames\"   \n",
       "\n",
       "    HelpfulnessNumerator  HelpfulnessDenominator  Score       Time  \\\n",
       "11                     4                       4      5 2010-08-27   \n",
       "14                     4                       5      5 2010-03-12   \n",
       "15                     4                       5      5 2009-12-29   \n",
       "32                    19                      19      4 2006-11-13   \n",
       "33                    13                      13      4 2006-12-17   \n",
       "\n",
       "                                              Summary  \\\n",
       "11  My cats LOVE this \"diet\" food better than thei...   \n",
       "14                       Strawberry Twizzlers - Yummy   \n",
       "15           Lots of twizzlers, just what you expect.   \n",
       "32                       Best of the Instant Oatmeals   \n",
       "33                                       Good Instant   \n",
       "\n",
       "                                                 Text  ...  n_words  \\\n",
       "11  One of my boys needed to lose some weight and ...  ...       67   \n",
       "14  The Strawberry Twizzlers are my guilty pleasur...  ...       21   \n",
       "15  My daughter loves twizzlers and this shipment ...  ...       26   \n",
       "32  McCann's Instant Oatmeal is great if you must ...  ...      206   \n",
       "33  This is a good instant oatmeal from the best o...  ...       93   \n",
       "\n",
       "                                           clean_text n_distinct_cleanwords  \\\n",
       "11  [one, boys, needed, lose, weight, put, food, f...                    25   \n",
       "14  [strawberry, twizzlers, guilty, pleasure, yumm...                     9   \n",
       "15  [daughter, loves, twizzlers, shipment, six, po...                    14   \n",
       "32  [mccann, instant, oatmeal, great, must, oatmea...                    84   \n",
       "33  [good, instant, oatmeal, best, oatmeal, brand,...                    40   \n",
       "\n",
       "   n_cleanwords  cleanwords_ratio  day_of_week  year  month  winter_flag  \\\n",
       "11           31          0.462687            4  2010      8            0   \n",
       "14            9          0.428571            4  2010      3            0   \n",
       "15           16          0.615385            1  2009     12            1   \n",
       "32          110          0.533981            0  2006     11            1   \n",
       "33           46          0.494624            6  2006     12            1   \n",
       "\n",
       "    summer_flag  \n",
       "11            1  \n",
       "14            0  \n",
       "15            0  \n",
       "32            0  \n",
       "33            0  \n",
       "\n",
       "[5 rows x 25 columns]"
      ]
     },
     "execution_count": 52,
     "metadata": {},
     "output_type": "execute_result"
    }
   ],
   "source": [
    "season_flags = HelpfulnesswithTarget_df.apply(\n",
    "    lambda x: pd.Series(\n",
    "        get_season_flags(x.month), \n",
    "        index = [\"winter_flag\", \"summer_flag\"]\n",
    "    ),\n",
    "    axis=1\n",
    ")\n",
    "HelpfulnesswithTarget_df = pd.concat([HelpfulnesswithTarget_df[:], season_flags[:]], axis=1)\n",
    "HelpfulnesswithTarget_df.head()"
   ]
  },
  {
   "cell_type": "markdown",
   "metadata": {},
   "source": [
    "#### 4.4. Feature Engineering - Product and reviewer variables\n",
    "- Number of times product appears in reviews (product_freq)\n",
    "- Number of times reviewer appears in reviews (reviewer_freq)\n",
    "\n",
    "Could have added:\n",
    "- average number of reviews per reviewer\n",
    "- average number of reviews per product"
   ]
  },
  {
   "cell_type": "code",
   "execution_count": 53,
   "metadata": {},
   "outputs": [
    {
     "data": {
      "text/plain": [
       "B000VK08OC    163\n",
       "B003B3OOPA    148\n",
       "B00012182G    124\n",
       "B000FI4O90    121\n",
       "B006Q820X0    118\n",
       "Name: ProductId, dtype: int64"
      ]
     },
     "execution_count": 53,
     "metadata": {},
     "output_type": "execute_result"
    }
   ],
   "source": [
    "## Counts per product\n",
    "HelpfulnesswithTarget_df.ProductId.value_counts().head()"
   ]
  },
  {
   "cell_type": "code",
   "execution_count": 54,
   "metadata": {},
   "outputs": [
    {
     "data": {
      "text/html": [
       "<div>\n",
       "<style scoped>\n",
       "    .dataframe tbody tr th:only-of-type {\n",
       "        vertical-align: middle;\n",
       "    }\n",
       "\n",
       "    .dataframe tbody tr th {\n",
       "        vertical-align: top;\n",
       "    }\n",
       "\n",
       "    .dataframe thead th {\n",
       "        text-align: right;\n",
       "    }\n",
       "</style>\n",
       "<table border=\"1\" class=\"dataframe\">\n",
       "  <thead>\n",
       "    <tr style=\"text-align: right;\">\n",
       "      <th></th>\n",
       "      <th>Id</th>\n",
       "      <th>ProductId</th>\n",
       "      <th>UserId</th>\n",
       "      <th>ProfileName</th>\n",
       "      <th>HelpfulnessNumerator</th>\n",
       "      <th>HelpfulnessDenominator</th>\n",
       "      <th>Score</th>\n",
       "      <th>Time</th>\n",
       "      <th>Summary</th>\n",
       "      <th>Text</th>\n",
       "      <th>...</th>\n",
       "      <th>clean_text</th>\n",
       "      <th>n_distinct_cleanwords</th>\n",
       "      <th>n_cleanwords</th>\n",
       "      <th>cleanwords_ratio</th>\n",
       "      <th>day_of_week</th>\n",
       "      <th>year</th>\n",
       "      <th>month</th>\n",
       "      <th>winter_flag</th>\n",
       "      <th>summer_flag</th>\n",
       "      <th>product_freq</th>\n",
       "    </tr>\n",
       "  </thead>\n",
       "  <tbody>\n",
       "    <tr>\n",
       "      <th>292242</th>\n",
       "      <td>292243</td>\n",
       "      <td>B000VK08OC</td>\n",
       "      <td>AAFS750GGU1YF</td>\n",
       "      <td>GigiSez</td>\n",
       "      <td>11</td>\n",
       "      <td>11</td>\n",
       "      <td>5</td>\n",
       "      <td>2008-12-28</td>\n",
       "      <td>Best Manuka Honey on the Market</td>\n",
       "      <td>I have tried several brands of organic Manuka ...</td>\n",
       "      <td>...</td>\n",
       "      <td>[tried, several, brands, organic, manuka, hone...</td>\n",
       "      <td>27</td>\n",
       "      <td>28</td>\n",
       "      <td>0.538462</td>\n",
       "      <td>6</td>\n",
       "      <td>2008</td>\n",
       "      <td>12</td>\n",
       "      <td>1</td>\n",
       "      <td>0</td>\n",
       "      <td>163</td>\n",
       "    </tr>\n",
       "    <tr>\n",
       "      <th>292257</th>\n",
       "      <td>292258</td>\n",
       "      <td>B000VK08OC</td>\n",
       "      <td>A2ZZ931SRYDDUR</td>\n",
       "      <td>MTNSURF20</td>\n",
       "      <td>8</td>\n",
       "      <td>8</td>\n",
       "      <td>5</td>\n",
       "      <td>2011-09-23</td>\n",
       "      <td>works well to prevent acid reflux...</td>\n",
       "      <td>I have dealt w reflux for most of my adult lif...</td>\n",
       "      <td>...</td>\n",
       "      <td>[dealt, w, reflux, adult, life, 41, problems, ...</td>\n",
       "      <td>71</td>\n",
       "      <td>82</td>\n",
       "      <td>0.465909</td>\n",
       "      <td>4</td>\n",
       "      <td>2011</td>\n",
       "      <td>9</td>\n",
       "      <td>0</td>\n",
       "      <td>0</td>\n",
       "      <td>163</td>\n",
       "    </tr>\n",
       "    <tr>\n",
       "      <th>292267</th>\n",
       "      <td>292268</td>\n",
       "      <td>B000VK08OC</td>\n",
       "      <td>A1EZV8B8EZLWI4</td>\n",
       "      <td>Anthony A. Greenwood Jr.</td>\n",
       "      <td>7</td>\n",
       "      <td>7</td>\n",
       "      <td>5</td>\n",
       "      <td>2011-11-07</td>\n",
       "      <td>Miracle Food</td>\n",
       "      <td>I was diagnosed with esophageal ulcers and cou...</td>\n",
       "      <td>...</td>\n",
       "      <td>[diagnosed, esophageal, ulcers, eat, swallow, ...</td>\n",
       "      <td>15</td>\n",
       "      <td>15</td>\n",
       "      <td>0.428571</td>\n",
       "      <td>0</td>\n",
       "      <td>2011</td>\n",
       "      <td>11</td>\n",
       "      <td>1</td>\n",
       "      <td>0</td>\n",
       "      <td>163</td>\n",
       "    </tr>\n",
       "    <tr>\n",
       "      <th>292266</th>\n",
       "      <td>292267</td>\n",
       "      <td>B000VK08OC</td>\n",
       "      <td>ARBR8471NTSMH</td>\n",
       "      <td>Filet Mignon</td>\n",
       "      <td>10</td>\n",
       "      <td>11</td>\n",
       "      <td>5</td>\n",
       "      <td>2011-03-06</td>\n",
       "      <td>Yummy in my Tummy</td>\n",
       "      <td>Them bees sure spit out a delicious concoction...</td>\n",
       "      <td>...</td>\n",
       "      <td>[bees, sure, spit, delicious, concoction, eh, ...</td>\n",
       "      <td>125</td>\n",
       "      <td>192</td>\n",
       "      <td>0.536313</td>\n",
       "      <td>6</td>\n",
       "      <td>2011</td>\n",
       "      <td>3</td>\n",
       "      <td>0</td>\n",
       "      <td>0</td>\n",
       "      <td>163</td>\n",
       "    </tr>\n",
       "    <tr>\n",
       "      <th>292265</th>\n",
       "      <td>292266</td>\n",
       "      <td>B000VK08OC</td>\n",
       "      <td>A7EJERNB7IK3Z</td>\n",
       "      <td>CQ DX</td>\n",
       "      <td>10</td>\n",
       "      <td>11</td>\n",
       "      <td>5</td>\n",
       "      <td>2011-05-04</td>\n",
       "      <td>One of the 2 best honeys in the world!  Helps ...</td>\n",
       "      <td>I had read a few articles about Manuka honey, ...</td>\n",
       "      <td>...</td>\n",
       "      <td>[read, articles, manuka, honey, supposed, medi...</td>\n",
       "      <td>63</td>\n",
       "      <td>80</td>\n",
       "      <td>0.500000</td>\n",
       "      <td>2</td>\n",
       "      <td>2011</td>\n",
       "      <td>5</td>\n",
       "      <td>0</td>\n",
       "      <td>0</td>\n",
       "      <td>163</td>\n",
       "    </tr>\n",
       "  </tbody>\n",
       "</table>\n",
       "<p>5 rows × 26 columns</p>\n",
       "</div>"
      ],
      "text/plain": [
       "            Id   ProductId          UserId               ProfileName  \\\n",
       "292242  292243  B000VK08OC   AAFS750GGU1YF                   GigiSez   \n",
       "292257  292258  B000VK08OC  A2ZZ931SRYDDUR                 MTNSURF20   \n",
       "292267  292268  B000VK08OC  A1EZV8B8EZLWI4  Anthony A. Greenwood Jr.   \n",
       "292266  292267  B000VK08OC   ARBR8471NTSMH              Filet Mignon   \n",
       "292265  292266  B000VK08OC   A7EJERNB7IK3Z                     CQ DX   \n",
       "\n",
       "        HelpfulnessNumerator  HelpfulnessDenominator  Score       Time  \\\n",
       "292242                    11                      11      5 2008-12-28   \n",
       "292257                     8                       8      5 2011-09-23   \n",
       "292267                     7                       7      5 2011-11-07   \n",
       "292266                    10                      11      5 2011-03-06   \n",
       "292265                    10                      11      5 2011-05-04   \n",
       "\n",
       "                                                  Summary  \\\n",
       "292242                    Best Manuka Honey on the Market   \n",
       "292257               works well to prevent acid reflux...   \n",
       "292267                                       Miracle Food   \n",
       "292266                                  Yummy in my Tummy   \n",
       "292265  One of the 2 best honeys in the world!  Helps ...   \n",
       "\n",
       "                                                     Text  ...  \\\n",
       "292242  I have tried several brands of organic Manuka ...  ...   \n",
       "292257  I have dealt w reflux for most of my adult lif...  ...   \n",
       "292267  I was diagnosed with esophageal ulcers and cou...  ...   \n",
       "292266  Them bees sure spit out a delicious concoction...  ...   \n",
       "292265  I had read a few articles about Manuka honey, ...  ...   \n",
       "\n",
       "                                               clean_text  \\\n",
       "292242  [tried, several, brands, organic, manuka, hone...   \n",
       "292257  [dealt, w, reflux, adult, life, 41, problems, ...   \n",
       "292267  [diagnosed, esophageal, ulcers, eat, swallow, ...   \n",
       "292266  [bees, sure, spit, delicious, concoction, eh, ...   \n",
       "292265  [read, articles, manuka, honey, supposed, medi...   \n",
       "\n",
       "       n_distinct_cleanwords n_cleanwords cleanwords_ratio  day_of_week  year  \\\n",
       "292242                    27           28         0.538462            6  2008   \n",
       "292257                    71           82         0.465909            4  2011   \n",
       "292267                    15           15         0.428571            0  2011   \n",
       "292266                   125          192         0.536313            6  2011   \n",
       "292265                    63           80         0.500000            2  2011   \n",
       "\n",
       "       month  winter_flag  summer_flag  product_freq  \n",
       "292242    12            1            0           163  \n",
       "292257     9            0            0           163  \n",
       "292267    11            1            0           163  \n",
       "292266     3            0            0           163  \n",
       "292265     5            0            0           163  \n",
       "\n",
       "[5 rows x 26 columns]"
      ]
     },
     "execution_count": 54,
     "metadata": {},
     "output_type": "execute_result"
    }
   ],
   "source": [
    "HelpfulnesswithTarget_df['product_freq'] = HelpfulnesswithTarget_df.groupby('ProductId')['ProductId'].transform('count')\n",
    "HelpfulnesswithTarget_df.sort_values('product_freq', ascending=False).head()"
   ]
  },
  {
   "cell_type": "code",
   "execution_count": 55,
   "metadata": {},
   "outputs": [
    {
     "data": {
      "text/plain": [
       "A3TVZM3ZIXG8YW    174\n",
       "A1YUL9PCJR3JTY    125\n",
       "A281NPSIMI1C2R    107\n",
       "A29JUMRL1US6YP    102\n",
       "A1WX42M589VAMQ     78\n",
       "Name: UserId, dtype: int64"
      ]
     },
     "execution_count": 55,
     "metadata": {},
     "output_type": "execute_result"
    }
   ],
   "source": [
    "## Counts per reviewer\n",
    "HelpfulnesswithTarget_df.UserId.value_counts().head()"
   ]
  },
  {
   "cell_type": "code",
   "execution_count": 56,
   "metadata": {},
   "outputs": [
    {
     "data": {
      "text/html": [
       "<div>\n",
       "<style scoped>\n",
       "    .dataframe tbody tr th:only-of-type {\n",
       "        vertical-align: middle;\n",
       "    }\n",
       "\n",
       "    .dataframe tbody tr th {\n",
       "        vertical-align: top;\n",
       "    }\n",
       "\n",
       "    .dataframe thead th {\n",
       "        text-align: right;\n",
       "    }\n",
       "</style>\n",
       "<table border=\"1\" class=\"dataframe\">\n",
       "  <thead>\n",
       "    <tr style=\"text-align: right;\">\n",
       "      <th></th>\n",
       "      <th>Id</th>\n",
       "      <th>ProductId</th>\n",
       "      <th>UserId</th>\n",
       "      <th>ProfileName</th>\n",
       "      <th>HelpfulnessNumerator</th>\n",
       "      <th>HelpfulnessDenominator</th>\n",
       "      <th>Score</th>\n",
       "      <th>Time</th>\n",
       "      <th>Summary</th>\n",
       "      <th>Text</th>\n",
       "      <th>...</th>\n",
       "      <th>n_distinct_cleanwords</th>\n",
       "      <th>n_cleanwords</th>\n",
       "      <th>cleanwords_ratio</th>\n",
       "      <th>day_of_week</th>\n",
       "      <th>year</th>\n",
       "      <th>month</th>\n",
       "      <th>winter_flag</th>\n",
       "      <th>summer_flag</th>\n",
       "      <th>product_freq</th>\n",
       "      <th>reviewer_freq</th>\n",
       "    </tr>\n",
       "  </thead>\n",
       "  <tbody>\n",
       "    <tr>\n",
       "      <th>318797</th>\n",
       "      <td>318798</td>\n",
       "      <td>B003MW7858</td>\n",
       "      <td>A3TVZM3ZIXG8YW</td>\n",
       "      <td>christopher hayes</td>\n",
       "      <td>7</td>\n",
       "      <td>9</td>\n",
       "      <td>1</td>\n",
       "      <td>2010-12-04</td>\n",
       "      <td>Filler food is empty, leaves your cat always n...</td>\n",
       "      <td>This review will make me sound really stupid, ...</td>\n",
       "      <td>...</td>\n",
       "      <td>273</td>\n",
       "      <td>434</td>\n",
       "      <td>0.488189</td>\n",
       "      <td>5</td>\n",
       "      <td>2010</td>\n",
       "      <td>12</td>\n",
       "      <td>1</td>\n",
       "      <td>0</td>\n",
       "      <td>27</td>\n",
       "      <td>174</td>\n",
       "    </tr>\n",
       "    <tr>\n",
       "      <th>499864</th>\n",
       "      <td>499865</td>\n",
       "      <td>B009B87SAC</td>\n",
       "      <td>A3TVZM3ZIXG8YW</td>\n",
       "      <td>christopher hayes</td>\n",
       "      <td>33</td>\n",
       "      <td>48</td>\n",
       "      <td>1</td>\n",
       "      <td>2010-12-04</td>\n",
       "      <td>Filler food is empty, leaves your cat always n...</td>\n",
       "      <td>This review will make me sound really stupid, ...</td>\n",
       "      <td>...</td>\n",
       "      <td>273</td>\n",
       "      <td>434</td>\n",
       "      <td>0.488189</td>\n",
       "      <td>5</td>\n",
       "      <td>2010</td>\n",
       "      <td>12</td>\n",
       "      <td>1</td>\n",
       "      <td>0</td>\n",
       "      <td>27</td>\n",
       "      <td>174</td>\n",
       "    </tr>\n",
       "    <tr>\n",
       "      <th>282911</th>\n",
       "      <td>282912</td>\n",
       "      <td>B002Z9EQPO</td>\n",
       "      <td>A3TVZM3ZIXG8YW</td>\n",
       "      <td>christopher hayes</td>\n",
       "      <td>7</td>\n",
       "      <td>11</td>\n",
       "      <td>1</td>\n",
       "      <td>2010-12-04</td>\n",
       "      <td>Filler food is empty, leaves your cat always n...</td>\n",
       "      <td>This review will make me sound really stupid, ...</td>\n",
       "      <td>...</td>\n",
       "      <td>273</td>\n",
       "      <td>434</td>\n",
       "      <td>0.488189</td>\n",
       "      <td>5</td>\n",
       "      <td>2010</td>\n",
       "      <td>12</td>\n",
       "      <td>1</td>\n",
       "      <td>0</td>\n",
       "      <td>5</td>\n",
       "      <td>174</td>\n",
       "    </tr>\n",
       "    <tr>\n",
       "      <th>247121</th>\n",
       "      <td>247122</td>\n",
       "      <td>B003M5TG28</td>\n",
       "      <td>A3TVZM3ZIXG8YW</td>\n",
       "      <td>christopher hayes</td>\n",
       "      <td>6</td>\n",
       "      <td>14</td>\n",
       "      <td>1</td>\n",
       "      <td>2010-12-04</td>\n",
       "      <td>Filler food is empty, leaves your cat always n...</td>\n",
       "      <td>This review will make me sound really stupid, ...</td>\n",
       "      <td>...</td>\n",
       "      <td>273</td>\n",
       "      <td>434</td>\n",
       "      <td>0.488189</td>\n",
       "      <td>5</td>\n",
       "      <td>2010</td>\n",
       "      <td>12</td>\n",
       "      <td>1</td>\n",
       "      <td>0</td>\n",
       "      <td>27</td>\n",
       "      <td>174</td>\n",
       "    </tr>\n",
       "    <tr>\n",
       "      <th>429240</th>\n",
       "      <td>429241</td>\n",
       "      <td>B003MWBFMK</td>\n",
       "      <td>A3TVZM3ZIXG8YW</td>\n",
       "      <td>christopher hayes</td>\n",
       "      <td>7</td>\n",
       "      <td>9</td>\n",
       "      <td>1</td>\n",
       "      <td>2010-12-04</td>\n",
       "      <td>Filler food is empty, leaves your cat always n...</td>\n",
       "      <td>This review will make me sound really stupid, ...</td>\n",
       "      <td>...</td>\n",
       "      <td>273</td>\n",
       "      <td>434</td>\n",
       "      <td>0.488189</td>\n",
       "      <td>5</td>\n",
       "      <td>2010</td>\n",
       "      <td>12</td>\n",
       "      <td>1</td>\n",
       "      <td>0</td>\n",
       "      <td>27</td>\n",
       "      <td>174</td>\n",
       "    </tr>\n",
       "  </tbody>\n",
       "</table>\n",
       "<p>5 rows × 27 columns</p>\n",
       "</div>"
      ],
      "text/plain": [
       "            Id   ProductId          UserId        ProfileName  \\\n",
       "318797  318798  B003MW7858  A3TVZM3ZIXG8YW  christopher hayes   \n",
       "499864  499865  B009B87SAC  A3TVZM3ZIXG8YW  christopher hayes   \n",
       "282911  282912  B002Z9EQPO  A3TVZM3ZIXG8YW  christopher hayes   \n",
       "247121  247122  B003M5TG28  A3TVZM3ZIXG8YW  christopher hayes   \n",
       "429240  429241  B003MWBFMK  A3TVZM3ZIXG8YW  christopher hayes   \n",
       "\n",
       "        HelpfulnessNumerator  HelpfulnessDenominator  Score       Time  \\\n",
       "318797                     7                       9      1 2010-12-04   \n",
       "499864                    33                      48      1 2010-12-04   \n",
       "282911                     7                      11      1 2010-12-04   \n",
       "247121                     6                      14      1 2010-12-04   \n",
       "429240                     7                       9      1 2010-12-04   \n",
       "\n",
       "                                                  Summary  \\\n",
       "318797  Filler food is empty, leaves your cat always n...   \n",
       "499864  Filler food is empty, leaves your cat always n...   \n",
       "282911  Filler food is empty, leaves your cat always n...   \n",
       "247121  Filler food is empty, leaves your cat always n...   \n",
       "429240  Filler food is empty, leaves your cat always n...   \n",
       "\n",
       "                                                     Text  ...  \\\n",
       "318797  This review will make me sound really stupid, ...  ...   \n",
       "499864  This review will make me sound really stupid, ...  ...   \n",
       "282911  This review will make me sound really stupid, ...  ...   \n",
       "247121  This review will make me sound really stupid, ...  ...   \n",
       "429240  This review will make me sound really stupid, ...  ...   \n",
       "\n",
       "        n_distinct_cleanwords n_cleanwords cleanwords_ratio day_of_week  year  \\\n",
       "318797                    273          434         0.488189           5  2010   \n",
       "499864                    273          434         0.488189           5  2010   \n",
       "282911                    273          434         0.488189           5  2010   \n",
       "247121                    273          434         0.488189           5  2010   \n",
       "429240                    273          434         0.488189           5  2010   \n",
       "\n",
       "        month winter_flag  summer_flag  product_freq  reviewer_freq  \n",
       "318797     12           1            0            27            174  \n",
       "499864     12           1            0            27            174  \n",
       "282911     12           1            0             5            174  \n",
       "247121     12           1            0            27            174  \n",
       "429240     12           1            0            27            174  \n",
       "\n",
       "[5 rows x 27 columns]"
      ]
     },
     "execution_count": 56,
     "metadata": {},
     "output_type": "execute_result"
    }
   ],
   "source": [
    "HelpfulnesswithTarget_df['reviewer_freq'] = HelpfulnesswithTarget_df.groupby('UserId')['UserId'].transform('count')\n",
    "HelpfulnesswithTarget_df.sort_values('reviewer_freq', ascending=False).head()"
   ]
  },
  {
   "cell_type": "markdown",
   "metadata": {},
   "source": [
    "### 5. Data Exploration\n",
    "\n",
    "This section includes plots and graphs from the data set with the variables created from the previous section. Plus their comparison with the target variable. It gives an idea of which are the important variables in the model. It also helpsdecide which variables to take out of the study and it also helps create more variables if needed. \n",
    "\n",
    "The data set at this point includes:\n",
    "- Reviews from Oct 2001 - Oct 2012\n",
    "- 89,773 reviews\n",
    "- 51,702 users\n",
    "- 22,747 products\n",
    "\n",
    "Exploration includes:\n",
    "1. Looking at the target variable\n",
    "2. Numeric variable means related to target variable\n",
    "3. Data Exploration - Rating and Score variables\n",
    "4. Reviews and products per year\n",
    "5. Reviews and products per month and days of the week"
   ]
  },
  {
   "cell_type": "code",
   "execution_count": 57,
   "metadata": {},
   "outputs": [
    {
     "data": {
      "text/html": [
       "<div>\n",
       "<style scoped>\n",
       "    .dataframe tbody tr th:only-of-type {\n",
       "        vertical-align: middle;\n",
       "    }\n",
       "\n",
       "    .dataframe tbody tr th {\n",
       "        vertical-align: top;\n",
       "    }\n",
       "\n",
       "    .dataframe thead th {\n",
       "        text-align: right;\n",
       "    }\n",
       "</style>\n",
       "<table border=\"1\" class=\"dataframe\">\n",
       "  <thead>\n",
       "    <tr style=\"text-align: right;\">\n",
       "      <th></th>\n",
       "      <th>count</th>\n",
       "      <th>unique</th>\n",
       "    </tr>\n",
       "  </thead>\n",
       "  <tbody>\n",
       "    <tr>\n",
       "      <th>ProductId</th>\n",
       "      <td>89773</td>\n",
       "      <td>22747</td>\n",
       "    </tr>\n",
       "    <tr>\n",
       "      <th>UserId</th>\n",
       "      <td>89773</td>\n",
       "      <td>51702</td>\n",
       "    </tr>\n",
       "  </tbody>\n",
       "</table>\n",
       "</div>"
      ],
      "text/plain": [
       "           count unique\n",
       "ProductId  89773  22747\n",
       "UserId     89773  51702"
      ]
     },
     "execution_count": 57,
     "metadata": {},
     "output_type": "execute_result"
    }
   ],
   "source": [
    "HelpfulnesswithTarget_df[['ProductId', 'UserId']].describe().T[['count','unique']]\n",
    "# HelpfulnesswithTarget_df.ProductId.nunique()"
   ]
  },
  {
   "cell_type": "code",
   "execution_count": 58,
   "metadata": {
    "collapsed": true,
    "jupyter": {
     "outputs_hidden": true
    },
    "tags": []
   },
   "outputs": [
    {
     "name": "stdout",
     "output_type": "stream",
     "text": [
      "Id                                 int64\n",
      "ProductId                         object\n",
      "UserId                            object\n",
      "ProfileName                       object\n",
      "HelpfulnessNumerator               int64\n",
      "HelpfulnessDenominator             int64\n",
      "Score                              int64\n",
      "Time                      datetime64[ns]\n",
      "Summary                           object\n",
      "Text                              object\n",
      "helpfulness_ratio                float64\n",
      "useful_flag                       object\n",
      "negative_rating_flag              object\n",
      "positive_rating_flag              object\n",
      "n_distinct_words                   int64\n",
      "n_words                            int64\n",
      "clean_text                        object\n",
      "n_distinct_cleanwords              int64\n",
      "n_cleanwords                       int64\n",
      "cleanwords_ratio                 float64\n",
      "day_of_week                        int64\n",
      "year                               int64\n",
      "month                              int64\n",
      "winter_flag                       object\n",
      "summer_flag                       object\n",
      "product_freq                       int64\n",
      "reviewer_freq                      int64\n",
      "dtype: object\n"
     ]
    }
   ],
   "source": [
    "print(HelpfulnesswithTarget_df.dtypes)"
   ]
  },
  {
   "cell_type": "code",
   "execution_count": 59,
   "metadata": {},
   "outputs": [],
   "source": [
    "HelpfulnesswithTarget_df['day_of_week'] = HelpfulnesswithTarget_df['day_of_week'].astype('category') \n",
    "HelpfulnesswithTarget_df['year'] = HelpfulnesswithTarget_df['year'].astype('category') \n",
    "HelpfulnesswithTarget_df['month'] = HelpfulnesswithTarget_df['month'].astype('category') "
   ]
  },
  {
   "cell_type": "markdown",
   "metadata": {},
   "source": [
    "#### 5.1. Data Exploration - Looking at the target variable\n",
    "\n",
    "When having a look at the target variable, it is possible to see that there are more 1's than 0's. This imbalance will need to be corrected so that the model ingests balanced data as this will help with performance and will give robustness to our model "
   ]
  },
  {
   "cell_type": "code",
   "execution_count": 64,
   "metadata": {},
   "outputs": [
    {
     "name": "stderr",
     "output_type": "stream",
     "text": [
      "/Users/CH10ZMB/projects/PythonExamples/.venv/lib/python3.9/site-packages/seaborn/distributions.py:2619: FutureWarning: `distplot` is a deprecated function and will be removed in a future version. Please adapt your code to use either `displot` (a figure-level function with similar flexibility) or `histplot` (an axes-level function for histograms).\n",
      "  warnings.warn(msg, FutureWarning)\n"
     ]
    },
    {
     "data": {
      "text/plain": [
       "<AxesSubplot:ylabel='Density'>"
      ]
     },
     "execution_count": 64,
     "metadata": {},
     "output_type": "execute_result"
    },
    {
     "data": {
      "image/png": "[encoded data removed]",
      "text/plain": [
       "<Figure size 432x288 with 1 Axes>"
      ]
     },
     "metadata": {},
     "output_type": "display_data"
    }
   ],
   "source": [
    "sns.distplot(HelpfulnesswithTarget_df[['helpfulness_ratio']],kde=True, rug=False)\n",
    "#plt.hist(HelpfulnesswithTarget_df[['helpfulness_ratio']])"
   ]
  },
  {
   "cell_type": "code",
   "execution_count": 65,
   "metadata": {},
   "outputs": [
    {
     "name": "stdout",
     "output_type": "stream",
     "text": [
      "1    62987\n",
      "0    26786\n",
      "Name: useful_flag, dtype: int64\n"
     ]
    },
    {
     "data": {
      "text/plain": [
       "<seaborn.axisgrid.FacetGrid at 0x137da2a90>"
      ]
     },
     "execution_count": 65,
     "metadata": {},
     "output_type": "execute_result"
    },
    {
     "data": {
      "image/png": "[encoded data removed]",
      "text/plain": [
       "<Figure size 360x360 with 1 Axes>"
      ]
     },
     "metadata": {},
     "output_type": "display_data"
    }
   ],
   "source": [
    "print(HelpfulnesswithTarget_df['useful_flag'].value_counts().head())\n",
    "sns.catplot(x=\"useful_flag\", kind=\"count\", data = HelpfulnesswithTarget_df)"
   ]
  },
  {
   "cell_type": "markdown",
   "metadata": {},
   "source": [
    "#### 5.2. Data Exploration - Numeric variable means related to target variable"
   ]
  },
  {
   "cell_type": "code",
   "execution_count": 66,
   "metadata": {},
   "outputs": [
    {
     "data": {
      "text/html": [
       "<div>\n",
       "<style scoped>\n",
       "    .dataframe tbody tr th:only-of-type {\n",
       "        vertical-align: middle;\n",
       "    }\n",
       "\n",
       "    .dataframe tbody tr th {\n",
       "        vertical-align: top;\n",
       "    }\n",
       "\n",
       "    .dataframe thead th {\n",
       "        text-align: right;\n",
       "    }\n",
       "</style>\n",
       "<table border=\"1\" class=\"dataframe\">\n",
       "  <thead>\n",
       "    <tr style=\"text-align: right;\">\n",
       "      <th></th>\n",
       "      <th>helpfulness_ratio</th>\n",
       "      <th>Score</th>\n",
       "      <th>n_distinct_words</th>\n",
       "      <th>n_distinct_cleanwords</th>\n",
       "      <th>n_words</th>\n",
       "      <th>n_cleanwords</th>\n",
       "      <th>cleanwords_ratio</th>\n",
       "      <th>product_freq</th>\n",
       "      <th>reviewer_freq</th>\n",
       "    </tr>\n",
       "    <tr>\n",
       "      <th>useful_flag</th>\n",
       "      <th></th>\n",
       "      <th></th>\n",
       "      <th></th>\n",
       "      <th></th>\n",
       "      <th></th>\n",
       "      <th></th>\n",
       "      <th></th>\n",
       "      <th></th>\n",
       "      <th></th>\n",
       "    </tr>\n",
       "  </thead>\n",
       "  <tbody>\n",
       "    <tr>\n",
       "      <th>0</th>\n",
       "      <td>0.366388</td>\n",
       "      <td>2.313037</td>\n",
       "      <td>64.606996</td>\n",
       "      <td>38.686105</td>\n",
       "      <td>96.078399</td>\n",
       "      <td>48.769581</td>\n",
       "      <td>0.501308</td>\n",
       "      <td>18.630143</td>\n",
       "      <td>5.731614</td>\n",
       "    </tr>\n",
       "    <tr>\n",
       "      <th>1</th>\n",
       "      <td>0.925228</td>\n",
       "      <td>4.143268</td>\n",
       "      <td>78.857034</td>\n",
       "      <td>48.548351</td>\n",
       "      <td>121.142236</td>\n",
       "      <td>62.139314</td>\n",
       "      <td>0.506926</td>\n",
       "      <td>15.267277</td>\n",
       "      <td>5.747853</td>\n",
       "    </tr>\n",
       "  </tbody>\n",
       "</table>\n",
       "</div>"
      ],
      "text/plain": [
       "             helpfulness_ratio     Score  n_distinct_words  \\\n",
       "useful_flag                                                  \n",
       "0                     0.366388  2.313037         64.606996   \n",
       "1                     0.925228  4.143268         78.857034   \n",
       "\n",
       "             n_distinct_cleanwords     n_words  n_cleanwords  \\\n",
       "useful_flag                                                    \n",
       "0                        38.686105   96.078399     48.769581   \n",
       "1                        48.548351  121.142236     62.139314   \n",
       "\n",
       "             cleanwords_ratio  product_freq  reviewer_freq  \n",
       "useful_flag                                                 \n",
       "0                    0.501308     18.630143       5.731614  \n",
       "1                    0.506926     15.267277       5.747853  "
      ]
     },
     "execution_count": 66,
     "metadata": {},
     "output_type": "execute_result"
    }
   ],
   "source": [
    "for_exploration = HelpfulnesswithTarget_df[['useful_flag'\n",
    "                                           ,'helpfulness_ratio'\n",
    "                                           ,'Score'\n",
    "                                           ,'negative_rating_flag'\n",
    "                                           ,'positive_rating_flag'\n",
    "                                           ,'n_distinct_words'\n",
    "                                           ,'n_distinct_cleanwords'\n",
    "                                           ,'n_words'\n",
    "                                           ,'n_cleanwords'\n",
    "                                           ,'cleanwords_ratio'\n",
    "                                           ,'product_freq'\n",
    "                                           ,'reviewer_freq']]\n",
    "\n",
    "for_exploration.groupby('useful_flag').mean()"
   ]
  },
  {
   "cell_type": "markdown",
   "metadata": {},
   "source": [
    "Just by looking at this mean table for the numerical and ordinal features it is possible to see that Score might end up being an important variable to distinct between the two outcomes. This, because useful reviews have products which on average got higher scores (4.1) and not useful reviews have products which on average have lower product ratings (2.3) \n",
    "The plots displayed in the follwing section also show a clear difference. "
   ]
  },
  {
   "cell_type": "markdown",
   "metadata": {},
   "source": [
    "#### 5.3. Data Exploration - Rating and Score variables\n"
   ]
  },
  {
   "cell_type": "code",
   "execution_count": 67,
   "metadata": {},
   "outputs": [
    {
     "data": {
      "text/plain": [
       "<seaborn.axisgrid.FacetGrid at 0x15c4962e0>"
      ]
     },
     "execution_count": 67,
     "metadata": {},
     "output_type": "execute_result"
    },
    {
     "data": {
      "image/png": "[encoded data removed]",
      "text/plain": [
       "<Figure size 360x360 with 1 Axes>"
      ]
     },
     "metadata": {},
     "output_type": "display_data"
    }
   ],
   "source": [
    "HelpfulnesswithTarget_df['negative_rating_flag'].value_counts().head()\n",
    "sns.catplot(x=\"negative_rating_flag\", y=\"helpfulness_ratio\", kind=\"box\", data=HelpfulnesswithTarget_df)"
   ]
  },
  {
   "cell_type": "code",
   "execution_count": 69,
   "metadata": {},
   "outputs": [
    {
     "data": {
      "text/plain": [
       "<seaborn.axisgrid.FacetGrid at 0x15a7fb220>"
      ]
     },
     "execution_count": 69,
     "metadata": {},
     "output_type": "execute_result"
    },
    {
     "data": {
      "image/png": "[encoded data removed]",
      "text/plain": [
       "<Figure size 360x360 with 1 Axes>"
      ]
     },
     "metadata": {},
     "output_type": "display_data"
    },
    {
     "data": {
      "image/png": "[encoded data removed]",
      "text/plain": [
       "<Figure size 360x360 with 1 Axes>"
      ]
     },
     "metadata": {},
     "output_type": "display_data"
    }
   ],
   "source": [
    "## Score Histograms\n",
    "## Seaborn histogram\n",
    "sns.catplot(x=\"Score\", kind=\"count\", data = HelpfulnesswithTarget_df)\n",
    "sns.catplot(x=\"Score\", y=\"helpfulness_ratio\", kind=\"box\", data=HelpfulnesswithTarget_df)"
   ]
  },
  {
   "cell_type": "markdown",
   "metadata": {},
   "source": [
    "#### 5.4. Data Exploration - Reviews and products per year\n",
    "When having a closer look at the years, this variable does not seem to be a good candidate for the model since there are not enough reviews from across all years and introducing it might bring bias to the model. "
   ]
  },
  {
   "cell_type": "code",
   "execution_count": 70,
   "metadata": {},
   "outputs": [
    {
     "name": "stdout",
     "output_type": "stream",
     "text": [
      "2011    22720\n",
      "2010    19260\n",
      "2009    14185\n",
      "2008     9955\n",
      "2012     9762\n",
      "2007     8980\n",
      "2006     3673\n",
      "2005      759\n",
      "2004      342\n",
      "2003       81\n",
      "2002       37\n",
      "2000       12\n",
      "2001        7\n",
      "Name: year, dtype: int64\n"
     ]
    },
    {
     "data": {
      "text/plain": [
       "<seaborn.axisgrid.FacetGrid at 0x13f6dc940>"
      ]
     },
     "execution_count": 70,
     "metadata": {},
     "output_type": "execute_result"
    },
    {
     "data": {
      "image/png": "[encoded data removed]",
      "text/plain": [
       "<Figure size 360x360 with 1 Axes>"
      ]
     },
     "metadata": {},
     "output_type": "display_data"
    }
   ],
   "source": [
    "## Reviews per year\n",
    "print(HelpfulnesswithTarget_df['year'].value_counts())\n",
    "sns.catplot(x=\"year\", kind=\"count\", data = HelpfulnesswithTarget_df) # reviews per year"
   ]
  },
  {
   "cell_type": "code",
   "execution_count": 71,
   "metadata": {},
   "outputs": [
    {
     "data": {
      "text/plain": [
       "year\n",
       "2000       7\n",
       "2001       4\n",
       "2002      12\n",
       "2003      73\n",
       "2004     244\n",
       "2005     572\n",
       "2006    1927\n",
       "2007    4290\n",
       "2008    5175\n",
       "2009    7002\n",
       "2010    8825\n",
       "2011    9545\n",
       "2012    4354\n",
       "Name: ProductId, dtype: int64"
      ]
     },
     "execution_count": 71,
     "metadata": {},
     "output_type": "execute_result"
    }
   ],
   "source": [
    "## Distinct products per year\n",
    "HelpfulnesswithTarget_df.groupby('year').ProductId.nunique()\n",
    "\n",
    "# print(pd.crosstab(HelpfulnesswithTarget_df.year\n",
    "#             ,HelpfulnesswithTarget_df.ProductId\n",
    "#            ).ne(0).mean(1))"
   ]
  },
  {
   "cell_type": "markdown",
   "metadata": {},
   "source": [
    "#### 5.5. Data Exploration - Reviews and products per month and days of the week\n",
    "From the plots, the day of the week variables might not bring too much into the model as there is not a clear difference between the usefulness ratio and the useful flag. However, the month variable shows a bit more potential with some spikes on reviews, specially for January (winter month) and the cold months and slightly on March and May. "
   ]
  },
  {
   "cell_type": "code",
   "execution_count": 72,
   "metadata": {},
   "outputs": [
    {
     "data": {
      "text/plain": [
       "<seaborn.axisgrid.FacetGrid at 0x13f5655e0>"
      ]
     },
     "execution_count": 72,
     "metadata": {},
     "output_type": "execute_result"
    },
    {
     "data": {
      "image/png": "[encoded data removed]",
      "text/plain": [
       "<Figure size 360x360 with 1 Axes>"
      ]
     },
     "metadata": {},
     "output_type": "display_data"
    },
    {
     "data": {
      "image/png": "[encoded data removed]",
      "text/plain": [
       "<Figure size 360x360 with 1 Axes>"
      ]
     },
     "metadata": {},
     "output_type": "display_data"
    },
    {
     "data": {
      "image/png": "[encoded data removed]",
      "text/plain": [
       "<Figure size 360x360 with 1 Axes>"
      ]
     },
     "metadata": {},
     "output_type": "display_data"
    },
    {
     "data": {
      "image/png": "[encoded data removed]",
      "text/plain": [
       "<Figure size 360x360 with 1 Axes>"
      ]
     },
     "metadata": {},
     "output_type": "display_data"
    }
   ],
   "source": [
    "sns.catplot(x=\"day_of_week\", kind=\"count\", data = HelpfulnesswithTarget_df) #, ax=axes[0][0])\n",
    "sns.catplot(x=\"day_of_week\", y=\"helpfulness_ratio\", kind=\"box\", data=HelpfulnesswithTarget_df) #, ax=axes[0][1])\n",
    "sns.catplot(x=\"month\", kind=\"count\", data = HelpfulnesswithTarget_df) #, ax=axes[1][0])\n",
    "sns.catplot(x=\"month\", y=\"helpfulness_ratio\", kind=\"box\", data=HelpfulnesswithTarget_df) #, ax=axes[1][1])"
   ]
  },
  {
   "cell_type": "code",
   "execution_count": 73,
   "metadata": {},
   "outputs": [
    {
     "data": {
      "text/plain": [
       "Text(0, 0.5, 'Reviews')"
      ]
     },
     "execution_count": 73,
     "metadata": {},
     "output_type": "execute_result"
    },
    {
     "data": {
      "image/png": "[encoded data removed]",
      "text/plain": [
       "<Figure size 432x288 with 1 Axes>"
      ]
     },
     "metadata": {},
     "output_type": "display_data"
    }
   ],
   "source": [
    "pd.crosstab(HelpfulnesswithTarget_df.month,HelpfulnesswithTarget_df.useful_flag).plot(kind='bar')\n",
    "plt.title('Usefulness per Month')\n",
    "plt.xlabel('Month')\n",
    "plt.ylabel('Reviews')\n",
    "\n",
    "# plt.savefig('usefulness_perMonth')"
   ]
  },
  {
   "cell_type": "code",
   "execution_count": 74,
   "metadata": {},
   "outputs": [],
   "source": [
    "# Correlation - Scatter plot\n",
    "# print(HelpfulnesswithTarget_df.columns)\n",
    "# correlation_df=HelpfulnesswithTarget_df[[ 'helpfulness_ratio'\n",
    "#                                          ,'Score'\n",
    "#                                          ,'n_distinct_words'\n",
    "#                                          ,'n_distinct_cleanwords'\n",
    "#                                          ,'n_words'\n",
    "#                                          ,'n_cleanwords']]\n",
    "# correlation_df.corr(method='pearson')"
   ]
  },
  {
   "cell_type": "code",
   "execution_count": 75,
   "metadata": {},
   "outputs": [],
   "source": [
    "#seaborn scatter plot\n",
    "#sns.pairplot(correlation_df)\n",
    "\n",
    "# matplotlib scatter plot\n",
    "# fig, ax = plt.subplots()\n",
    "# ax.scatter(delta1[:-1], delta1[1:], c=close, s=volume, alpha=0.5)"
   ]
  },
  {
   "cell_type": "code",
   "execution_count": 78,
   "metadata": {
    "collapsed": true,
    "jupyter": {
     "outputs_hidden": true
    },
    "tags": []
   },
   "outputs": [
    {
     "data": {
      "text/plain": [
       "['Id',\n",
       " 'ProductId',\n",
       " 'UserId',\n",
       " 'ProfileName',\n",
       " 'HelpfulnessNumerator',\n",
       " 'HelpfulnessDenominator',\n",
       " 'Score',\n",
       " 'Time',\n",
       " 'Summary',\n",
       " 'Text',\n",
       " 'helpfulness_ratio',\n",
       " 'useful_flag',\n",
       " 'negative_rating_flag',\n",
       " 'positive_rating_flag',\n",
       " 'n_distinct_words',\n",
       " 'n_words',\n",
       " 'clean_text',\n",
       " 'n_distinct_cleanwords',\n",
       " 'n_cleanwords',\n",
       " 'cleanwords_ratio',\n",
       " 'day_of_week',\n",
       " 'year',\n",
       " 'month',\n",
       " 'winter_flag',\n",
       " 'summer_flag',\n",
       " 'product_freq',\n",
       " 'reviewer_freq']"
      ]
     },
     "execution_count": 78,
     "metadata": {},
     "output_type": "execute_result"
    }
   ],
   "source": [
    "[col for col in HelpfulnesswithTarget_df]"
   ]
  },
  {
   "cell_type": "markdown",
   "metadata": {},
   "source": [
    "#### Saving the data set for section 2"
   ]
  },
  {
   "cell_type": "code",
   "execution_count": 77,
   "metadata": {},
   "outputs": [],
   "source": [
    "HelpfulnesswithTarget_df.to_csv('HelpfulnesswithTarget_df.csv')"
   ]
  },
  {
   "cell_type": "markdown",
   "metadata": {},
   "source": [
    "### 6. Conclusions from 1\n",
    "- Data. Could have renamed the variables to make them more intuitive\n",
    "- Data. I didn't considered product or reviewer popularity when removing the reviews with no votes and for the rest of the analysis which is something that sould probably be considered.\n",
    "- Target. The 0.7 threshold of the target is arbitrary and I could have predicted the ratio as well to avoid this, but I wanted to try logistic regression as I haven't done it in a while. \n",
    "- Variables. Could have added more variables. For example, variables that have to do with sentiment analysis of the review or words used or topic modelling\n",
    "- Workflow. In practice, Number 4 (Feature Engineering) and 5 (Data Exploration) are created almost in parallel. The more one explores the data the more features one comes up with until the final data set is as complete as possible. \n",
    "- Rating flags. I did not consider Score = 3 as I consider this is does not say if a person has negative or positive review of the product"
   ]
  },
  {
   "cell_type": "code",
   "execution_count": null,
   "metadata": {},
   "outputs": [],
   "source": []
  }
 ],
 "metadata": {
  "kernelspec": {
   "display_name": "Python 3 (ipykernel)",
   "language": "python",
   "name": "python3"
  },
  "language_info": {
   "codemirror_mode": {
    "name": "ipython",
    "version": 3
   },
   "file_extension": ".py",
   "mimetype": "text/x-python",
   "name": "python",
   "nbconvert_exporter": "python",
   "pygments_lexer": "ipython3",
   "version": "3.9.0"
  }
 },
 "nbformat": 4,
 "nbformat_minor": 4
}
