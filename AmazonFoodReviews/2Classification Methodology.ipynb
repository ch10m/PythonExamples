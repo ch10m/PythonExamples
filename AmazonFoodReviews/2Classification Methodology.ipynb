{
 "cells": [
  {
   "cell_type": "markdown",
   "metadata": {},
   "source": [
    "## Using Sckit-Learn - Estimators APIs\n",
    "\n",
    "In this section the data from the data manipulation and feature engineering section will be imported and manipulated one more time in order to run a Logistic regression classifier. The possibility of predicting whether a review is useful or not will be assessed and the model's performance will be measured."
   ]
  },
  {
   "cell_type": "code",
   "execution_count": 1,
   "metadata": {},
   "outputs": [],
   "source": [
    "## Import all relevent libraries to analyse the data\n",
    "import pandas as pd\n",
    "import numpy as np\n",
    "import datetime\n",
    "import math\n",
    "import matplotlib.pyplot as plt\n",
    "import seaborn as sns\n",
    "import scipy as sp\n",
    "from scipy import stats\n",
    "\n",
    "## This line makes sure that our graphs are rendered within the notebook\n",
    "%matplotlib inline\n",
    "\n",
    "sns.set(color_codes=True)\n",
    "\n",
    "## Set options to display all columns\n",
    "pd.set_option(\"display.max_columns\",None)\n",
    "\n",
    "# load\n",
    "HelpfulnesswithTarget_df = pd.read_csv('HelpfulnesswithTarget_df.csv', index_col=0)"
   ]
  },
  {
   "cell_type": "code",
   "execution_count": 2,
   "metadata": {},
   "outputs": [],
   "source": [
    "# Import scikit learn libraries and APIs needed\n",
    "import sklearn as sk\n",
    "from sklearn.model_selection import train_test_split\n",
    "from sklearn.linear_model import LogisticRegression\n",
    "from sklearn.ensemble import RandomForestClassifier\n",
    "from sklearn.preprocessing import StandardScaler"
   ]
  },
  {
   "cell_type": "code",
   "execution_count": 5,
   "metadata": {
    "scrolled": true
   },
   "outputs": [
    {
     "name": "stdout",
     "output_type": "stream",
     "text": [
      "Id                           int64\n",
      "ProductId                   object\n",
      "UserId                      object\n",
      "ProfileName                 object\n",
      "HelpfulnessNumerator         int64\n",
      "HelpfulnessDenominator       int64\n",
      "Score                        int64\n",
      "Time                        object\n",
      "Summary                     object\n",
      "Text                        object\n",
      "helpfulness_ratio          float64\n",
      "useful_flag                  int64\n",
      "negative_rating_flag         int64\n",
      "positive_rating_flag         int64\n",
      "n_distinct_words             int64\n",
      "n_words                      int64\n",
      "clean_text                  object\n",
      "n_distinct_cleanwords        int64\n",
      "n_cleanwords                 int64\n",
      "cleanwords_ratio           float64\n",
      "day_of_week               category\n",
      "year                         int64\n",
      "month                     category\n",
      "product_freq                 int64\n",
      "reviewer_freq                int64\n",
      "winter_flag                  int64\n",
      "summer_flag                  int64\n",
      "dtype: object\n"
     ]
    }
   ],
   "source": [
    "print(HelpfulnesswithTarget_df.dtypes)"
   ]
  },
  {
   "cell_type": "markdown",
   "metadata": {},
   "source": [
    "### 1. Data preparation\n"
   ]
  },
  {
   "cell_type": "markdown",
   "metadata": {},
   "source": [
    "First que split the data into a features matrix (X) and target vector (y)"
   ]
  },
  {
   "cell_type": "code",
   "execution_count": 4,
   "metadata": {},
   "outputs": [],
   "source": [
    "# Setting data type for categorical variables\n",
    "HelpfulnesswithTarget_df['day_of_week'] = HelpfulnesswithTarget_df['day_of_week'].astype('category') \n",
    "HelpfulnesswithTarget_df['month'] = HelpfulnesswithTarget_df['month'].astype('category') "
   ]
  },
  {
   "cell_type": "code",
   "execution_count": 122,
   "metadata": {},
   "outputs": [],
   "source": [
    "model_df = HelpfulnesswithTarget_df[['Score'\n",
    "                                   ,'negative_rating_flag'\n",
    "                                   ,'positive_rating_flag'\n",
    "                                   ,'day_of_week'\n",
    "                                   ,'month'\n",
    "                                   ,'winter_flag'\n",
    "                                   ,'summer_flag'\n",
    "                                   ,'n_words'\n",
    "                                   ,'product_freq'\n",
    "                                   ,'reviewer_freq']]\n",
    "\n",
    "target = HelpfulnesswithTarget_df[['useful_flag']]"
   ]
  },
  {
   "cell_type": "markdown",
   "metadata": {},
   "source": [
    "Then, we turn each of the categorical variables levels into a bianry variable. Leaving one of the catergies out."
   ]
  },
  {
   "cell_type": "code",
   "execution_count": 123,
   "metadata": {},
   "outputs": [
    {
     "data": {
      "text/html": [
       "<div>\n",
       "<style scoped>\n",
       "    .dataframe tbody tr th:only-of-type {\n",
       "        vertical-align: middle;\n",
       "    }\n",
       "\n",
       "    .dataframe tbody tr th {\n",
       "        vertical-align: top;\n",
       "    }\n",
       "\n",
       "    .dataframe thead th {\n",
       "        text-align: right;\n",
       "    }\n",
       "</style>\n",
       "<table border=\"1\" class=\"dataframe\">\n",
       "  <thead>\n",
       "    <tr style=\"text-align: right;\">\n",
       "      <th></th>\n",
       "      <th>Score</th>\n",
       "      <th>negative_rating_flag</th>\n",
       "      <th>positive_rating_flag</th>\n",
       "      <th>winter_flag</th>\n",
       "      <th>summer_flag</th>\n",
       "      <th>n_words</th>\n",
       "      <th>product_freq</th>\n",
       "      <th>reviewer_freq</th>\n",
       "      <th>day_of_week_1</th>\n",
       "      <th>day_of_week_2</th>\n",
       "      <th>day_of_week_3</th>\n",
       "      <th>day_of_week_4</th>\n",
       "      <th>day_of_week_5</th>\n",
       "      <th>day_of_week_6</th>\n",
       "      <th>month_2</th>\n",
       "      <th>month_3</th>\n",
       "      <th>month_4</th>\n",
       "      <th>month_5</th>\n",
       "      <th>month_6</th>\n",
       "      <th>month_7</th>\n",
       "      <th>month_8</th>\n",
       "      <th>month_9</th>\n",
       "      <th>month_10</th>\n",
       "      <th>month_11</th>\n",
       "      <th>month_12</th>\n",
       "    </tr>\n",
       "  </thead>\n",
       "  <tbody>\n",
       "    <tr>\n",
       "      <th>3</th>\n",
       "      <td>2</td>\n",
       "      <td>1</td>\n",
       "      <td>0</td>\n",
       "      <td>0</td>\n",
       "      <td>0</td>\n",
       "      <td>41</td>\n",
       "      <td>1</td>\n",
       "      <td>3</td>\n",
       "      <td>0</td>\n",
       "      <td>0</td>\n",
       "      <td>0</td>\n",
       "      <td>0</td>\n",
       "      <td>0</td>\n",
       "      <td>0</td>\n",
       "      <td>0</td>\n",
       "      <td>0</td>\n",
       "      <td>0</td>\n",
       "      <td>0</td>\n",
       "      <td>1</td>\n",
       "      <td>0</td>\n",
       "      <td>0</td>\n",
       "      <td>0</td>\n",
       "      <td>0</td>\n",
       "      <td>0</td>\n",
       "      <td>0</td>\n",
       "    </tr>\n",
       "    <tr>\n",
       "      <th>11</th>\n",
       "      <td>5</td>\n",
       "      <td>0</td>\n",
       "      <td>1</td>\n",
       "      <td>0</td>\n",
       "      <td>1</td>\n",
       "      <td>67</td>\n",
       "      <td>1</td>\n",
       "      <td>3</td>\n",
       "      <td>0</td>\n",
       "      <td>0</td>\n",
       "      <td>0</td>\n",
       "      <td>1</td>\n",
       "      <td>0</td>\n",
       "      <td>0</td>\n",
       "      <td>0</td>\n",
       "      <td>0</td>\n",
       "      <td>0</td>\n",
       "      <td>0</td>\n",
       "      <td>0</td>\n",
       "      <td>0</td>\n",
       "      <td>1</td>\n",
       "      <td>0</td>\n",
       "      <td>0</td>\n",
       "      <td>0</td>\n",
       "      <td>0</td>\n",
       "    </tr>\n",
       "    <tr>\n",
       "      <th>14</th>\n",
       "      <td>5</td>\n",
       "      <td>0</td>\n",
       "      <td>1</td>\n",
       "      <td>0</td>\n",
       "      <td>0</td>\n",
       "      <td>21</td>\n",
       "      <td>2</td>\n",
       "      <td>42</td>\n",
       "      <td>0</td>\n",
       "      <td>0</td>\n",
       "      <td>0</td>\n",
       "      <td>1</td>\n",
       "      <td>0</td>\n",
       "      <td>0</td>\n",
       "      <td>0</td>\n",
       "      <td>1</td>\n",
       "      <td>0</td>\n",
       "      <td>0</td>\n",
       "      <td>0</td>\n",
       "      <td>0</td>\n",
       "      <td>0</td>\n",
       "      <td>0</td>\n",
       "      <td>0</td>\n",
       "      <td>0</td>\n",
       "      <td>0</td>\n",
       "    </tr>\n",
       "    <tr>\n",
       "      <th>15</th>\n",
       "      <td>5</td>\n",
       "      <td>0</td>\n",
       "      <td>1</td>\n",
       "      <td>1</td>\n",
       "      <td>0</td>\n",
       "      <td>26</td>\n",
       "      <td>2</td>\n",
       "      <td>1</td>\n",
       "      <td>1</td>\n",
       "      <td>0</td>\n",
       "      <td>0</td>\n",
       "      <td>0</td>\n",
       "      <td>0</td>\n",
       "      <td>0</td>\n",
       "      <td>0</td>\n",
       "      <td>0</td>\n",
       "      <td>0</td>\n",
       "      <td>0</td>\n",
       "      <td>0</td>\n",
       "      <td>0</td>\n",
       "      <td>0</td>\n",
       "      <td>0</td>\n",
       "      <td>0</td>\n",
       "      <td>0</td>\n",
       "      <td>1</td>\n",
       "    </tr>\n",
       "    <tr>\n",
       "      <th>32</th>\n",
       "      <td>4</td>\n",
       "      <td>0</td>\n",
       "      <td>1</td>\n",
       "      <td>1</td>\n",
       "      <td>0</td>\n",
       "      <td>206</td>\n",
       "      <td>5</td>\n",
       "      <td>6</td>\n",
       "      <td>0</td>\n",
       "      <td>0</td>\n",
       "      <td>0</td>\n",
       "      <td>0</td>\n",
       "      <td>0</td>\n",
       "      <td>0</td>\n",
       "      <td>0</td>\n",
       "      <td>0</td>\n",
       "      <td>0</td>\n",
       "      <td>0</td>\n",
       "      <td>0</td>\n",
       "      <td>0</td>\n",
       "      <td>0</td>\n",
       "      <td>0</td>\n",
       "      <td>0</td>\n",
       "      <td>1</td>\n",
       "      <td>0</td>\n",
       "    </tr>\n",
       "  </tbody>\n",
       "</table>\n",
       "</div>"
      ],
      "text/plain": [
       "    Score  negative_rating_flag  positive_rating_flag  winter_flag  \\\n",
       "3       2                     1                     0            0   \n",
       "11      5                     0                     1            0   \n",
       "14      5                     0                     1            0   \n",
       "15      5                     0                     1            1   \n",
       "32      4                     0                     1            1   \n",
       "\n",
       "    summer_flag  n_words  product_freq  reviewer_freq  day_of_week_1  \\\n",
       "3             0       41             1              3              0   \n",
       "11            1       67             1              3              0   \n",
       "14            0       21             2             42              0   \n",
       "15            0       26             2              1              1   \n",
       "32            0      206             5              6              0   \n",
       "\n",
       "    day_of_week_2  day_of_week_3  day_of_week_4  day_of_week_5  day_of_week_6  \\\n",
       "3               0              0              0              0              0   \n",
       "11              0              0              1              0              0   \n",
       "14              0              0              1              0              0   \n",
       "15              0              0              0              0              0   \n",
       "32              0              0              0              0              0   \n",
       "\n",
       "    month_2  month_3  month_4  month_5  month_6  month_7  month_8  month_9  \\\n",
       "3         0        0        0        0        1        0        0        0   \n",
       "11        0        0        0        0        0        0        1        0   \n",
       "14        0        1        0        0        0        0        0        0   \n",
       "15        0        0        0        0        0        0        0        0   \n",
       "32        0        0        0        0        0        0        0        0   \n",
       "\n",
       "    month_10  month_11  month_12  \n",
       "3          0         0         0  \n",
       "11         0         0         0  \n",
       "14         0         0         0  \n",
       "15         0         0         1  \n",
       "32         0         1         0  "
      ]
     },
     "execution_count": 123,
     "metadata": {},
     "output_type": "execute_result"
    }
   ],
   "source": [
    "categorical_variables = ['day_of_week', 'month']\n",
    "for var in categorical_variables: # After the first look of the results I would put this in a function\n",
    "    categorical_list='var'+'_'+var\n",
    "    categorical_list = pd.get_dummies(model_df[var], prefix=var, drop_first=True)\n",
    "    data1=model_df.join(categorical_list)\n",
    "    model_df=data1\n",
    "    \n",
    "data_vars=model_df.columns.values.tolist()\n",
    "to_keep=[i for i in data_vars if i not in categorical_variables]\n",
    "\n",
    "model_df=model_df[to_keep]\n",
    "model_df.head()"
   ]
  },
  {
   "cell_type": "markdown",
   "metadata": {},
   "source": [
    "### 2.  Preparing train and test sets"
   ]
  },
  {
   "cell_type": "markdown",
   "metadata": {},
   "source": [
    "We need to split our data into train and tests sets to measure and compare model performance "
   ]
  },
  {
   "cell_type": "code",
   "execution_count": 124,
   "metadata": {},
   "outputs": [
    {
     "data": {
      "text/plain": [
       "((124167, 25), (99333, 25), (24834, 25))"
      ]
     },
     "execution_count": 124,
     "metadata": {},
     "output_type": "execute_result"
    }
   ],
   "source": [
    "X_train, X_test, y_train, y_test = train_test_split(model_df, target, test_size=0.2, random_state=42)\n",
    "model_df.shape, X_train.shape, X_test.shape"
   ]
  },
  {
   "cell_type": "markdown",
   "metadata": {},
   "source": [
    "It is known from the data exploration section that our target has more reviews tagged as useful (1) and this can bring problems to the model's results and interpretation.  One way to come around this problem is to over sample the not useful reviews, so that the resulted data set has a balanced split of target observations. This will only be done on the training data set as we want to test if the coefficients will give us an accurate prediction on the training set. "
   ]
  },
  {
   "cell_type": "code",
   "execution_count": 125,
   "metadata": {},
   "outputs": [
    {
     "data": {
      "text/plain": [
       "<seaborn.axisgrid.FacetGrid at 0x18f88d90>"
      ]
     },
     "execution_count": 125,
     "metadata": {},
     "output_type": "execute_result"
    },
    {
     "data": {
      "image/png": "[encoded data removed]",
      "text/plain": [
       "<Figure size 360x360 with 1 Axes>"
      ]
     },
     "metadata": {
      "needs_background": "light"
     },
     "output_type": "display_data"
    }
   ],
   "source": [
    "sns.catplot(x=\"useful_flag\", kind=\"count\", data = HelpfulnesswithTarget_df)"
   ]
  },
  {
   "cell_type": "code",
   "execution_count": 126,
   "metadata": {},
   "outputs": [
    {
     "name": "stdout",
     "output_type": "stream",
     "text": [
      "('length of oversampled data is ', 131418)\n",
      "('Number of useful_flag = 0', 65709)\n",
      "('Number of useful_flag = 1', 65709)\n"
     ]
    }
   ],
   "source": [
    "# Sampling up none useful reviews using SMOTE (Synthetic Minority Over-sampling Technique)\n",
    "from imblearn.over_sampling import SMOTE\n",
    "\n",
    "os = SMOTE(random_state=0)\n",
    "os_data_X,os_data_y=os.fit_sample(X_train, y_train)\n",
    "os_data_X = pd.DataFrame(data=os_data_X, columns=X_train.columns )\n",
    "os_data_y= pd.DataFrame(data=os_data_y,columns=['useful_flag'])\n",
    "\n",
    "# Check data dimensions\n",
    "print('length of oversampled data is ',len(os_data_X))\n",
    "print('Number of useful_flag = 0',len(os_data_y[os_data_y['useful_flag']==0]))\n",
    "print('Number of useful_flag = 1',len(os_data_y[os_data_y['useful_flag']==1]))"
   ]
  },
  {
   "cell_type": "markdown",
   "metadata": {},
   "source": [
    "### 3. Classification modelling Logistic regression\n",
    "Logistic regression is a classification technique, where the output variable is either binary or a multiclass (categorical variables with different levels, like segments for example) compared to linear regression where the output is a numerical value. \n",
    "\n",
    "The main model assumptions are:\n",
    "- The independent variables should be independent of each other. That is, the model should have little or no multicollinearity.\n",
    "- The independent variables are linearly related to the output.\n",
    "- Logistic regression requires quite large sample sizes."
   ]
  },
  {
   "cell_type": "markdown",
   "metadata": {},
   "source": [
    "#### Variable selection\n",
    "First we will assess which variables we can take out of the model by looking at the model summary table and comparing the p-values with an alpha =0.05 (which is I am assuming is the default) The p-values greater than this will indicate the variable should be removed from the model's equation. \n",
    "In practice, there are different techniques to select the variables that give the best model performance. Some of these techniques are: Forward selection, backward selection and stepwise selection. It is also important to consider the business or study context. Is the combination of these that gives the best variable selection. "
   ]
  },
  {
   "cell_type": "code",
   "execution_count": 104,
   "metadata": {},
   "outputs": [
    {
     "data": {
      "text/plain": [
       "array([[-0.70901609, -0.23180117, -1.04000497],\n",
       "       [-0.70901609, -0.23180117,  0.80941186],\n",
       "       [-0.67365471,  2.48251539,  0.80941186],\n",
       "       ...,\n",
       "       [-0.60293195, -0.37099689,  0.80941186],\n",
       "       [-0.60293195, -0.37099689,  0.19293958],\n",
       "       [-0.70901609, -0.37099689,  0.80941186]])"
      ]
     },
     "execution_count": 104,
     "metadata": {},
     "output_type": "execute_result"
    }
   ],
   "source": [
    "#should be used to standarise the continuous variables\n",
    "#StandardScaler().fit_transform(model_df[['product_freq','reviewer_freq','Score']]) "
   ]
  },
  {
   "cell_type": "code",
   "execution_count": 127,
   "metadata": {},
   "outputs": [
    {
     "name": "stdout",
     "output_type": "stream",
     "text": [
      "[ True  True  True  True  True False False False  True  True  True  True\n",
      "  True  True  True  True  True  True  True  True  True  True False False\n",
      "  True]\n",
      "[1 1 1 1 1 6 4 5 1 1 1 1 1 1 1 1 1 1 1 1 1 1 3 2 1]\n"
     ]
    }
   ],
   "source": [
    "# Recursive feature elimination\n",
    "data_final_vars=model_df.columns.values.tolist()\n",
    "\n",
    "from sklearn.feature_selection import RFE\n",
    "\n",
    "logreg = LogisticRegression()\n",
    "rfe = RFE(logreg, 20)\n",
    "rfe = rfe.fit(os_data_X, os_data_y.values.ravel())\n",
    "print(rfe.support_)\n",
    "print(rfe.ranking_)"
   ]
  },
  {
   "cell_type": "markdown",
   "metadata": {},
   "source": [
    "From Scikit learn documentation:\n",
    "support : array\n",
    "An index that selects the retained features from a feature vector. If indices is False, this is a boolean array of shape [# input features], in which an element is True if its corresponding feature is selected for retention. If indices is True, this is an integer array of shape [# output features] whose values are indices into the input feature vector."
   ]
  },
  {
   "cell_type": "markdown",
   "metadata": {},
   "source": [
    "**statsmodels** is a Python module that provides classes and functions for the estimation of many different statistical models, as well as for conducting statistical tests, and statistical data exploration. (https://www.statsmodels.org/stable/index.html)\n",
    "This module is useful for checking summary tables and interpreting the model's results, I also like it because it resembles the R output and I am familiar with that. From what I have read, Scikit-Learn does not provide this kind of outputs since it focuses more on the machine learning questions and processes, while Statsmodels focus more on the statistical results. The latter is useful to understand what is happening underneath whilst assesing performance and results; plus it is also needed for interpretation purposes. \n",
    "\n",
    "In practice, once I understand a model and its outputs I tend to find a way of optimising the best result by using loops and/or functions via grid searches and arrays using R. In Python the best way will be to use pipelines which will also mean I can talk to the engineering side of the business when talking about implementation and model production. These kind of workflows will output different solutions from where then I can pick the best. The best being the one that gives me the best performance and easy interpretation when taking to my stakeholders; plus it means the model doesn not have to be built from scratch every time and it can be plugged in to some other interface if required. Notebook 3 shows how this model could be implemented in a pipeline"
   ]
  },
  {
   "cell_type": "code",
   "execution_count": 128,
   "metadata": {},
   "outputs": [
    {
     "name": "stdout",
     "output_type": "stream",
     "text": [
      "Warning: Maximum number of iterations has been exceeded.\n",
      "         Current function value: 0.535667\n",
      "         Iterations: 35\n"
     ]
    },
    {
     "name": "stderr",
     "output_type": "stream",
     "text": [
      "C:\\Python27\\lib\\site-packages\\statsmodels\\base\\model.py:512: ConvergenceWarning: Maximum Likelihood optimization failed to converge. Check mle_retvals\n",
      "  \"Check mle_retvals\", ConvergenceWarning)\n"
     ]
    },
    {
     "name": "stdout",
     "output_type": "stream",
     "text": [
      "                                  Results: Logit\n",
      "==================================================================================\n",
      "Model:                    Logit                 Pseudo R-squared:      0.227      \n",
      "Dependent Variable:       useful_flag           AIC:                   140842.4976\n",
      "Date:                     2019-06-28 10:58      BIC:                   141087.1511\n",
      "No. Observations:         131418                Log-Likelihood:        -70396.    \n",
      "Df Model:                 24                    LL-Null:               -91092.    \n",
      "Df Residuals:             131393                LLR p-value:           0.0000     \n",
      "Converged:                0.0000                Scale:                 1.0000     \n",
      "No. Iterations:           35.0000                                                 \n",
      "----------------------------------------------------------------------------------\n",
      "                      Coef.    Std.Err.      z     P>|z|     [0.025       0.975]  \n",
      "----------------------------------------------------------------------------------\n",
      "Score                 -0.8064     0.0103  -78.1400 0.0000      -0.8266     -0.7861\n",
      "negative_rating_flag  -2.3389     0.0228 -102.4647 0.0000      -2.3837     -2.2942\n",
      "positive_rating_flag   2.7324     0.0329   82.9299 0.0000       2.6679      2.7970\n",
      "winter_flag            1.3006     0.0324   40.1575 0.0000       1.2372      1.3641\n",
      "summer_flag          -26.5305 59309.4940   -0.0004 0.9996 -116271.0026 116217.9416\n",
      "n_words                0.0020     0.0001   29.2669 0.0000       0.0018      0.0021\n",
      "product_freq          -0.0087     0.0002  -38.0269 0.0000      -0.0091     -0.0082\n",
      "reviewer_freq         -0.0069     0.0005  -14.9324 0.0000      -0.0078     -0.0060\n",
      "day_of_week_1          0.5758     0.0228   25.2510 0.0000       0.5311      0.6205\n",
      "day_of_week_2          0.6154     0.0227   27.0681 0.0000       0.5709      0.6600\n",
      "day_of_week_3          0.5451     0.0228   23.9138 0.0000       0.5004      0.5897\n",
      "day_of_week_4          0.6045     0.0233   25.9413 0.0000       0.5588      0.6502\n",
      "day_of_week_5          0.6724     0.0240   27.9718 0.0000       0.6253      0.7195\n",
      "day_of_week_6          0.6180     0.0240   25.7414 0.0000       0.5710      0.6651\n",
      "month_2                0.6500     0.0296   21.9596 0.0000       0.5920      0.7081\n",
      "month_3                1.7802     0.0358   49.7183 0.0000       1.7100      1.8504\n",
      "month_4                1.7745     0.0371   47.8066 0.0000       1.7018      1.8473\n",
      "month_5                1.6673     0.0363   45.9213 0.0000       1.5961      1.7384\n",
      "month_6                1.8138     0.0379   47.9006 0.0000       1.7396      1.8880\n",
      "month_7               28.4060 59309.4940    0.0005 0.9996 -116216.0661 116272.8781\n",
      "month_8               28.4544 59309.4940    0.0005 0.9996 -116216.0177 116272.9265\n",
      "month_9                1.7120     0.0369   46.4226 0.0000       1.6397      1.7843\n",
      "month_10               0.6073     0.0303   20.0365 0.0000       0.5479      0.6667\n",
      "month_11               0.5967     0.0308   19.3664 0.0000       0.5363      0.6571\n",
      "month_12               0.6618     0.0298   22.2283 0.0000       0.6035      0.7202\n",
      "==================================================================================\n",
      "\n"
     ]
    }
   ],
   "source": [
    "import statsmodels.api as sm\n",
    "\n",
    "logit_model=sm.Logit(os_data_y,os_data_X)\n",
    "result=logit_model.fit()\n",
    "print(result.summary2())"
   ]
  },
  {
   "cell_type": "markdown",
   "metadata": {},
   "source": [
    "The table suggests that some season flags and some months variables to be removed from data. "
   ]
  },
  {
   "cell_type": "code",
   "execution_count": 130,
   "metadata": {},
   "outputs": [],
   "source": [
    "# would be better to have this on a function so we see the table just once. \n",
    "# columns_notselected=['winter_flag','summer_flag','month_1','month_2','month_4'\n",
    "#                      ,'month_7','month_8','month_9','month_10','month_11','month_12'] #without using drop-first\n",
    "columns_notselected=['summer_flag', 'month_7', 'month_8'] #using drop first\n",
    "\n",
    "columns_OSdata=os_data_X.columns.values.tolist()\n",
    "\n",
    "columns_tokeep=[i for i in columns_OSdata if i not in columns_notselected]\n",
    "os_data_Xselected=os_data_X[columns_tokeep]"
   ]
  },
  {
   "cell_type": "markdown",
   "metadata": {},
   "source": [
    "After taking those variables out, we have a look at the table again"
   ]
  },
  {
   "cell_type": "code",
   "execution_count": 131,
   "metadata": {},
   "outputs": [
    {
     "name": "stdout",
     "output_type": "stream",
     "text": [
      "Optimization terminated successfully.\n",
      "         Current function value: 0.551133\n",
      "         Iterations 6\n",
      "                           Results: Logit\n",
      "=====================================================================\n",
      "Model:               Logit             Pseudo R-squared:  0.205      \n",
      "Dependent Variable:  useful_flag       AIC:               144901.5350\n",
      "Date:                2019-06-28 10:59  BIC:               145116.8301\n",
      "No. Observations:    131418            Log-Likelihood:    -72429.    \n",
      "Df Model:            21                LL-Null:           -91092.    \n",
      "Df Residuals:        131396            LLR p-value:       0.0000     \n",
      "Converged:           1.0000            Scale:             1.0000     \n",
      "No. Iterations:      6.0000                                          \n",
      "---------------------------------------------------------------------\n",
      "                      Coef.  Std.Err.    z     P>|z|   [0.025  0.975]\n",
      "---------------------------------------------------------------------\n",
      "Score                -0.4967   0.0077 -64.2903 0.0000 -0.5118 -0.4816\n",
      "negative_rating_flag -1.6660   0.0178 -93.6466 0.0000 -1.7008 -1.6311\n",
      "positive_rating_flag  2.2967   0.0304  75.6085 0.0000  2.2372  2.3562\n",
      "winter_flag           0.0808   0.0224   3.6136 0.0003  0.0370  0.1247\n",
      "n_words               0.0020   0.0001  30.0421 0.0000  0.0018  0.0021\n",
      "product_freq         -0.0083   0.0002 -36.9561 0.0000 -0.0088 -0.0079\n",
      "reviewer_freq        -0.0056   0.0005 -12.2697 0.0000 -0.0065 -0.0047\n",
      "day_of_week_1         0.8310   0.0221  37.5533 0.0000  0.7876  0.8744\n",
      "day_of_week_2         0.8704   0.0220  39.4985 0.0000  0.8272  0.9136\n",
      "day_of_week_3         0.7915   0.0221  35.7665 0.0000  0.7481  0.8349\n",
      "day_of_week_4         0.8640   0.0226  38.1488 0.0000  0.8196  0.9084\n",
      "day_of_week_5         0.9267   0.0234  39.5945 0.0000  0.8808  0.9725\n",
      "day_of_week_6         0.8807   0.0233  37.7268 0.0000  0.8350  0.9265\n",
      "month_2               0.6023   0.0297  20.2588 0.0000  0.5441  0.6606\n",
      "month_3               0.5166   0.0263  19.6066 0.0000  0.4649  0.5682\n",
      "month_4               0.5056   0.0281  18.0195 0.0000  0.4506  0.5606\n",
      "month_5               0.3936   0.0269  14.6224 0.0000  0.3409  0.4464\n",
      "month_6               0.5419   0.0290  18.7017 0.0000  0.4851  0.5987\n",
      "month_9               0.4410   0.0277  15.9174 0.0000  0.3867  0.4953\n",
      "month_10              0.5578   0.0305  18.3168 0.0000  0.4981  0.6175\n",
      "month_11              0.5507   0.0309  17.7994 0.0000  0.4901  0.6114\n",
      "month_12              0.6012   0.0299  20.1137 0.0000  0.5426  0.6598\n",
      "=====================================================================\n",
      "\n"
     ]
    }
   ],
   "source": [
    "logit_model=sm.Logit(os_data_y,os_data_Xselected)\n",
    "result=logit_model.fit()\n",
    "print(result.summary2())"
   ]
  },
  {
   "cell_type": "markdown",
   "metadata": {},
   "source": [
    "From this table, all the variables are significant which means there is no need to take any out anymore. However, it is important to have a model that can be interpreted as well. Model performance and robustness is just as important as interpretation. This last one can be a bit daunting in general for logistic regression due to the nature of the variables. \n",
    "\n",
    "The value of the coefficients from 'day of the week' variables are all very similar; meaning there is not a lot of difference between them (which ties up with the data exploration section). It is almost the same case for the months, except from May and the winter months December to February. A review made on the winter months contributes to the useful prediction slightly more than if a review is made in any other month. For example for December the coefficient is 0.6 and for May is 0.39, meaning that if everything else stays the same, a review made on December adds 0.6 to the log of the odds ratio compared to May where it will contirbute 0.39. Odds ratio being the ratio of the review being useful if posted on a specific month. \n",
    "Or in simpler terms, if we assume everything else remains the same, reviews made in December and February increase the chances of the review being useful compared to reviews made on May. Which also ties up with what it was shown on the exploration part. \n",
    "\n",
    "This can also be extended to the variables related to score. These are shown to be important in predicting whether a review is useful or not, which also makes sense with the data exploration section. The more a reviewer is disatisfied with the product the less useful the review is. \n",
    "\n",
    "It would still be useful to have more text mining variables associated with the review to have more information about the reviews itself and it might be the case that the actual content will be assesed better."
   ]
  },
  {
   "cell_type": "markdown",
   "metadata": {},
   "source": [
    "#### Model performance\n",
    "\n",
    "~ Better that ten guilty persons escape than one innocent suffers ~ \n",
    "\n",
    "Once the variables that are important are selected and the coefficients are calculated, then the model is fitted on the test set to get the prediction values of th target. Which will allow to compare the predicted results(y's) against the real resutls in order to assess model performance."
   ]
  },
  {
   "cell_type": "code",
   "execution_count": 132,
   "metadata": {},
   "outputs": [
    {
     "data": {
      "text/plain": [
       "LogisticRegression(C=1.0, class_weight=None, dual=False, fit_intercept=True,\n",
       "          intercept_scaling=1, max_iter=100, multi_class='warn',\n",
       "          n_jobs=None, penalty='l2', random_state=None, solver='warn',\n",
       "          tol=0.0001, verbose=0, warm_start=False)"
      ]
     },
     "execution_count": 132,
     "metadata": {},
     "output_type": "execute_result"
    }
   ],
   "source": [
    "# Fitting the model on train set\n",
    "logreg.fit(os_data_Xselected, os_data_y)"
   ]
  },
  {
   "cell_type": "code",
   "execution_count": 133,
   "metadata": {},
   "outputs": [
    {
     "name": "stdout",
     "output_type": "stream",
     "text": [
      "The model accuracy on train set is: 0.755\n"
     ]
    }
   ],
   "source": [
    "print('The model accuracy on train set is: {:.3f}'.format(logreg.score(os_data_Xselected, os_data_y))) \n",
    "#without using drop-first accuracy was 0.77"
   ]
  },
  {
   "cell_type": "code",
   "execution_count": 134,
   "metadata": {},
   "outputs": [
    {
     "name": "stdout",
     "output_type": "stream",
     "text": [
      "Accuracy of logistic regression classifier on test set: 0.74\n",
      "Confusion matrix:\n",
      "[[ 5662  2785]\n",
      " [ 3714 12673]]\n",
      "              precision    recall  f1-score   support\n",
      "\n",
      "           0       0.60      0.67      0.64      8447\n",
      "           1       0.82      0.77      0.80     16387\n",
      "\n",
      "   micro avg       0.74      0.74      0.74     24834\n",
      "   macro avg       0.71      0.72      0.72     24834\n",
      "weighted avg       0.75      0.74      0.74     24834\n",
      "\n"
     ]
    }
   ],
   "source": [
    "# Predicting values in test set\n",
    "from sklearn import metrics\n",
    "\n",
    "# selecting only the columns needed in the test set\n",
    "Xselected_test=X_test[columns_tokeep]\n",
    "\n",
    "y_pred = logreg.predict(Xselected_test)\n",
    "print('Accuracy of logistic regression classifier on test set: {:.2f}'.format(logreg.score(Xselected_test, y_test)))\n",
    "\n",
    "from sklearn.metrics import confusion_matrix\n",
    "confusion_matrix = confusion_matrix(y_test, y_pred)\n",
    "print('Confusion matrix:')\n",
    "print(confusion_matrix)\n",
    "\n",
    "from sklearn.metrics import classification_report\n",
    "print(classification_report(y_test, y_pred))"
   ]
  },
  {
   "cell_type": "code",
   "execution_count": 116,
   "metadata": {},
   "outputs": [
    {
     "data": {
      "text/plain": [
       "24834"
      ]
     },
     "execution_count": 116,
     "metadata": {},
     "output_type": "execute_result"
    }
   ],
   "source": [
    "len(Xselected_test)"
   ]
  },
  {
   "cell_type": "markdown",
   "metadata": {},
   "source": [
    "From the confusion matrix, the model got 18,335 (5662+12673) predictions right, and 6,499 wrong from a total of 24,834 observations (reviews) on the test set. Which is where the 74% accuracy comes from. \n",
    "\n",
    "Looking at precision and recall, 82% of the model's positives and 60% of the negatives were correctly predicted (precision); whilst 77% of the positives observation and 67% of the negatives were predicted correctly. These two metrics are a bit confusing but in general:\n",
    "- **precision** assesses how many of the predictions are right\n",
    "- **recall** assesses how many observations did the model get right \n",
    "\n",
    "As an example, let's say we have 3 true positives from the model and 4 positive observations. The precision would be 3/3, i.e. all the predictions are correct; whilst the recall is 3/4, i.e. the model missed one of the true observations. \n",
    "\n",
    "The importance of these 2 measures depends on the purpose of the study or the business case. For example, in Spam detection usually precision is more important; whilst in medicine and clinical studies recall is more important. Usually these are associated with cost, and one will be more \"expensive\" than the other depending on the purpose. Hence the phrase I wrote at the beginning of the model performance section. "
   ]
  },
  {
   "cell_type": "code",
   "execution_count": 135,
   "metadata": {},
   "outputs": [
    {
     "data": {
      "image/png": "[encoded data removed]",
      "text/plain": [
       "<Figure size 432x288 with 1 Axes>"
      ]
     },
     "metadata": {
      "needs_background": "light"
     },
     "output_type": "display_data"
    }
   ],
   "source": [
    "# ROC curve\n",
    "from sklearn.metrics import roc_auc_score\n",
    "from sklearn.metrics import roc_curve\n",
    "logit_roc_auc = roc_auc_score(y_test, logreg.predict(Xselected_test))\n",
    "fpr, tpr, thresholds = roc_curve(y_test, logreg.predict_proba(Xselected_test)[:,1])\n",
    "plt.figure()\n",
    "plt.plot(fpr, tpr, label='Logistic Regression (area = %0.2f)' % logit_roc_auc)\n",
    "plt.plot([0, 1], [0, 1],'r--')\n",
    "plt.xlim([0.0, 1.0])\n",
    "plt.ylim([0.0, 1.05])\n",
    "plt.xlabel('False Positive Rate')\n",
    "plt.ylabel('True Positive Rate')\n",
    "plt.title('Receiver operating characteristic')\n",
    "plt.legend(loc=\"lower right\")\n",
    "plt.savefig('Log_ROC')\n",
    "plt.show()"
   ]
  },
  {
   "cell_type": "markdown",
   "metadata": {},
   "source": [
    "The ROC curve is a graphical view of assessing the model's performance. The higher the AUC, better the model is at predicting 0's and 1's. If the ROC resembles the dotted redline too much then the classifier is not good at identifying the 0's and 1's. In this case, the curve does not look too bad. \n",
    "An AUC of 0.72  means there is 72% chance that model will be able to distinguish between positive class and negative class."
   ]
  },
  {
   "cell_type": "code",
   "execution_count": 96,
   "metadata": {},
   "outputs": [],
   "source": [
    "# import matplotlib.pyplot as plt\n",
    "# import seaborn as sns\n",
    "# import numpy as np\n",
    "# from sklearn.datasets import load_iris\n",
    "\n",
    "# data = load_iris()\n",
    "# fig, axes = plt.subplots(nrows=2, ncols=2)\n",
    "# fig.subplots_adjust(hspace=0.5)\n",
    "# fig.suptitle('Distributions of Iris Features')\n",
    "\n",
    "# for ax, feature, name in zip(axes.flatten(), data.data.T, data.feature_names):\n",
    "#     sns.catplot( data.target_names, feature, kind=\"box\", ax=ax)\n",
    "#     #sns.distplot(feature, ax=ax, bins=len(np.unique(data.data.T[0]))//2)\n",
    "#     #sns.catplot(x=\"negative_rating_flag\", y=\"helpfulness_ratio\", kind=\"box\", data=HelpfulnesswithTarget_df,ax=ax)\n",
    "#     ax.set(title=name[:-4].upper(), xlabel='cm')"
   ]
  },
  {
   "cell_type": "code",
   "execution_count": 136,
   "metadata": {},
   "outputs": [
    {
     "name": "stdout",
     "output_type": "stream",
     "text": [
      "[0.71769898 0.71488358 0.71572059 0.71435094 0.70917669 0.78055091\n",
      " 0.7909755  0.79173642 0.78709481 0.79550989]\n",
      "Accuracy: 0.75 (+/- 0.08)\n"
     ]
    }
   ],
   "source": [
    "# Evaluate the model using 10-fold cross-validation\n",
    "from sklearn.model_selection  import cross_val_score\n",
    "scores = cross_val_score(logreg, os_data_Xselected, os_data_y, scoring='accuracy', cv=10)\n",
    "print scores\n",
    "print(\"Accuracy: %0.2f (+/- %0.2f)\" % (scores.mean(), scores.std() * 2))"
   ]
  },
  {
   "cell_type": "markdown",
   "metadata": {},
   "source": [
    "Running a quick 10-fold cross validation algorithm, it is possible to see that this model's accuracy remains around 75% with a small confidence interval, which means it is performing well. "
   ]
  },
  {
   "cell_type": "markdown",
   "metadata": {},
   "source": [
    "### 4. Trying a Random Forest just out of curiousity"
   ]
  },
  {
   "cell_type": "code",
   "execution_count": 118,
   "metadata": {},
   "outputs": [
    {
     "name": "stderr",
     "output_type": "stream",
     "text": [
      "C:\\Python27\\lib\\site-packages\\ipykernel_launcher.py:3: DataConversionWarning: A column-vector y was passed when a 1d array was expected. Please change the shape of y to (n_samples,), for example using ravel().\n",
      "  This is separate from the ipykernel package so we can avoid doing imports until\n"
     ]
    }
   ],
   "source": [
    "# Fit Random Forest on training fold \n",
    "clf_rf = RandomForestClassifier(n_estimators=500, max_depth=2,\n",
    "                              random_state=0).fit(os_data_Xselected, os_data_y) #without using drop-first"
   ]
  },
  {
   "cell_type": "code",
   "execution_count": 119,
   "metadata": {},
   "outputs": [],
   "source": [
    "y_model = clf_rf.predict(Xselected_test) "
   ]
  },
  {
   "cell_type": "code",
   "execution_count": 120,
   "metadata": {},
   "outputs": [
    {
     "name": "stdout",
     "output_type": "stream",
     "text": [
      "The Random Forest accuracy is: 0.751\n"
     ]
    }
   ],
   "source": [
    "from sklearn.metrics import accuracy_score\n",
    "print('The Random Forest accuracy is: {:.3f}'.format(accuracy_score(y_test, y_model))) "
   ]
  },
  {
   "cell_type": "markdown",
   "metadata": {},
   "source": [
    "### 5. Conclusions\n",
    "\n",
    "- The classifiers have a satisfactory performance and behaviour and are able to predict the reviews \n",
    "- Once one model is tested, analysed and understood then, I would put the steps into functions and a pipeline using the scikit learn API so that everything is tied up and one can just change the inital X and y elements. I would try different seeds and see which variables keep getting picked up in the model, to make sure I have tried everything.    \n",
    "- It would also be possible to test other classifiers and see which one is better or if there is any improvement. This is specilly needed for more complex models when there are millions of rows and many variables. \n",
    "- I would have probably tried to predict the usefulness ratio instead of the useful flag, as a ratio of 0.2 is not the same as 0.65 This means that there is a bit of lost information there. In this case I would have probably started with a linear regression, since the output measure is a numerical value. There is also something called a Random Forest Regression, that might be interesting to explore further.  \n",
    "- Other variables could have been added if there was more data avaiable. For example, product especifications or reviewers' details such as tenure, age or profession. \n",
    "- As mentioned before, more text mining variables could have been added as well\n"
   ]
  },
  {
   "cell_type": "markdown",
   "metadata": {},
   "source": [
    "============================================================="
   ]
  },
  {
   "cell_type": "code",
   "execution_count": 143,
   "metadata": {},
   "outputs": [],
   "source": [
    "# Testing other solvers in logistic regression models ---\n",
    "#l1_ratio = 0.5  # L1 weight in the Elastic-Net regularization \n",
    "# this is the kind of hyperparameter that need to be found via a grid search\n",
    "\n",
    "# Fit Logistic regression on training fold\n",
    "#l1_log = LogisticRegression(random_state=0, solver='saga', penalty='l1').fit(os_data_Xselected, os_data_y)\n",
    "#l2_log = LogisticRegression(random_state=0, solver='saga', penalty='l2').fit(os_data_Xselected, os_data_y)\n",
    "#en_log = LogisticRegression(random_state=0, solver='saga', penalty='elasticnet',l1_ratio=0.5).fit(os_data_Xselected, os_data_y)\n",
    "\n",
    "# A note on elastic net: --\n",
    "# ElasticNet is a linear regression model trained with both l1 and l2-norm regularization of the coefficients. \n",
    "# This combination allows for learning a sparse model where few of the weights are non-zero like Lasso, \n",
    "# while still maintaining the regularization properties of Ridge. We control the convex combination of l1 and l1 using \n",
    "# the l1_ratio parameter.\n",
    "\n",
    "# Elastic-net is useful when there are multiple features which are correlated with one another. \n",
    "#Lasso is likely to pick one of these at random, while elastic-net is likely to pick both.\n",
    "\n",
    "# A practical advantage of trading-off between Lasso and Ridge is that it allows Elastic-Net to inherit some \n",
    "# of Ridge’s stability under rotation.\n",
    "# so bascially, lasso (l1) works best when we have a lot of variables that are useless and Ridge (l2) works best when we have\n",
    "# a lot of variables that might not all be useless\n",
    "# when rho = 1 then elastic net is Lasso"
   ]
  },
  {
   "cell_type": "code",
   "execution_count": 46,
   "metadata": {},
   "outputs": [],
   "source": [
    "# log_model = LogisticRegression(random_state=0, solver='saga').fit(os_data_Xselected, os_data_y)"
   ]
  },
  {
   "cell_type": "code",
   "execution_count": 47,
   "metadata": {},
   "outputs": [],
   "source": [
    "# ## Coefficients\n",
    "# # coef_l1_log = l1_log.coef_.ravel()\n",
    "# # coef_l2_log = l2_log.coef_.ravel()\n",
    "# # print(coef_l1_log)\n",
    "# # print(coef_l2_log)\n",
    "\n",
    "# pd.DataFrame(zip(X_train.columns, np.transpose(log_model.coef_)))"
   ]
  },
  {
   "cell_type": "code",
   "execution_count": 48,
   "metadata": {},
   "outputs": [],
   "source": [
    "# print('The model accuracy is: {:.3f}'.format(log_model.score(os_data_Xselected, os_data_y)))"
   ]
  },
  {
   "cell_type": "code",
   "execution_count": 44,
   "metadata": {},
   "outputs": [],
   "source": [
    "# log_pred = log_model.predict(Xselected_test) #predicting binary outcomes\n",
    "# log_pred_prob = log_model.predict_proba(Xselected_test) # predicting probabilities"
   ]
  }
 ],
 "metadata": {
  "kernelspec": {
   "display_name": "Python 2",
   "language": "python",
   "name": "python2"
  },
  "language_info": {
   "codemirror_mode": {
    "name": "ipython",
    "version": 2
   },
   "file_extension": ".py",
   "mimetype": "text/x-python",
   "name": "python",
   "nbconvert_exporter": "python",
   "pygments_lexer": "ipython2",
   "version": "2.7.14"
  }
 },
 "nbformat": 4,
 "nbformat_minor": 2
}
