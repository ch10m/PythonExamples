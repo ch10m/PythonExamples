{
 "cells": [
  {
   "cell_type": "markdown",
   "metadata": {},
   "source": [
    "## Classification Methodology - Using Sckit-Learn \n",
    "\n",
    "In this section the data from the data manipulation and feature engineering section will be imported and manipulated one more time in order to run a Logistic regression classifier. The possibility of predicting whether a review is useful or not will be assessed and the model's performance will be measured.\n",
    "\n",
    "Notebook 2 - Classification Methodology:\n",
    "\n",
    "1. Data preparation - subsetting the data set, changing data types and creating dummy variables for all the categorical features\n",
    "2. Preparing train and test sets\n",
    "3. Classification model - Logistic regression pipeline\n",
    "4. Model performance\n",
    "5. Quick look at a Random Forest\n",
    "6. Conclusions\n"
   ]
  },
  {
   "cell_type": "code",
   "execution_count": 1,
   "metadata": {},
   "outputs": [],
   "source": [
    "## Import all relevent libraries to analyse the data\n",
    "import pandas as pd\n",
    "import numpy as np\n",
    "import datetime\n",
    "import math\n",
    "import matplotlib.pyplot as plt\n",
    "import seaborn as sns\n",
    "import scipy as sp\n",
    "from scipy import stats\n",
    "\n",
    "## This line makes sure that our graphs are rendered within the notebook\n",
    "%matplotlib inline\n",
    "\n",
    "sns.set(color_codes=True)\n",
    "\n",
    "## Set options to display all columns\n",
    "pd.set_option(\"display.max_columns\",None)\n",
    "\n",
    "# load\n",
    "HelpfulnesswithTarget_df = pd.read_csv('HelpfulnesswithTarget_df.csv', index_col=0)"
   ]
  },
  {
   "cell_type": "code",
   "execution_count": 2,
   "metadata": {},
   "outputs": [],
   "source": [
    "# Import scikit learn libraries and APIs needed\n",
    "import sklearn as sk\n",
    "from sklearn.model_selection import train_test_split\n",
    "from sklearn.linear_model import LogisticRegression\n",
    "from sklearn.ensemble import RandomForestClassifier\n",
    "from sklearn.preprocessing import StandardScaler"
   ]
  },
  {
   "cell_type": "code",
   "execution_count": 3,
   "metadata": {
    "scrolled": true
   },
   "outputs": [
    {
     "name": "stdout",
     "output_type": "stream",
     "text": [
      "Id                          int64\n",
      "ProductId                  object\n",
      "UserId                     object\n",
      "ProfileName                object\n",
      "HelpfulnessNumerator        int64\n",
      "HelpfulnessDenominator      int64\n",
      "Score                       int64\n",
      "Time                       object\n",
      "Summary                    object\n",
      "Text                       object\n",
      "helpfulness_ratio         float64\n",
      "useful_flag                 int64\n",
      "negative_rating_flag        int64\n",
      "positive_rating_flag        int64\n",
      "n_distinct_words            int64\n",
      "n_words                     int64\n",
      "clean_text                 object\n",
      "n_distinct_cleanwords       int64\n",
      "n_cleanwords                int64\n",
      "cleanwords_ratio          float64\n",
      "day_of_week                 int64\n",
      "year                        int64\n",
      "month                       int64\n",
      "winter_flag                 int64\n",
      "summer_flag                 int64\n",
      "product_freq                int64\n",
      "reviewer_freq               int64\n",
      "dtype: object\n"
     ]
    }
   ],
   "source": [
    "print(HelpfulnesswithTarget_df.dtypes)"
   ]
  },
  {
   "cell_type": "markdown",
   "metadata": {},
   "source": [
    "### 1. Data preparation\n"
   ]
  },
  {
   "cell_type": "markdown",
   "metadata": {},
   "source": [
    "First que split the data into a features matrix (X) and target vector (y)"
   ]
  },
  {
   "cell_type": "code",
   "execution_count": 4,
   "metadata": {},
   "outputs": [],
   "source": [
    "# Setting data type for categorical variables\n",
    "HelpfulnesswithTarget_df['day_of_week'] = HelpfulnesswithTarget_df['day_of_week'].astype('category') \n",
    "HelpfulnesswithTarget_df['month'] = HelpfulnesswithTarget_df['month'].astype('category') "
   ]
  },
  {
   "cell_type": "code",
   "execution_count": 69,
   "metadata": {},
   "outputs": [],
   "source": [
    "model_df = HelpfulnesswithTarget_df[['Score'\n",
    "                                   ,'negative_rating_flag'\n",
    "                                   #,'positive_rating_flag'\n",
    "                                   ,'day_of_week'\n",
    "                                   ,'month'\n",
    "                                   ,'winter_flag'\n",
    "                                   #,'summer_flag'\n",
    "                                   ,'n_words'\n",
    "                                   ,'product_freq'\n",
    "                                   ,'reviewer_freq']]\n",
    "\n",
    "target = HelpfulnesswithTarget_df[['useful_flag']]"
   ]
  },
  {
   "cell_type": "markdown",
   "metadata": {},
   "source": [
    "Then, we turn each of the categorical variables levels into a binary variable."
   ]
  },
  {
   "cell_type": "code",
   "execution_count": 70,
   "metadata": {},
   "outputs": [
    {
     "data": {
      "text/html": [
       "<div>\n",
       "<style scoped>\n",
       "    .dataframe tbody tr th:only-of-type {\n",
       "        vertical-align: middle;\n",
       "    }\n",
       "\n",
       "    .dataframe tbody tr th {\n",
       "        vertical-align: top;\n",
       "    }\n",
       "\n",
       "    .dataframe thead th {\n",
       "        text-align: right;\n",
       "    }\n",
       "</style>\n",
       "<table border=\"1\" class=\"dataframe\">\n",
       "  <thead>\n",
       "    <tr style=\"text-align: right;\">\n",
       "      <th></th>\n",
       "      <th>Score</th>\n",
       "      <th>negative_rating_flag</th>\n",
       "      <th>winter_flag</th>\n",
       "      <th>n_words</th>\n",
       "      <th>product_freq</th>\n",
       "      <th>reviewer_freq</th>\n",
       "      <th>day_of_week_1</th>\n",
       "      <th>day_of_week_2</th>\n",
       "      <th>day_of_week_3</th>\n",
       "      <th>day_of_week_4</th>\n",
       "      <th>day_of_week_5</th>\n",
       "      <th>day_of_week_6</th>\n",
       "      <th>month_2</th>\n",
       "      <th>month_3</th>\n",
       "      <th>month_4</th>\n",
       "      <th>month_5</th>\n",
       "      <th>month_6</th>\n",
       "      <th>month_7</th>\n",
       "      <th>month_8</th>\n",
       "      <th>month_9</th>\n",
       "      <th>month_10</th>\n",
       "      <th>month_11</th>\n",
       "      <th>month_12</th>\n",
       "    </tr>\n",
       "  </thead>\n",
       "  <tbody>\n",
       "    <tr>\n",
       "      <th>11</th>\n",
       "      <td>5</td>\n",
       "      <td>0</td>\n",
       "      <td>0</td>\n",
       "      <td>67</td>\n",
       "      <td>1</td>\n",
       "      <td>2</td>\n",
       "      <td>0</td>\n",
       "      <td>0</td>\n",
       "      <td>0</td>\n",
       "      <td>1</td>\n",
       "      <td>0</td>\n",
       "      <td>0</td>\n",
       "      <td>0</td>\n",
       "      <td>0</td>\n",
       "      <td>0</td>\n",
       "      <td>0</td>\n",
       "      <td>0</td>\n",
       "      <td>0</td>\n",
       "      <td>1</td>\n",
       "      <td>0</td>\n",
       "      <td>0</td>\n",
       "      <td>0</td>\n",
       "      <td>0</td>\n",
       "    </tr>\n",
       "    <tr>\n",
       "      <th>14</th>\n",
       "      <td>5</td>\n",
       "      <td>0</td>\n",
       "      <td>0</td>\n",
       "      <td>21</td>\n",
       "      <td>2</td>\n",
       "      <td>33</td>\n",
       "      <td>0</td>\n",
       "      <td>0</td>\n",
       "      <td>0</td>\n",
       "      <td>1</td>\n",
       "      <td>0</td>\n",
       "      <td>0</td>\n",
       "      <td>0</td>\n",
       "      <td>1</td>\n",
       "      <td>0</td>\n",
       "      <td>0</td>\n",
       "      <td>0</td>\n",
       "      <td>0</td>\n",
       "      <td>0</td>\n",
       "      <td>0</td>\n",
       "      <td>0</td>\n",
       "      <td>0</td>\n",
       "      <td>0</td>\n",
       "    </tr>\n",
       "    <tr>\n",
       "      <th>15</th>\n",
       "      <td>5</td>\n",
       "      <td>0</td>\n",
       "      <td>1</td>\n",
       "      <td>26</td>\n",
       "      <td>2</td>\n",
       "      <td>1</td>\n",
       "      <td>1</td>\n",
       "      <td>0</td>\n",
       "      <td>0</td>\n",
       "      <td>0</td>\n",
       "      <td>0</td>\n",
       "      <td>0</td>\n",
       "      <td>0</td>\n",
       "      <td>0</td>\n",
       "      <td>0</td>\n",
       "      <td>0</td>\n",
       "      <td>0</td>\n",
       "      <td>0</td>\n",
       "      <td>0</td>\n",
       "      <td>0</td>\n",
       "      <td>0</td>\n",
       "      <td>0</td>\n",
       "      <td>1</td>\n",
       "    </tr>\n",
       "    <tr>\n",
       "      <th>32</th>\n",
       "      <td>4</td>\n",
       "      <td>0</td>\n",
       "      <td>1</td>\n",
       "      <td>206</td>\n",
       "      <td>4</td>\n",
       "      <td>5</td>\n",
       "      <td>0</td>\n",
       "      <td>0</td>\n",
       "      <td>0</td>\n",
       "      <td>0</td>\n",
       "      <td>0</td>\n",
       "      <td>0</td>\n",
       "      <td>0</td>\n",
       "      <td>0</td>\n",
       "      <td>0</td>\n",
       "      <td>0</td>\n",
       "      <td>0</td>\n",
       "      <td>0</td>\n",
       "      <td>0</td>\n",
       "      <td>0</td>\n",
       "      <td>0</td>\n",
       "      <td>1</td>\n",
       "      <td>0</td>\n",
       "    </tr>\n",
       "    <tr>\n",
       "      <th>33</th>\n",
       "      <td>4</td>\n",
       "      <td>0</td>\n",
       "      <td>1</td>\n",
       "      <td>93</td>\n",
       "      <td>4</td>\n",
       "      <td>4</td>\n",
       "      <td>0</td>\n",
       "      <td>0</td>\n",
       "      <td>0</td>\n",
       "      <td>0</td>\n",
       "      <td>0</td>\n",
       "      <td>1</td>\n",
       "      <td>0</td>\n",
       "      <td>0</td>\n",
       "      <td>0</td>\n",
       "      <td>0</td>\n",
       "      <td>0</td>\n",
       "      <td>0</td>\n",
       "      <td>0</td>\n",
       "      <td>0</td>\n",
       "      <td>0</td>\n",
       "      <td>0</td>\n",
       "      <td>1</td>\n",
       "    </tr>\n",
       "  </tbody>\n",
       "</table>\n",
       "</div>"
      ],
      "text/plain": [
       "    Score  negative_rating_flag  winter_flag  n_words  product_freq  \\\n",
       "11      5                     0            0       67             1   \n",
       "14      5                     0            0       21             2   \n",
       "15      5                     0            1       26             2   \n",
       "32      4                     0            1      206             4   \n",
       "33      4                     0            1       93             4   \n",
       "\n",
       "    reviewer_freq  day_of_week_1  day_of_week_2  day_of_week_3  day_of_week_4  \\\n",
       "11              2              0              0              0              1   \n",
       "14             33              0              0              0              1   \n",
       "15              1              1              0              0              0   \n",
       "32              5              0              0              0              0   \n",
       "33              4              0              0              0              0   \n",
       "\n",
       "    day_of_week_5  day_of_week_6  month_2  month_3  month_4  month_5  month_6  \\\n",
       "11              0              0        0        0        0        0        0   \n",
       "14              0              0        0        1        0        0        0   \n",
       "15              0              0        0        0        0        0        0   \n",
       "32              0              0        0        0        0        0        0   \n",
       "33              0              1        0        0        0        0        0   \n",
       "\n",
       "    month_7  month_8  month_9  month_10  month_11  month_12  \n",
       "11        0        1        0         0         0         0  \n",
       "14        0        0        0         0         0         0  \n",
       "15        0        0        0         0         0         1  \n",
       "32        0        0        0         0         1         0  \n",
       "33        0        0        0         0         0         1  "
      ]
     },
     "execution_count": 70,
     "metadata": {},
     "output_type": "execute_result"
    }
   ],
   "source": [
    "categorical_variables = ['day_of_week', 'month']\n",
    "for var in categorical_variables: # After the first look of the results I would put this in a function\n",
    "    categorical_list='var'+'_'+var\n",
    "    categorical_list = pd.get_dummies(model_df[var], prefix=var, drop_first=True)\n",
    "    data1=model_df.join(categorical_list)\n",
    "    model_df=data1\n",
    "    \n",
    "data_vars=model_df.columns.values.tolist()\n",
    "to_keep=[i for i in data_vars if i not in categorical_variables]\n",
    "\n",
    "model_df=model_df[to_keep]\n",
    "model_df.head()"
   ]
  },
  {
   "cell_type": "markdown",
   "metadata": {},
   "source": [
    "### 2.  Preparing train and test sets"
   ]
  },
  {
   "cell_type": "markdown",
   "metadata": {},
   "source": [
    "We need to split our data into train and tests sets to measure and compare model performance "
   ]
  },
  {
   "cell_type": "code",
   "execution_count": 71,
   "metadata": {},
   "outputs": [
    {
     "data": {
      "text/plain": [
       "((89773, 23), (71818, 23), (17955, 23))"
      ]
     },
     "execution_count": 71,
     "metadata": {},
     "output_type": "execute_result"
    }
   ],
   "source": [
    "X_train, X_test, y_train, y_test = train_test_split(model_df, target, test_size=0.2, random_state=42)\n",
    "model_df.shape, X_train.shape, X_test.shape"
   ]
  },
  {
   "cell_type": "markdown",
   "metadata": {},
   "source": [
    "It is known from the data exploration section that our target has more reviews tagged as useful (1) and this can bring problems to the model's results and interpretation.  One way to come around this problem is to over sample the not useful reviews, so that the resulted data set has a balanced split of target observations. This will only be done on the training data set as we want to test if the coefficients will give us an accurate prediction on the training set. "
   ]
  },
  {
   "cell_type": "code",
   "execution_count": 72,
   "metadata": {},
   "outputs": [
    {
     "data": {
      "text/plain": [
       "<seaborn.axisgrid.FacetGrid at 0x109a35a00>"
      ]
     },
     "execution_count": 72,
     "metadata": {},
     "output_type": "execute_result"
    },
    {
     "data": {
      "image/png": "[encoded data removed]",
      "text/plain": [
       "<Figure size 360x360 with 1 Axes>"
      ]
     },
     "metadata": {},
     "output_type": "display_data"
    }
   ],
   "source": [
    "sns.catplot(x=\"useful_flag\", kind=\"count\", data = HelpfulnesswithTarget_df)"
   ]
  },
  {
   "cell_type": "code",
   "execution_count": 73,
   "metadata": {},
   "outputs": [
    {
     "name": "stdout",
     "output_type": "stream",
     "text": [
      "length of oversampled data is  100776\n",
      "Number of useful_flag = 0 50388\n",
      "Number of useful_flag = 1 50388\n"
     ]
    }
   ],
   "source": [
    "# Sampling up none useful reviews using SMOTE (Synthetic Minority Over-sampling Technique)\n",
    "from imblearn.over_sampling import SMOTE\n",
    "\n",
    "os = SMOTE(random_state=0)\n",
    "os_data_X,os_data_y=os.fit_resample(X_train, y_train)\n",
    "os_data_X = pd.DataFrame(data=os_data_X, columns=X_train.columns )\n",
    "os_data_y= pd.DataFrame(data=os_data_y,columns=['useful_flag'])\n",
    "\n",
    "# Check data dimensions\n",
    "print('length of oversampled data is ',len(os_data_X))\n",
    "print('Number of useful_flag = 0',len(os_data_y[os_data_y['useful_flag']==0]))\n",
    "print('Number of useful_flag = 1',len(os_data_y[os_data_y['useful_flag']==1]))"
   ]
  },
  {
   "cell_type": "markdown",
   "metadata": {},
   "source": [
    "### 3. Classification model - Logistic regression pipeline\n",
    "Logistic regression is a classification technique, where the output variable is either binary or a multiclass (categorical variables with different levels, like segments for example) compared to linear regression where the output is a numerical value. \n",
    "\n",
    "The main model assumptions are:\n",
    "- Appropriate outcome type. The type of logistic regression utilized (binary, multinomial, or ordinal) must match the outcome (dependent) variable in the dataset.\n",
    "- Linearity of independent variables and log-odds of the outcome\n",
    "- No strongly influential outliers. Logistic regression assumes that there are no highly influential outlier data points, as they distort the outcome and accuracy of the model. \n",
    "- Absence of multicollinearity. Multicollinearity corresponds to a situation where the data contain highly correlated independent variables. \n",
    "- Independence of observations.This means that each observation is not influenced by or related to the rest of the observations.\n",
    "- Sufficiently large sample size.\n",
    "\n",
    "https://towardsdatascience.com/assumptions-of-logistic-regression-clearly-explained-44d85a22b290"
   ]
  },
  {
   "cell_type": "code",
   "execution_count": 74,
   "metadata": {},
   "outputs": [],
   "source": [
    "# Logistic pipeline\n",
    "data_final_vars=model_df.columns.values.tolist()\n",
    "\n",
    "from sklearn.feature_selection import RFE\n",
    "from sklearn.pipeline import make_pipeline \n",
    "\n",
    "\n",
    "def get_standard_pipeline(classfier):\n",
    "    rfe = RFE(classfier, n_features_to_select=20,step=1) #recursive feature elimination \n",
    "    return make_pipeline(StandardScaler(), rfe, classfier)\n",
    "\n",
    "\n",
    "pipe = get_standard_pipeline(LogisticRegression())\n",
    "pipeline_model = pipe.fit(os_data_X, os_data_y.values.ravel())\n",
    "\n"
   ]
  },
  {
   "cell_type": "code",
   "execution_count": 75,
   "metadata": {},
   "outputs": [
    {
     "data": {
      "text/plain": [
       "Pipeline(steps=[('standardscaler', StandardScaler()),\n",
       "                ('rfe',\n",
       "                 RFE(estimator=LogisticRegression(), n_features_to_select=20)),\n",
       "                ('logisticregression', LogisticRegression())])"
      ]
     },
     "execution_count": 75,
     "metadata": {},
     "output_type": "execute_result"
    }
   ],
   "source": [
    "pipeline_model"
   ]
  },
  {
   "cell_type": "code",
   "execution_count": 76,
   "metadata": {},
   "outputs": [
    {
     "name": "stdout",
     "output_type": "stream",
     "text": [
      "[ True  True  True  True  True  True  True  True  True  True  True  True\n",
      "  True  True  True  True  True  True  True  True False False False]\n",
      "[1 1 1 1 1 1 1 1 1 1 1 1 1 1 1 1 1 1 1 1 3 4 2]\n"
     ]
    }
   ],
   "source": [
    "#Variables selected\n",
    "print(pipeline_model['rfe'].support_)\n",
    "print(pipeline_model['rfe'].ranking_)"
   ]
  },
  {
   "cell_type": "code",
   "execution_count": 77,
   "metadata": {},
   "outputs": [
    {
     "data": {
      "text/plain": [
       "Index(['Score', 'negative_rating_flag', 'winter_flag', 'n_words',\n",
       "       'product_freq', 'reviewer_freq', 'day_of_week_1', 'day_of_week_2',\n",
       "       'day_of_week_3', 'day_of_week_4', 'day_of_week_5', 'day_of_week_6',\n",
       "       'month_2', 'month_3', 'month_4', 'month_5', 'month_6', 'month_7',\n",
       "       'month_8', 'month_9', 'month_10', 'month_11', 'month_12'],\n",
       "      dtype='object')"
      ]
     },
     "execution_count": 77,
     "metadata": {},
     "output_type": "execute_result"
    }
   ],
   "source": [
    "os_data_X.columns"
   ]
  },
  {
   "cell_type": "code",
   "execution_count": 78,
   "metadata": {},
   "outputs": [],
   "source": [
    "selected_column_names = os_data_X.columns[pipeline_model['rfe'].support_]"
   ]
  },
  {
   "cell_type": "code",
   "execution_count": 79,
   "metadata": {},
   "outputs": [],
   "source": [
    "coefficient = pipeline_model['logisticregression'].coef_"
   ]
  },
  {
   "cell_type": "code",
   "execution_count": 80,
   "metadata": {},
   "outputs": [],
   "source": [
    "#dict(zip(selected_column_names, coefficient.ravel()))"
   ]
  },
  {
   "cell_type": "code",
   "execution_count": 81,
   "metadata": {},
   "outputs": [
    {
     "data": {
      "text/html": [
       "<div>\n",
       "<style scoped>\n",
       "    .dataframe tbody tr th:only-of-type {\n",
       "        vertical-align: middle;\n",
       "    }\n",
       "\n",
       "    .dataframe tbody tr th {\n",
       "        vertical-align: top;\n",
       "    }\n",
       "\n",
       "    .dataframe thead th {\n",
       "        text-align: right;\n",
       "    }\n",
       "</style>\n",
       "<table border=\"1\" class=\"dataframe\">\n",
       "  <thead>\n",
       "    <tr style=\"text-align: right;\">\n",
       "      <th></th>\n",
       "      <th>coefficient</th>\n",
       "    </tr>\n",
       "  </thead>\n",
       "  <tbody>\n",
       "    <tr>\n",
       "      <th>Score</th>\n",
       "      <td>1.709466</td>\n",
       "    </tr>\n",
       "    <tr>\n",
       "      <th>negative_rating_flag</th>\n",
       "      <td>0.435660</td>\n",
       "    </tr>\n",
       "    <tr>\n",
       "      <th>winter_flag</th>\n",
       "      <td>3.837240</td>\n",
       "    </tr>\n",
       "    <tr>\n",
       "      <th>n_words</th>\n",
       "      <td>0.411997</td>\n",
       "    </tr>\n",
       "    <tr>\n",
       "      <th>product_freq</th>\n",
       "      <td>-0.222651</td>\n",
       "    </tr>\n",
       "    <tr>\n",
       "      <th>reviewer_freq</th>\n",
       "      <td>-0.171019</td>\n",
       "    </tr>\n",
       "    <tr>\n",
       "      <th>day_of_week_1</th>\n",
       "      <td>0.272220</td>\n",
       "    </tr>\n",
       "    <tr>\n",
       "      <th>day_of_week_2</th>\n",
       "      <td>0.277346</td>\n",
       "    </tr>\n",
       "    <tr>\n",
       "      <th>day_of_week_3</th>\n",
       "      <td>0.257090</td>\n",
       "    </tr>\n",
       "    <tr>\n",
       "      <th>day_of_week_4</th>\n",
       "      <td>0.271339</td>\n",
       "    </tr>\n",
       "    <tr>\n",
       "      <th>day_of_week_5</th>\n",
       "      <td>0.253576</td>\n",
       "    </tr>\n",
       "    <tr>\n",
       "      <th>day_of_week_6</th>\n",
       "      <td>0.254544</td>\n",
       "    </tr>\n",
       "    <tr>\n",
       "      <th>month_2</th>\n",
       "      <td>0.074597</td>\n",
       "    </tr>\n",
       "    <tr>\n",
       "      <th>month_3</th>\n",
       "      <td>2.086672</td>\n",
       "    </tr>\n",
       "    <tr>\n",
       "      <th>month_4</th>\n",
       "      <td>1.926424</td>\n",
       "    </tr>\n",
       "    <tr>\n",
       "      <th>month_5</th>\n",
       "      <td>2.012238</td>\n",
       "    </tr>\n",
       "    <tr>\n",
       "      <th>month_6</th>\n",
       "      <td>1.866478</td>\n",
       "    </tr>\n",
       "    <tr>\n",
       "      <th>month_7</th>\n",
       "      <td>1.971412</td>\n",
       "    </tr>\n",
       "    <tr>\n",
       "      <th>month_8</th>\n",
       "      <td>1.977354</td>\n",
       "    </tr>\n",
       "    <tr>\n",
       "      <th>month_9</th>\n",
       "      <td>1.958901</td>\n",
       "    </tr>\n",
       "  </tbody>\n",
       "</table>\n",
       "</div>"
      ],
      "text/plain": [
       "                      coefficient\n",
       "Score                    1.709466\n",
       "negative_rating_flag     0.435660\n",
       "winter_flag              3.837240\n",
       "n_words                  0.411997\n",
       "product_freq            -0.222651\n",
       "reviewer_freq           -0.171019\n",
       "day_of_week_1            0.272220\n",
       "day_of_week_2            0.277346\n",
       "day_of_week_3            0.257090\n",
       "day_of_week_4            0.271339\n",
       "day_of_week_5            0.253576\n",
       "day_of_week_6            0.254544\n",
       "month_2                  0.074597\n",
       "month_3                  2.086672\n",
       "month_4                  1.926424\n",
       "month_5                  2.012238\n",
       "month_6                  1.866478\n",
       "month_7                  1.971412\n",
       "month_8                  1.977354\n",
       "month_9                  1.958901"
      ]
     },
     "execution_count": 81,
     "metadata": {},
     "output_type": "execute_result"
    }
   ],
   "source": [
    "df = pd.DataFrame(coefficient.ravel(), index=selected_column_names, columns=['coefficient'])\n",
    "df"
   ]
  },
  {
   "cell_type": "markdown",
   "metadata": {},
   "source": [
    "The value of the coefficients from 'day of the week' variables are all very similar; meaning there is not a lot of difference between them (which ties up with the data exploration section). But, for months there is a bit more difference, which also ties up with what was found on the data exploration part. The winter flag contributes to the useful prediction quite a lot more compared to the other variables (3.8 coefficient). Meaning if we assume everything else remains the same, reviews made in winter increase the chances of the review being useful. This also applies to certain extend to March and May months which also ties up with what was seen before.\n",
    "\n",
    "The variable related to score is also showing to be influential in predicting whether a review is useful or not, which also makes sense with the data exploration section. The higher the score the more it contributes to the usefulness of the review. \n",
    "\n",
    "It would be useful to have more text mining variables associated with the review to have more information about the reviews itself and it might be the case that the actual content will be assesed better."
   ]
  },
  {
   "cell_type": "markdown",
   "metadata": {},
   "source": [
    "### 4. Model performance\n",
    "\n",
    "Once the variables that are important are selected and the coefficients are calculated, then the model is fitted on the test set to get the prediction values of the target. Which will allow to compare the predicted results against the real resutls in order to assess model performance."
   ]
  },
  {
   "cell_type": "code",
   "execution_count": 82,
   "metadata": {
    "tags": []
   },
   "outputs": [
    {
     "name": "stdout",
     "output_type": "stream",
     "text": [
      "The model accuracy on test set is: 0.778\n"
     ]
    }
   ],
   "source": [
    "print('The model accuracy on test set is: {:.3f}'.format(pipeline_model.score(X_test, y_test))) "
   ]
  },
  {
   "cell_type": "code",
   "execution_count": 83,
   "metadata": {},
   "outputs": [
    {
     "name": "stdout",
     "output_type": "stream",
     "text": [
      "Accuracy of logistic regression classifier on test set: 0.78\n",
      "Confusion matrix:\n",
      "[[ 3748  1608]\n",
      " [ 2384 10215]]\n",
      "              precision    recall  f1-score   support\n",
      "\n",
      "           0       0.61      0.70      0.65      5356\n",
      "           1       0.86      0.81      0.84     12599\n",
      "\n",
      "    accuracy                           0.78     17955\n",
      "   macro avg       0.74      0.76      0.74     17955\n",
      "weighted avg       0.79      0.78      0.78     17955\n",
      "\n"
     ]
    }
   ],
   "source": [
    "# Predicting values in test set\n",
    "from sklearn import metrics\n",
    "\n",
    "y_pred = pipeline_model.predict(X_test)\n",
    "print('Accuracy of logistic regression classifier on test set: {:.2f}'.format(pipeline_model.score(X_test, y_test)))\n",
    "\n",
    "from sklearn.metrics import confusion_matrix\n",
    "confusion_matrix = confusion_matrix(y_test, y_pred)\n",
    "print('Confusion matrix:')\n",
    "print(confusion_matrix)\n",
    "\n",
    "from sklearn.metrics import classification_report\n",
    "print(classification_report(y_test, y_pred))"
   ]
  },
  {
   "cell_type": "markdown",
   "metadata": {},
   "source": [
    "From the confusion matrix, the model got 13,963 (3,748 + 10,215) predictions right, and 3,992 (1,608 + 2,384) wrong from a total of 17,955 observations (reviews) on the test set. Which is where the 78% accuracy comes from. \n",
    "\n",
    "Looking at precision and recall, 86% of the model's positives and 61% of the negatives were correctly predicted (precision); whilst 81% of the positives observation and 70% of the negatives were predicted correctly (recall). These two metrics are a bit confusing but in general:\n",
    "- **precision** assesses how many of the predictions are right\n",
    "- **recall** assesses how many observations did the model get right \n",
    "\n",
    "As an example, let's say we have 3 true positives from the model and 4 positive observations. The precision would be 3/3, i.e. all the predictions are correct; whilst the recall is 3/4, i.e. the model missed one of the true observations. \n",
    "\n",
    "The importance of these 2 measures depends on the purpose of the study or the business case. For example: \n",
    "- in **Spam detection** usually **precision** is more important; since we want to **reduce the number of false positives**. We do not want our system to predict non-spam e-mails (important e-mails) as spam\n",
    "- whilst in **medicine and clinical studies recall** is more important. We want to **minimize the number of false negatives**, since we don't want our model to mark a patient suffering from cancer as safe.  \n",
    "\n",
    "Therefore, depending on the purpose and costs of the study the importance of these metrics vary. \n",
    "\n",
    "https://iq.opengenus.org/performance-metrics-in-classification-regression/"
   ]
  },
  {
   "cell_type": "code",
   "execution_count": 84,
   "metadata": {},
   "outputs": [
    {
     "data": {
      "image/png": "[encoded data removed]",
      "text/plain": [
       "<Figure size 432x288 with 1 Axes>"
      ]
     },
     "metadata": {},
     "output_type": "display_data"
    }
   ],
   "source": [
    "# ROC curve\n",
    "from sklearn.metrics import roc_auc_score\n",
    "from sklearn.metrics import roc_curve\n",
    "logit_roc_auc = roc_auc_score(y_test, pipeline_model.predict(X_test))\n",
    "fpr, tpr, thresholds = roc_curve(y_test, pipeline_model.predict_proba(X_test)[:,1])\n",
    "plt.figure()\n",
    "plt.plot(fpr, tpr, label='Logistic Regression (area = %0.2f)' % logit_roc_auc)\n",
    "plt.plot([0, 1], [0, 1],'r--')\n",
    "plt.xlim([0.0, 1.0])\n",
    "plt.ylim([0.0, 1.05])\n",
    "plt.xlabel('False Positive Rate')\n",
    "plt.ylabel('True Positive Rate')\n",
    "plt.title('Receiver operating characteristic')\n",
    "plt.legend(loc=\"lower right\")\n",
    "plt.savefig('Log_ROC')\n",
    "plt.show()"
   ]
  },
  {
   "cell_type": "markdown",
   "metadata": {},
   "source": [
    "The ROC curve is a graphical view of assessing the model's performance. The higher the AUC, better the model is at predicting 0's and 1's. If the ROC resembles the dotted redline too much then the classifier is not good at identifying the 0's and 1's. In this case, the curve does not look too bad in this case. \n",
    "An AUC of 0.77  means there is 76% chance that model will be able to distinguish between positive class and negative class."
   ]
  },
  {
   "cell_type": "markdown",
   "metadata": {},
   "source": [
    "#### Model Selection\n",
    "Could also be important to have a model selection process to make sure we select the best model and also to see how it performs with different sets."
   ]
  },
  {
   "cell_type": "code",
   "execution_count": 85,
   "metadata": {},
   "outputs": [
    {
     "name": "stdout",
     "output_type": "stream",
     "text": [
      "[0.74756896 0.74230998 0.74578289 0.74588212 0.82258385 0.8422306\n",
      " 0.83725315 0.83745162 0.83814627 0.84112335]\n",
      "Accuracy: 0.80 (+/- 0.09)\n"
     ]
    }
   ],
   "source": [
    "# Evaluate the model using 10-fold cross-validation\n",
    "from sklearn.model_selection  import cross_val_score\n",
    "scores = cross_val_score(pipe, os_data_X, os_data_y.values.ravel(), scoring='accuracy', cv=10)\n",
    "print(scores)\n",
    "print(\"Accuracy: %0.2f (+/- %0.2f)\" % (scores.mean(), scores.std() * 2))"
   ]
  },
  {
   "cell_type": "markdown",
   "metadata": {},
   "source": [
    "Running a quick 10-fold cross validation algorithm, it is possible to see that the models' accuracy is on avg 80% with a confidence interval of (+/- 0.09), which means it is performing well as it is a relatively small interval. "
   ]
  },
  {
   "cell_type": "markdown",
   "metadata": {},
   "source": [
    "### 5. Trying a Random Forest"
   ]
  },
  {
   "cell_type": "code",
   "execution_count": 91,
   "metadata": {},
   "outputs": [
    {
     "data": {
      "text/plain": [
       "Pipeline(steps=[('standardscaler', StandardScaler()),\n",
       "                ('rfe',\n",
       "                 RFE(estimator=RandomForestClassifier(max_depth=2,\n",
       "                                                      n_estimators=500,\n",
       "                                                      random_state=0),\n",
       "                     n_features_to_select=20)),\n",
       "                ('randomforestclassifier',\n",
       "                 RandomForestClassifier(max_depth=2, n_estimators=500,\n",
       "                                        random_state=0))])"
      ]
     },
     "execution_count": 91,
     "metadata": {},
     "output_type": "execute_result"
    }
   ],
   "source": [
    "# Fit Random Forest on training fold \n",
    "rf_pipeline = get_standard_pipeline(RandomForestClassifier(n_estimators=500, max_depth=2, random_state=0))\n",
    "\n",
    "rf_pipeline.fit(os_data_X, os_data_y.values.ravel())"
   ]
  },
  {
   "cell_type": "code",
   "execution_count": 87,
   "metadata": {},
   "outputs": [],
   "source": [
    "y_model = rf_pipeline.predict(X_test) "
   ]
  },
  {
   "cell_type": "code",
   "execution_count": 89,
   "metadata": {},
   "outputs": [
    {
     "name": "stdout",
     "output_type": "stream",
     "text": [
      "The Random Forest accuracy is: 0.773\n"
     ]
    }
   ],
   "source": [
    "from sklearn.metrics import accuracy_score\n",
    "print('The Random Forest accuracy is: {:.3f}'.format(accuracy_score(y_test, y_model))) "
   ]
  },
  {
   "cell_type": "markdown",
   "metadata": {},
   "source": [
    "### 6. Conclusions\n",
    "\n",
    "- Assumptions were not check and in practice this is an important step, but due to time contraints I decided to focus more on the logistic regression itself as I had to take time during my work training hours to do this. \n",
    "- The classifiers have a satisfactory performance and behaviour and are able to predict the reviews. \n",
    "- It is not a perfect model and more thought could have been brought into creating more variables or it would have been useful to take a closer look into the reviews with no votes, for example. However, in practice it is good to start simple and involving the stakeholders through the process so they understand how it works and how it is going to be improved creates engagement, and trust. And ultimately, the stakeholder adopts it as its own which is a gratifiying step of the job. \n",
    "- Once one model is tested, analysed and understood then, I would put the steps into functions and a bigger pipeline using the scikit learn API so that everything is tied up and one can just change the inital X and y elements. I would try different seeds for cross validation and see which variables keep getting picked up in the model, to make sure I pick the best model. \n",
    "- In practice it is also important that the stakeholders are involved in the variable selection process as they can give insight of the variables chosen by the model which might not be obvious to me. \n",
    "- It would also be possible to test other classifiers and see which one is better or if there is any improvement. This is specilly needed for more complex models when there are millions of rows and many variables. \n",
    "- I would have probably tried to predict the usefulness ratio instead of the useful flag, as a ratio of 0.2 is not the same as 0.65 This means that there is a bit of lost information there. In this case I would have probably started with a linear regression, since the output measure is a numerical value. There is also something called a Random Forest Regression, that might be interesting to explore further.  \n",
    "- Other variables could have been added if there was more data avaiable. For example, product especifications or reviewers' details such as tenure, age or profession. \n",
    "- Important to remember that numerical variables that are not measured the same should be standarised.\n"
   ]
  },
  {
   "cell_type": "markdown",
   "metadata": {},
   "source": [
    "============================================================="
   ]
  },
  {
   "cell_type": "code",
   "execution_count": 143,
   "metadata": {},
   "outputs": [],
   "source": [
    "# Testing other solvers in logistic regression models ---\n",
    "#l1_ratio = 0.5  # L1 weight in the Elastic-Net regularization \n",
    "# this is the kind of hyperparameter that need to be found via a grid search\n",
    "\n",
    "# Fit Logistic regression on training fold\n",
    "#l1_log = LogisticRegression(random_state=0, solver='saga', penalty='l1').fit(os_data_Xselected, os_data_y)\n",
    "#l2_log = LogisticRegression(random_state=0, solver='saga', penalty='l2').fit(os_data_Xselected, os_data_y)\n",
    "#en_log = LogisticRegression(random_state=0, solver='saga', penalty='elasticnet',l1_ratio=0.5).fit(os_data_Xselected, os_data_y)\n",
    "\n",
    "# A note on elastic net: --\n",
    "# ElasticNet is a linear regression model trained with both l1 and l2-norm regularization of the coefficients. \n",
    "# This combination allows for learning a sparse model where few of the weights are non-zero like Lasso, \n",
    "# while still maintaining the regularization properties of Ridge. We control the convex combination of l1 and l1 using \n",
    "# the l1_ratio parameter.\n",
    "\n",
    "# Elastic-net is useful when there are multiple features which are correlated with one another. \n",
    "#Lasso is likely to pick one of these at random, while elastic-net is likely to pick both.\n",
    "\n",
    "# A practical advantage of trading-off between Lasso and Ridge is that it allows Elastic-Net to inherit some \n",
    "# of Ridge’s stability under rotation.\n",
    "# so bascially, lasso (l1) works best when we have a lot of variables that are useless and Ridge (l2) works best when we have\n",
    "# a lot of variables that might not all be useless\n",
    "# when rho = 1 then elastic net is Lasso"
   ]
  },
  {
   "cell_type": "code",
   "execution_count": 46,
   "metadata": {},
   "outputs": [],
   "source": [
    "# log_model = LogisticRegression(random_state=0, solver='saga').fit(os_data_Xselected, os_data_y)"
   ]
  },
  {
   "cell_type": "code",
   "execution_count": 47,
   "metadata": {},
   "outputs": [],
   "source": [
    "# ## Coefficients\n",
    "# # coef_l1_log = l1_log.coef_.ravel()\n",
    "# # coef_l2_log = l2_log.coef_.ravel()\n",
    "# # print(coef_l1_log)\n",
    "# # print(coef_l2_log)\n",
    "\n",
    "# pd.DataFrame(zip(X_train.columns, np.transpose(log_model.coef_)))"
   ]
  },
  {
   "cell_type": "code",
   "execution_count": 48,
   "metadata": {},
   "outputs": [],
   "source": [
    "# print('The model accuracy is: {:.3f}'.format(log_model.score(os_data_Xselected, os_data_y)))"
   ]
  },
  {
   "cell_type": "code",
   "execution_count": 44,
   "metadata": {},
   "outputs": [],
   "source": [
    "# log_pred = log_model.predict(Xselected_test) #predicting binary outcomes\n",
    "# log_pred_prob = log_model.predict_proba(Xselected_test) # predicting probabilities"
   ]
  }
 ],
 "metadata": {
  "kernelspec": {
   "display_name": "Python 3 (ipykernel)",
   "language": "python",
   "name": "python3"
  },
  "language_info": {
   "codemirror_mode": {
    "name": "ipython",
    "version": 3
   },
   "file_extension": ".py",
   "mimetype": "text/x-python",
   "name": "python",
   "nbconvert_exporter": "python",
   "pygments_lexer": "ipython3",
   "version": "3.9.0"
  }
 },
 "nbformat": 4,
 "nbformat_minor": 4
}
