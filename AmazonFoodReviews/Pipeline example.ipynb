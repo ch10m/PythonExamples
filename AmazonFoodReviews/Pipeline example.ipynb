{
 "cells": [
  {
   "cell_type": "code",
   "execution_count": 7,
   "metadata": {},
   "outputs": [
    {
     "name": "stdout",
     "output_type": "stream",
     "text": [
      "Collecting sklearn-pandas\n",
      "  Downloading https://files.pythonhosted.org/packages/1f/48/4e1461d828baf41d609efaa720d20090ac6ec346b5daad3c88e243e2207e/sklearn_pandas-1.8.0-py2.py3-none-any.whl\n",
      "Collecting numpy>=1.6.1 (from sklearn-pandas)\n",
      "  Using cached https://files.pythonhosted.org/packages/1f/c7/198496417c9c2f6226616cff7dedf2115a4f4d0276613bab842ec8ac1e23/numpy-1.16.4-cp27-cp27mu-manylinux1_x86_64.whl\n",
      "Collecting scikit-learn>=0.15.0 (from sklearn-pandas)\n",
      "  Using cached https://files.pythonhosted.org/packages/f7/bb/52a01390c1dbb2c65d3072bc687271aa9ddf6964141ce7e03304820138f4/scikit_learn-0.20.3-cp27-cp27mu-manylinux1_x86_64.whl\n",
      "Collecting pandas>=0.11.0 (from sklearn-pandas)\n",
      "  Using cached https://files.pythonhosted.org/packages/db/83/7d4008ffc2988066ff37f6a0bb6d7b60822367dcb36ba5e39aa7801fda54/pandas-0.24.2-cp27-cp27mu-manylinux1_x86_64.whl\n",
      "Collecting scipy>=0.14 (from sklearn-pandas)\n",
      "  Using cached https://files.pythonhosted.org/packages/1d/f6/7c16d60aeb3694e5611976cb4f1eaf1c6b7f1e7c55771d691013405a02ea/scipy-1.2.2-cp27-cp27mu-manylinux1_x86_64.whl\n",
      "Collecting pytz>=2011k (from pandas>=0.11.0->sklearn-pandas)\n",
      "  Using cached https://files.pythonhosted.org/packages/3d/73/fe30c2daaaa0713420d0382b16fbb761409f532c56bdcc514bf7b6262bb6/pytz-2019.1-py2.py3-none-any.whl\n",
      "Collecting python-dateutil>=2.5.0 (from pandas>=0.11.0->sklearn-pandas)\n",
      "  Using cached https://files.pythonhosted.org/packages/41/17/c62faccbfbd163c7f57f3844689e3a78bae1f403648a6afb1d0866d87fbb/python_dateutil-2.8.0-py2.py3-none-any.whl\n",
      "Collecting six>=1.5 (from python-dateutil>=2.5.0->pandas>=0.11.0->sklearn-pandas)\n",
      "  Using cached https://files.pythonhosted.org/packages/73/fb/00a976f728d0d1fecfe898238ce23f502a721c0ac0ecfedb80e0d88c64e9/six-1.12.0-py2.py3-none-any.whl\n",
      "Installing collected packages: numpy, scipy, scikit-learn, pytz, six, python-dateutil, pandas, sklearn-pandas\n",
      "Successfully installed numpy-1.16.4 pandas-0.24.2 python-dateutil-2.8.0 pytz-2019.1 scikit-learn-0.20.3 scipy-1.2.2 six-1.12.0 sklearn-pandas-1.8.0\n"
     ]
    }
   ],
   "source": [
    "!pip install sklearn-pandas"
   ]
  },
  {
   "cell_type": "code",
   "execution_count": 13,
   "metadata": {},
   "outputs": [
    {
     "data": {
      "text/html": [
       "<div>\n",
       "<style scoped>\n",
       "    .dataframe tbody tr th:only-of-type {\n",
       "        vertical-align: middle;\n",
       "    }\n",
       "\n",
       "    .dataframe tbody tr th {\n",
       "        vertical-align: top;\n",
       "    }\n",
       "\n",
       "    .dataframe thead th {\n",
       "        text-align: right;\n",
       "    }\n",
       "</style>\n",
       "<table border=\"1\" class=\"dataframe\">\n",
       "  <thead>\n",
       "    <tr style=\"text-align: right;\">\n",
       "      <th></th>\n",
       "      <th>film_id</th>\n",
       "      <th>year</th>\n",
       "      <th>length</th>\n",
       "      <th>budget</th>\n",
       "      <th>votes</th>\n",
       "      <th>genre</th>\n",
       "      <th>rating</th>\n",
       "    </tr>\n",
       "  </thead>\n",
       "  <tbody>\n",
       "    <tr>\n",
       "      <th>0</th>\n",
       "      <td>1</td>\n",
       "      <td>1971</td>\n",
       "      <td>121</td>\n",
       "      <td>11.6</td>\n",
       "      <td>348</td>\n",
       "      <td>Comedy</td>\n",
       "      <td>5.2</td>\n",
       "    </tr>\n",
       "    <tr>\n",
       "      <th>1</th>\n",
       "      <td>2</td>\n",
       "      <td>1939</td>\n",
       "      <td>71</td>\n",
       "      <td>13.4</td>\n",
       "      <td>20</td>\n",
       "      <td>Comedy</td>\n",
       "      <td>7.9</td>\n",
       "    </tr>\n",
       "    <tr>\n",
       "      <th>2</th>\n",
       "      <td>3</td>\n",
       "      <td>1941</td>\n",
       "      <td>7</td>\n",
       "      <td>13.7</td>\n",
       "      <td>5</td>\n",
       "      <td>Animation</td>\n",
       "      <td>8.1</td>\n",
       "    </tr>\n",
       "    <tr>\n",
       "      <th>3</th>\n",
       "      <td>4</td>\n",
       "      <td>1996</td>\n",
       "      <td>70</td>\n",
       "      <td>14.8</td>\n",
       "      <td>6</td>\n",
       "      <td>Comedy</td>\n",
       "      <td>7.8</td>\n",
       "    </tr>\n",
       "    <tr>\n",
       "      <th>4</th>\n",
       "      <td>5</td>\n",
       "      <td>1975</td>\n",
       "      <td>71</td>\n",
       "      <td>13.5</td>\n",
       "      <td>17</td>\n",
       "      <td>Action</td>\n",
       "      <td>4.6</td>\n",
       "    </tr>\n",
       "  </tbody>\n",
       "</table>\n",
       "</div>"
      ],
      "text/plain": [
       "   film_id  year  length  budget  votes      genre  rating\n",
       "0        1  1971     121    11.6    348     Comedy     5.2\n",
       "1        2  1939      71    13.4     20     Comedy     7.9\n",
       "2        3  1941       7    13.7      5  Animation     8.1\n",
       "3        4  1996      70    14.8      6     Comedy     7.8\n",
       "4        5  1975      71    13.5     17     Action     4.6"
      ]
     },
     "execution_count": 13,
     "metadata": {},
     "output_type": "execute_result"
    }
   ],
   "source": [
    "import pandas\n",
    "import sklearn\n",
    "from sklearn.linear_model import LinearRegression\n",
    "\n",
    "from sklearn_pandas import DataFrameMapper\n",
    "import sklearn\n",
    "\n",
    "from sklearn.metrics import mean_squared_error\n",
    "\n",
    "import numpy as np\n",
    "from sklearn.model_selection import train_test_split\n",
    "\n",
    "from sklearn.externals import joblib\n",
    "from io import StringIO\n",
    "\n",
    "# Just an example CSV for demonstration\n",
    "my_data = u\"\"\"film_id,year,length,budget,votes,genre,rating\n",
    "1,1971,121,11.6,348,Comedy,5.2\n",
    "2,1939,71,13.4,20,Comedy,7.9\n",
    "3,1941,7,13.7,5,Animation,8.1\n",
    "4,1996,70,14.8,6,Comedy,7.8\n",
    "5,1975,71,13.5,17,Action,4.6\n",
    "\"\"\"\n",
    "my_csv = StringIO(my_data)\n",
    "\n",
    "# loaded as pandas dataframe\n",
    "movies = pandas.read_csv(my_csv)\n",
    "movies"
   ]
  },
  {
   "cell_type": "code",
   "execution_count": 17,
   "metadata": {},
   "outputs": [],
   "source": [
    "from sklearn.preprocessing import FunctionTransformer\n",
    "\n",
    "def star_year_from_min(df):\n",
    "    # simple example, but any dataprep can be done here\n",
    "    new_df = df.copy()\n",
    "    min_year = min(new_df[\"year\"])\n",
    "    new_df[\"year\"] = new_df[\"year\"].map(lambda year: year - min_year)\n",
    "    return new_df\n",
    "    \n",
    "dataprep_transformer = FunctionTransformer(star_year_from_min, validate=False)\n",
    "\n",
    "mapper = DataFrameMapper([\n",
    "    ('year', None),\n",
    "    ('genre', sklearn.preprocessing.LabelBinarizer())\n",
    "])\n",
    "\n",
    "pipe = sklearn.pipeline.Pipeline([\n",
    "    ('dataprep', dataprep_transformer),   \n",
    "    ('featurize', mapper),\n",
    "    ('elastic_net', LinearRegression())\n",
    "])\n",
    "model = pipe.fit(X=movies, y=movies.rating.values)\n"
   ]
  },
  {
   "cell_type": "code",
   "execution_count": 34,
   "metadata": {},
   "outputs": [
    {
     "data": {
      "text/plain": [
       "[('year', -0.005532870559412022),\n",
       " ('genre_Action', -1.8811691847012386),\n",
       " ('genre_Animation', 1.4307132162787515),\n",
       " ('genre_Comedy', 0.4504559684224858)]"
      ]
     },
     "execution_count": 34,
     "metadata": {},
     "output_type": "execute_result"
    }
   ],
   "source": [
    "zip(\n",
    "    model.named_steps['featurize'].transformed_names_, \n",
    "    model.named_steps['elastic_net'].coef_\n",
    ")"
   ]
  },
  {
   "cell_type": "code",
   "execution_count": 18,
   "metadata": {},
   "outputs": [
    {
     "data": {
      "text/plain": [
       "['movies_model_v1.pkl']"
      ]
     },
     "execution_count": 18,
     "metadata": {},
     "output_type": "execute_result"
    }
   ],
   "source": [
    "joblib.dump(model, 'movies_model_v1.pkl')\n"
   ]
  },
  {
   "cell_type": "code",
   "execution_count": 21,
   "metadata": {},
   "outputs": [
    {
     "data": {
      "text/html": [
       "<div>\n",
       "<style scoped>\n",
       "    .dataframe tbody tr th:only-of-type {\n",
       "        vertical-align: middle;\n",
       "    }\n",
       "\n",
       "    .dataframe tbody tr th {\n",
       "        vertical-align: top;\n",
       "    }\n",
       "\n",
       "    .dataframe thead th {\n",
       "        text-align: right;\n",
       "    }\n",
       "</style>\n",
       "<table border=\"1\" class=\"dataframe\">\n",
       "  <thead>\n",
       "    <tr style=\"text-align: right;\">\n",
       "      <th></th>\n",
       "      <th>genre</th>\n",
       "      <th>year</th>\n",
       "    </tr>\n",
       "  </thead>\n",
       "  <tbody>\n",
       "    <tr>\n",
       "      <th>0</th>\n",
       "      <td>Comedy</td>\n",
       "      <td>2010</td>\n",
       "    </tr>\n",
       "  </tbody>\n",
       "</table>\n",
       "</div>"
      ],
      "text/plain": [
       "    genre  year\n",
       "0  Comedy  2010"
      ]
     },
     "execution_count": 21,
     "metadata": {},
     "output_type": "execute_result"
    }
   ],
   "source": [
    "## Example scoring of new data\n",
    "\n",
    "year = 2010\n",
    "genre = \"Comedy\"\n",
    "from pandas import DataFrame\n",
    "\n",
    "test_data = DataFrame.from_dict({\n",
    "    'year': [year],\n",
    "    'genre': [genre]\n",
    "})\n",
    "test_data"
   ]
  },
  {
   "cell_type": "code",
   "execution_count": 22,
   "metadata": {},
   "outputs": [
    {
     "name": "stdout",
     "output_type": "stream",
     "text": [
      "[7.13080849]\n"
     ]
    }
   ],
   "source": [
    "model_v1 = joblib.load('movies_model_v1.pkl')\n",
    "print(model_v1.predict(test_data))"
   ]
  },
  {
   "cell_type": "code",
   "execution_count": 35,
   "metadata": {},
   "outputs": [
    {
     "data": {
      "text/plain": [
       "[('year', -0.005532870559412022),\n",
       " ('genre_Action', -1.8811691847012386),\n",
       " ('genre_Animation', 1.4307132162787515),\n",
       " ('genre_Comedy', 0.4504559684224858)]"
      ]
     },
     "execution_count": 35,
     "metadata": {},
     "output_type": "execute_result"
    }
   ],
   "source": [
    "zip(\n",
    "    model_v1.named_steps['featurize'].transformed_names_, \n",
    "    model.named_steps['elastic_net'].coef_\n",
    ")"
   ]
  },
  {
   "cell_type": "code",
   "execution_count": null,
   "metadata": {},
   "outputs": [],
   "source": []
  }
 ],
 "metadata": {
  "kernelspec": {
   "display_name": "Python 2",
   "language": "python",
   "name": "python2"
  },
  "language_info": {
   "codemirror_mode": {
    "name": "ipython",
    "version": 2
   },
   "file_extension": ".py",
   "mimetype": "text/x-python",
   "name": "python",
   "nbconvert_exporter": "python",
   "pygments_lexer": "ipython2",
   "version": "2.7.14"
  }
 },
 "nbformat": 4,
 "nbformat_minor": 2
}
