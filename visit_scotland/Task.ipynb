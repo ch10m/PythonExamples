{
 "cells": [
  {
   "cell_type": "markdown",
   "metadata": {},
   "source": [
    "Applicant: Rocio Martinez\n",
    "\n",
    "\n",
    "Problem definition\n",
    "\n",
    "Have the function NumberStream(str) take the str parameter being passed, that will contain the numbers 2 through 9, and determine if there is a consecutive stream of digits of at least length N where N is the actual digit value. If so, return the string True, otherwise return the string False.\n",
    "\n",
    "For example:\n",
    "\n",
    "If the str is “6539923335” then your programme should return the string True because there is a consecutive stream of 3s of length 3.\n",
    "\n",
    "The input string will always contain at least one digit.\n",
    "\n",
    " \n",
    "\n",
    "Script Framework\n",
    "\n",
    "import pandas as pd\n",
    "\n",
    "import numpy as np\n",
    "\n",
    " \n",
    "\n",
    "def NumberStream(strParam):\n",
    "\n",
    "    #Your code should go here\n",
    "\n",
    "    return strParam\n",
    "\n",
    " \n",
    "\n",
    "print(strParam)"
   ]
  },
  {
   "cell_type": "code",
   "execution_count": 51,
   "metadata": {},
   "outputs": [],
   "source": [
    "def NumberStream(str):\n",
    "    count = 0  \n",
    "    \n",
    "    character_i = str[0] \n",
    "    for i in range(len(str)): \n",
    "          \n",
    "        character_count = 1\n",
    "        for j in range(i + 1, len(str)): \n",
    "      \n",
    "            if (str[i] != str[j]): break\n",
    "            character_count += 1\n",
    "        \n",
    "        if character_count > count : \n",
    "            count = character_count \n",
    "            character_i = str[i] \n",
    "         \n",
    "    print(character_i)\n",
    "    print(count)\n",
    "    \n",
    "    if float(character_i) >= float(count): return(True)\n",
    "    else: return(False)\n",
    "\n",
    "#str=[n in range(2,9)]"
   ]
  },
  {
   "cell_type": "code",
   "execution_count": 52,
   "metadata": {},
   "outputs": [
    {
     "name": "stdout",
     "output_type": "stream",
     "text": [
      "3\n",
      "3\n"
     ]
    },
    {
     "data": {
      "text/plain": [
       "True"
      ]
     },
     "execution_count": 52,
     "metadata": {},
     "output_type": "execute_result"
    }
   ],
   "source": [
    "NumberStream('6539923335')"
   ]
  },
  {
   "cell_type": "code",
   "execution_count": 72,
   "metadata": {},
   "outputs": [],
   "source": [
    "def NumberStream(str):\n",
    "    count = 0  \n",
    "    \n",
    "    character_i = str[0] \n",
    "    for i in range(len(str)): \n",
    "          \n",
    "        character_count = 1\n",
    "        for j in range(i + 1, len(str)): \n",
    "            if (str[i] != str[j]): break\n",
    "            character_count += 1\n",
    "        \n",
    "        if character_count > count : \n",
    "            count = character_count \n",
    "            character_i = str[i] \n",
    "    \n",
    "    print(character_count)\n",
    "    print(character_i)\n",
    "    print(count)\n",
    "    \n",
    "  #  if float(character_i) >= float(count): return(True)\n",
    "  #  else: return(False)"
   ]
  },
  {
   "cell_type": "code",
   "execution_count": 73,
   "metadata": {},
   "outputs": [
    {
     "name": "stdout",
     "output_type": "stream",
     "text": [
      "1\n",
      "6\n",
      "0\n"
     ]
    }
   ],
   "source": [
    "NumberStream('6539923335')"
   ]
  },
  {
   "cell_type": "code",
   "execution_count": null,
   "metadata": {},
   "outputs": [],
   "source": []
  }
 ],
 "metadata": {
  "kernelspec": {
   "display_name": "Python 3",
   "language": "python",
   "name": "python3"
  },
  "language_info": {
   "codemirror_mode": {
    "name": "ipython",
    "version": 3
   },
   "file_extension": ".py",
   "mimetype": "text/x-python",
   "name": "python",
   "nbconvert_exporter": "python",
   "pygments_lexer": "ipython3",
   "version": "3.7.8"
  }
 },
 "nbformat": 4,
 "nbformat_minor": 4
}
