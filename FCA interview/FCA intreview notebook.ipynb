{
 "cells": [
  {
   "cell_type": "markdown",
   "id": "nutritional-legend",
   "metadata": {},
   "source": [
    "# Electricity switches - time series analysis\n",
    "\n",
    "1. Input data\n",
    "    - Reading the data\n",
    "    - renaming the variables\n",
    "    - creating a new vartiable\n",
    "2. Plotting the trends\n",
    "3. Asssumptions check: \n",
    "    - Stationarity\n",
    "    - Autoccorrelation\n",
    "    - Decomposition\n",
    "4. Forecast\n",
    "    - Train test split\n",
    "    - using auto-arima method\n",
    "    - forecast plot and RSME calculation\n",
    "\n",
    "5. Further steps\n",
    "\n",
    "Sources:\n",
    "- https://builtin.com/data-science/time-series-python\n",
    "- https://towardsdatascience.com/time-series-forecasting-using-auto-arima-in-python-bb83e49210cd\n",
    "- https://alkaline-ml.com/pmdarima/modules/generated/pmdarima.arima.auto_arima.html"
   ]
  },
  {
   "cell_type": "code",
   "execution_count": 3,
   "id": "limited-warren",
   "metadata": {},
   "outputs": [],
   "source": [
    "import pandas as pd\n",
    "import numpy as np\n",
    "import seaborn as sns\n",
    "import matplotlib.pyplot as plt\n",
    "import datetime"
   ]
  },
  {
   "cell_type": "markdown",
   "id": "piano-notebook",
   "metadata": {},
   "source": [
    "## 1. Input data\n",
    "\n",
    "### 1.1 Reading the data"
   ]
  },
  {
   "cell_type": "code",
   "execution_count": 127,
   "id": "swiss-surrey",
   "metadata": {},
   "outputs": [],
   "source": [
    "# average_tariffs=pd.read_excel('2nd Stage Data Analyst Assessment - Data Tables.xlsx'\n",
    "#                            ,sheet_name='Average tariffs ')\n",
    "# average_tariffs"
   ]
  },
  {
   "cell_type": "code",
   "execution_count": 6,
   "id": "future-being",
   "metadata": {},
   "outputs": [
    {
     "data": {
      "text/html": [
       "<div>\n",
       "<style scoped>\n",
       "    .dataframe tbody tr th:only-of-type {\n",
       "        vertical-align: middle;\n",
       "    }\n",
       "\n",
       "    .dataframe tbody tr th {\n",
       "        vertical-align: top;\n",
       "    }\n",
       "\n",
       "    .dataframe thead th {\n",
       "        text-align: right;\n",
       "    }\n",
       "</style>\n",
       "<table border=\"1\" class=\"dataframe\">\n",
       "  <thead>\n",
       "    <tr style=\"text-align: right;\">\n",
       "      <th></th>\n",
       "      <th>Month</th>\n",
       "      <th>Total electricity switches (both switching tariff and/or switching supplier)</th>\n",
       "      <th>Total electricity switches to different suppliers</th>\n",
       "    </tr>\n",
       "  </thead>\n",
       "  <tbody>\n",
       "    <tr>\n",
       "      <th>0</th>\n",
       "      <td>2012-01-01</td>\n",
       "      <td>210000</td>\n",
       "      <td>22337</td>\n",
       "    </tr>\n",
       "    <tr>\n",
       "      <th>1</th>\n",
       "      <td>2012-02-01</td>\n",
       "      <td>257000</td>\n",
       "      <td>29128</td>\n",
       "    </tr>\n",
       "    <tr>\n",
       "      <th>2</th>\n",
       "      <td>2012-03-01</td>\n",
       "      <td>279000</td>\n",
       "      <td>20817</td>\n",
       "    </tr>\n",
       "    <tr>\n",
       "      <th>3</th>\n",
       "      <td>2012-04-01</td>\n",
       "      <td>232000</td>\n",
       "      <td>12872</td>\n",
       "    </tr>\n",
       "    <tr>\n",
       "      <th>4</th>\n",
       "      <td>2012-05-01</td>\n",
       "      <td>286000</td>\n",
       "      <td>19167</td>\n",
       "    </tr>\n",
       "    <tr>\n",
       "      <th>...</th>\n",
       "      <td>...</td>\n",
       "      <td>...</td>\n",
       "      <td>...</td>\n",
       "    </tr>\n",
       "    <tr>\n",
       "      <th>74</th>\n",
       "      <td>2018-03-01</td>\n",
       "      <td>443326</td>\n",
       "      <td>221536</td>\n",
       "    </tr>\n",
       "    <tr>\n",
       "      <th>75</th>\n",
       "      <td>2018-04-01</td>\n",
       "      <td>446530</td>\n",
       "      <td>266409</td>\n",
       "    </tr>\n",
       "    <tr>\n",
       "      <th>76</th>\n",
       "      <td>2018-05-01</td>\n",
       "      <td>464753</td>\n",
       "      <td>320163</td>\n",
       "    </tr>\n",
       "    <tr>\n",
       "      <th>77</th>\n",
       "      <td>2018-06-01</td>\n",
       "      <td>455194</td>\n",
       "      <td>348591</td>\n",
       "    </tr>\n",
       "    <tr>\n",
       "      <th>78</th>\n",
       "      <td>2018-07-01</td>\n",
       "      <td>442406</td>\n",
       "      <td>299457</td>\n",
       "    </tr>\n",
       "  </tbody>\n",
       "</table>\n",
       "<p>79 rows × 3 columns</p>\n",
       "</div>"
      ],
      "text/plain": [
       "        Month  \\\n",
       "0  2012-01-01   \n",
       "1  2012-02-01   \n",
       "2  2012-03-01   \n",
       "3  2012-04-01   \n",
       "4  2012-05-01   \n",
       "..        ...   \n",
       "74 2018-03-01   \n",
       "75 2018-04-01   \n",
       "76 2018-05-01   \n",
       "77 2018-06-01   \n",
       "78 2018-07-01   \n",
       "\n",
       "    Total electricity switches (both switching tariff and/or switching supplier)  \\\n",
       "0                                              210000                              \n",
       "1                                              257000                              \n",
       "2                                              279000                              \n",
       "3                                              232000                              \n",
       "4                                              286000                              \n",
       "..                                                ...                              \n",
       "74                                             443326                              \n",
       "75                                             446530                              \n",
       "76                                             464753                              \n",
       "77                                             455194                              \n",
       "78                                             442406                              \n",
       "\n",
       "    Total electricity switches to different suppliers  \n",
       "0                                               22337  \n",
       "1                                               29128  \n",
       "2                                               20817  \n",
       "3                                               12872  \n",
       "4                                               19167  \n",
       "..                                                ...  \n",
       "74                                             221536  \n",
       "75                                             266409  \n",
       "76                                             320163  \n",
       "77                                             348591  \n",
       "78                                             299457  \n",
       "\n",
       "[79 rows x 3 columns]"
      ]
     },
     "execution_count": 6,
     "metadata": {},
     "output_type": "execute_result"
    }
   ],
   "source": [
    "electricity_switches=pd.read_excel('2nd Stage Data Analyst Assessment - Data Tables.xlsx'\n",
    "                           ,sheet_name='Electricity switches')\n",
    "electricity_switches"
   ]
  },
  {
   "cell_type": "code",
   "execution_count": 20,
   "id": "exposed-graph",
   "metadata": {},
   "outputs": [
    {
     "data": {
      "text/plain": [
       "Month                                                                           datetime64[ns]\n",
       "Total electricity switches (both switching tariff and/or switching supplier)             int64\n",
       "Total electricity switches to different suppliers                                        int64\n",
       "dtype: object"
      ]
     },
     "execution_count": 20,
     "metadata": {},
     "output_type": "execute_result"
    }
   ],
   "source": [
    "electricity_switches.dtypes"
   ]
  },
  {
   "cell_type": "code",
   "execution_count": 15,
   "id": "found-berry",
   "metadata": {},
   "outputs": [
    {
     "data": {
      "text/html": [
       "<div>\n",
       "<style scoped>\n",
       "    .dataframe tbody tr th:only-of-type {\n",
       "        vertical-align: middle;\n",
       "    }\n",
       "\n",
       "    .dataframe tbody tr th {\n",
       "        vertical-align: top;\n",
       "    }\n",
       "\n",
       "    .dataframe thead th {\n",
       "        text-align: right;\n",
       "    }\n",
       "</style>\n",
       "<table border=\"1\" class=\"dataframe\">\n",
       "  <thead>\n",
       "    <tr style=\"text-align: right;\">\n",
       "      <th></th>\n",
       "      <th>Month</th>\n",
       "      <th>Total electricity switches (both switching tariff and/or switching supplier)</th>\n",
       "      <th>Total electricity switches to different suppliers</th>\n",
       "    </tr>\n",
       "  </thead>\n",
       "  <tbody>\n",
       "    <tr>\n",
       "      <th>0</th>\n",
       "      <td>2012-01-01</td>\n",
       "      <td>210000</td>\n",
       "      <td>22337</td>\n",
       "    </tr>\n",
       "    <tr>\n",
       "      <th>1</th>\n",
       "      <td>2012-02-01</td>\n",
       "      <td>257000</td>\n",
       "      <td>29128</td>\n",
       "    </tr>\n",
       "    <tr>\n",
       "      <th>2</th>\n",
       "      <td>2012-03-01</td>\n",
       "      <td>279000</td>\n",
       "      <td>20817</td>\n",
       "    </tr>\n",
       "    <tr>\n",
       "      <th>3</th>\n",
       "      <td>2012-04-01</td>\n",
       "      <td>232000</td>\n",
       "      <td>12872</td>\n",
       "    </tr>\n",
       "    <tr>\n",
       "      <th>4</th>\n",
       "      <td>2012-05-01</td>\n",
       "      <td>286000</td>\n",
       "      <td>19167</td>\n",
       "    </tr>\n",
       "  </tbody>\n",
       "</table>\n",
       "</div>"
      ],
      "text/plain": [
       "       Month  \\\n",
       "0 2012-01-01   \n",
       "1 2012-02-01   \n",
       "2 2012-03-01   \n",
       "3 2012-04-01   \n",
       "4 2012-05-01   \n",
       "\n",
       "   Total electricity switches (both switching tariff and/or switching supplier)  \\\n",
       "0                                             210000                              \n",
       "1                                             257000                              \n",
       "2                                             279000                              \n",
       "3                                             232000                              \n",
       "4                                             286000                              \n",
       "\n",
       "   Total electricity switches to different suppliers  \n",
       "0                                              22337  \n",
       "1                                              29128  \n",
       "2                                              20817  \n",
       "3                                              12872  \n",
       "4                                              19167  "
      ]
     },
     "execution_count": 15,
     "metadata": {},
     "output_type": "execute_result"
    }
   ],
   "source": [
    "electricity_switches.head()"
   ]
  },
  {
   "cell_type": "code",
   "execution_count": 19,
   "id": "dependent-nature",
   "metadata": {},
   "outputs": [],
   "source": [
    "electricity_switches['Month'] = pd.to_datetime(electricity_switches['Month'], format='%Y-%m-%d')"
   ]
  },
  {
   "cell_type": "markdown",
   "id": "pacific-distinction",
   "metadata": {},
   "source": [
    "### 1.2 Renaming variables and 1.3 Creating tariff_switches"
   ]
  },
  {
   "cell_type": "code",
   "execution_count": 107,
   "id": "aboriginal-dinner",
   "metadata": {},
   "outputs": [
    {
     "data": {
      "text/html": [
       "<div>\n",
       "<style scoped>\n",
       "    .dataframe tbody tr th:only-of-type {\n",
       "        vertical-align: middle;\n",
       "    }\n",
       "\n",
       "    .dataframe tbody tr th {\n",
       "        vertical-align: top;\n",
       "    }\n",
       "\n",
       "    .dataframe thead th {\n",
       "        text-align: right;\n",
       "    }\n",
       "</style>\n",
       "<table border=\"1\" class=\"dataframe\">\n",
       "  <thead>\n",
       "    <tr style=\"text-align: right;\">\n",
       "      <th></th>\n",
       "      <th>total_switches</th>\n",
       "      <th>supplier_switches</th>\n",
       "      <th>tariff_switches</th>\n",
       "    </tr>\n",
       "    <tr>\n",
       "      <th>Month</th>\n",
       "      <th></th>\n",
       "      <th></th>\n",
       "      <th></th>\n",
       "    </tr>\n",
       "  </thead>\n",
       "  <tbody>\n",
       "    <tr>\n",
       "      <th>2012-01-01</th>\n",
       "      <td>210000</td>\n",
       "      <td>22337</td>\n",
       "      <td>187663</td>\n",
       "    </tr>\n",
       "    <tr>\n",
       "      <th>2012-02-01</th>\n",
       "      <td>257000</td>\n",
       "      <td>29128</td>\n",
       "      <td>227872</td>\n",
       "    </tr>\n",
       "    <tr>\n",
       "      <th>2012-03-01</th>\n",
       "      <td>279000</td>\n",
       "      <td>20817</td>\n",
       "      <td>258183</td>\n",
       "    </tr>\n",
       "    <tr>\n",
       "      <th>2012-04-01</th>\n",
       "      <td>232000</td>\n",
       "      <td>12872</td>\n",
       "      <td>219128</td>\n",
       "    </tr>\n",
       "    <tr>\n",
       "      <th>2012-05-01</th>\n",
       "      <td>286000</td>\n",
       "      <td>19167</td>\n",
       "      <td>266833</td>\n",
       "    </tr>\n",
       "    <tr>\n",
       "      <th>...</th>\n",
       "      <td>...</td>\n",
       "      <td>...</td>\n",
       "      <td>...</td>\n",
       "    </tr>\n",
       "    <tr>\n",
       "      <th>2018-03-01</th>\n",
       "      <td>443326</td>\n",
       "      <td>221536</td>\n",
       "      <td>221790</td>\n",
       "    </tr>\n",
       "    <tr>\n",
       "      <th>2018-04-01</th>\n",
       "      <td>446530</td>\n",
       "      <td>266409</td>\n",
       "      <td>180121</td>\n",
       "    </tr>\n",
       "    <tr>\n",
       "      <th>2018-05-01</th>\n",
       "      <td>464753</td>\n",
       "      <td>320163</td>\n",
       "      <td>144590</td>\n",
       "    </tr>\n",
       "    <tr>\n",
       "      <th>2018-06-01</th>\n",
       "      <td>455194</td>\n",
       "      <td>348591</td>\n",
       "      <td>106603</td>\n",
       "    </tr>\n",
       "    <tr>\n",
       "      <th>2018-07-01</th>\n",
       "      <td>442406</td>\n",
       "      <td>299457</td>\n",
       "      <td>142949</td>\n",
       "    </tr>\n",
       "  </tbody>\n",
       "</table>\n",
       "<p>79 rows × 3 columns</p>\n",
       "</div>"
      ],
      "text/plain": [
       "            total_switches  supplier_switches  tariff_switches\n",
       "Month                                                         \n",
       "2012-01-01          210000              22337           187663\n",
       "2012-02-01          257000              29128           227872\n",
       "2012-03-01          279000              20817           258183\n",
       "2012-04-01          232000              12872           219128\n",
       "2012-05-01          286000              19167           266833\n",
       "...                    ...                ...              ...\n",
       "2018-03-01          443326             221536           221790\n",
       "2018-04-01          446530             266409           180121\n",
       "2018-05-01          464753             320163           144590\n",
       "2018-06-01          455194             348591           106603\n",
       "2018-07-01          442406             299457           142949\n",
       "\n",
       "[79 rows x 3 columns]"
      ]
     },
     "execution_count": 107,
     "metadata": {},
     "output_type": "execute_result"
    }
   ],
   "source": [
    "electricity_switches = electricity_switches.rename(columns={\n",
    "                                        \"Total electricity switches (both switching tariff and/or switching supplier)\": \"total_switches\", \n",
    "                                        \"Total electricity switches to different suppliers\": \"supplier_switches\"\n",
    "                                        })\n",
    "\n",
    "electricity_switches['tariff_switches'] = electricity_switches.total_switches-electricity_switches.supplier_switches\n",
    "\n",
    "electricity_switches_monthly_df = electricity_switches.set_index('Month', drop=True, inplace=False)\n",
    "electricity_switches_monthly_df"
   ]
  },
  {
   "cell_type": "markdown",
   "id": "chinese-jefferson",
   "metadata": {},
   "source": [
    "## 2. Plot of trends"
   ]
  },
  {
   "cell_type": "code",
   "execution_count": 125,
   "id": "injured-brave",
   "metadata": {},
   "outputs": [
    {
     "data": {
      "text/plain": [
       "<AxesSubplot: xlabel='Month'>"
      ]
     },
     "execution_count": 125,
     "metadata": {},
     "output_type": "execute_result"
    },
    {
     "data": {
      "image/png": "[encoded data removed]",
      "text/plain": [
       "<Figure size 432x288 with 1 Axes>"
      ]
     },
     "metadata": {},
     "output_type": "display_data"
    }
   ],
   "source": [
    "sns.lineplot(electricity_switches_monthly_df)"
   ]
  },
  {
   "cell_type": "code",
   "execution_count": 109,
   "id": "incoming-injury",
   "metadata": {},
   "outputs": [
    {
     "data": {
      "text/html": [
       "<div>\n",
       "<style scoped>\n",
       "    .dataframe tbody tr th:only-of-type {\n",
       "        vertical-align: middle;\n",
       "    }\n",
       "\n",
       "    .dataframe tbody tr th {\n",
       "        vertical-align: top;\n",
       "    }\n",
       "\n",
       "    .dataframe thead th {\n",
       "        text-align: right;\n",
       "    }\n",
       "</style>\n",
       "<table border=\"1\" class=\"dataframe\">\n",
       "  <thead>\n",
       "    <tr style=\"text-align: right;\">\n",
       "      <th></th>\n",
       "      <th>total_switches</th>\n",
       "    </tr>\n",
       "    <tr>\n",
       "      <th>Month</th>\n",
       "      <th></th>\n",
       "    </tr>\n",
       "  </thead>\n",
       "  <tbody>\n",
       "    <tr>\n",
       "      <th>2012-01-01</th>\n",
       "      <td>210000</td>\n",
       "    </tr>\n",
       "    <tr>\n",
       "      <th>2012-02-01</th>\n",
       "      <td>257000</td>\n",
       "    </tr>\n",
       "    <tr>\n",
       "      <th>2012-03-01</th>\n",
       "      <td>279000</td>\n",
       "    </tr>\n",
       "    <tr>\n",
       "      <th>2012-04-01</th>\n",
       "      <td>232000</td>\n",
       "    </tr>\n",
       "    <tr>\n",
       "      <th>2012-05-01</th>\n",
       "      <td>286000</td>\n",
       "    </tr>\n",
       "  </tbody>\n",
       "</table>\n",
       "</div>"
      ],
      "text/plain": [
       "            total_switches\n",
       "Month                     \n",
       "2012-01-01          210000\n",
       "2012-02-01          257000\n",
       "2012-03-01          279000\n",
       "2012-04-01          232000\n",
       "2012-05-01          286000"
      ]
     },
     "execution_count": 109,
     "metadata": {},
     "output_type": "execute_result"
    }
   ],
   "source": [
    "total_switches_monthly_df = electricity_switches_monthly_df[['total_switches']]\n",
    "total_switches_monthly_df.head()"
   ]
  },
  {
   "cell_type": "markdown",
   "id": "honest-tokyo",
   "metadata": {},
   "source": [
    "## 3. Assumptions check \n",
    "### 3.1 Stationarity\n",
    "\n",
    "Stationarity is a key part of time series analysis. Simply put, stationarity means that the manner in which time series data changes is constant. A stationary time series will not have any trends or seasonal patterns. One should check for stationarity because it not only makes modeling time series easier, but it is an underlying assumption in many time series methods. Specifically, stationarity is assumed for a wide variety of time series forecasting methods including autoregressive moving average (ARMA), ARIMA and Seasonal ARIMA (SARIMA).\n",
    "\n",
    "The Dickey Fuller test checks for stationarity, ie Ho= Data is stationary. This test will generate critical values and a p-value, which allows to reject or not-reject the null hypothesis that there is no stationarity. Fail to reject the null hypothesis, means there is not enough evidence to state that the data is not stationarity (meaning statitionarity is likely present)."
   ]
  },
  {
   "cell_type": "code",
   "execution_count": 110,
   "id": "great-taxation",
   "metadata": {},
   "outputs": [],
   "source": [
    "plot_df = total_switches_monthly_df.assign(\n",
    "    rolling_mean=total_switches_monthly_df.total_switches.rolling(7).mean(),\n",
    "    rolling_std=total_switches_monthly_df.total_switches.rolling(7).std()\n",
    ")"
   ]
  },
  {
   "cell_type": "code",
   "execution_count": 98,
   "id": "unauthorized-gallery",
   "metadata": {},
   "outputs": [
    {
     "data": {
      "text/html": [
       "<div>\n",
       "<style scoped>\n",
       "    .dataframe tbody tr th:only-of-type {\n",
       "        vertical-align: middle;\n",
       "    }\n",
       "\n",
       "    .dataframe tbody tr th {\n",
       "        vertical-align: top;\n",
       "    }\n",
       "\n",
       "    .dataframe thead th {\n",
       "        text-align: right;\n",
       "    }\n",
       "</style>\n",
       "<table border=\"1\" class=\"dataframe\">\n",
       "  <thead>\n",
       "    <tr style=\"text-align: right;\">\n",
       "      <th></th>\n",
       "      <th>total_switches</th>\n",
       "      <th>rolling_mean</th>\n",
       "      <th>rolling_std</th>\n",
       "    </tr>\n",
       "    <tr>\n",
       "      <th>Month</th>\n",
       "      <th></th>\n",
       "      <th></th>\n",
       "      <th></th>\n",
       "    </tr>\n",
       "  </thead>\n",
       "  <tbody>\n",
       "    <tr>\n",
       "      <th>2012-01-01</th>\n",
       "      <td>210000</td>\n",
       "      <td>NaN</td>\n",
       "      <td>NaN</td>\n",
       "    </tr>\n",
       "    <tr>\n",
       "      <th>2012-02-01</th>\n",
       "      <td>257000</td>\n",
       "      <td>NaN</td>\n",
       "      <td>NaN</td>\n",
       "    </tr>\n",
       "    <tr>\n",
       "      <th>2012-03-01</th>\n",
       "      <td>279000</td>\n",
       "      <td>NaN</td>\n",
       "      <td>NaN</td>\n",
       "    </tr>\n",
       "    <tr>\n",
       "      <th>2012-04-01</th>\n",
       "      <td>232000</td>\n",
       "      <td>NaN</td>\n",
       "      <td>NaN</td>\n",
       "    </tr>\n",
       "    <tr>\n",
       "      <th>2012-05-01</th>\n",
       "      <td>286000</td>\n",
       "      <td>NaN</td>\n",
       "      <td>NaN</td>\n",
       "    </tr>\n",
       "    <tr>\n",
       "      <th>2012-06-01</th>\n",
       "      <td>272000</td>\n",
       "      <td>NaN</td>\n",
       "      <td>NaN</td>\n",
       "    </tr>\n",
       "    <tr>\n",
       "      <th>2012-07-01</th>\n",
       "      <td>257000</td>\n",
       "      <td>256142.857143</td>\n",
       "      <td>27014.987022</td>\n",
       "    </tr>\n",
       "    <tr>\n",
       "      <th>2012-08-01</th>\n",
       "      <td>265000</td>\n",
       "      <td>264000.000000</td>\n",
       "      <td>17776.388835</td>\n",
       "    </tr>\n",
       "    <tr>\n",
       "      <th>2012-09-01</th>\n",
       "      <td>312000</td>\n",
       "      <td>271857.142857</td>\n",
       "      <td>24895.974048</td>\n",
       "    </tr>\n",
       "    <tr>\n",
       "      <th>2012-10-01</th>\n",
       "      <td>366000</td>\n",
       "      <td>284285.714286</td>\n",
       "      <td>43683.384659</td>\n",
       "    </tr>\n",
       "  </tbody>\n",
       "</table>\n",
       "</div>"
      ],
      "text/plain": [
       "            total_switches   rolling_mean   rolling_std\n",
       "Month                                                  \n",
       "2012-01-01          210000            NaN           NaN\n",
       "2012-02-01          257000            NaN           NaN\n",
       "2012-03-01          279000            NaN           NaN\n",
       "2012-04-01          232000            NaN           NaN\n",
       "2012-05-01          286000            NaN           NaN\n",
       "2012-06-01          272000            NaN           NaN\n",
       "2012-07-01          257000  256142.857143  27014.987022\n",
       "2012-08-01          265000  264000.000000  17776.388835\n",
       "2012-09-01          312000  271857.142857  24895.974048\n",
       "2012-10-01          366000  284285.714286  43683.384659"
      ]
     },
     "execution_count": 98,
     "metadata": {},
     "output_type": "execute_result"
    }
   ],
   "source": [
    "plot_df.head(10)"
   ]
  },
  {
   "cell_type": "code",
   "execution_count": 111,
   "id": "handmade-disco",
   "metadata": {},
   "outputs": [
    {
     "data": {
      "text/plain": [
       "<AxesSubplot: xlabel='Month'>"
      ]
     },
     "execution_count": 111,
     "metadata": {},
     "output_type": "execute_result"
    },
    {
     "data": {
      "image/png": "[encoded data removed]",
      "text/plain": [
       "<Figure size 432x288 with 1 Axes>"
      ]
     },
     "metadata": {},
     "output_type": "display_data"
    }
   ],
   "source": [
    "plot_df.plot()"
   ]
  },
  {
   "cell_type": "markdown",
   "id": "underlying-actress",
   "metadata": {},
   "source": [
    "This graph, shows that the 7 months rolling mean smooths out the trend of the total switches and the standard deviation does not change dramatically, except in both cases for data pre 2014 and specifically for the outlier point known (Nov 2013) when new regulation from Ofgem came into place. This is an indication that the data previous to this point should be left out of the analysis as it could mess up with the forecast.  "
   ]
  },
  {
   "cell_type": "code",
   "execution_count": 112,
   "id": "crucial-mexico",
   "metadata": {},
   "outputs": [],
   "source": [
    "from statsmodels.tsa.stattools import adfuller\n",
    "\n",
    "adft = adfuller(total_switches_monthly_df.total_switches,autolag=\"AIC\")"
   ]
  },
  {
   "cell_type": "code",
   "execution_count": 113,
   "id": "racial-calcium",
   "metadata": {},
   "outputs": [
    {
     "name": "stdout",
     "output_type": "stream",
     "text": [
      "      Values                       Metric\n",
      "0   0.765680              Test Statistics\n",
      "1   0.991061                      p-value\n",
      "2  11.000000             No. of lags used\n",
      "3  67.000000  Number of observations used\n",
      "4  -3.531955          critical value (1%)\n",
      "5  -2.905755          critical value (5%)\n",
      "6  -2.590357         critical value (10%)\n"
     ]
    }
   ],
   "source": [
    "output_df = pd.DataFrame({\"Values\":[adft[0],adft[1],adft[2],adft[3], adft[4]['1%'], adft[4]['5%'], adft[4]['10%']], \n",
    "                          \"Metric\":[\"Test Statistics\",\"p-value\",\"No. of lags used\",\"Number of observations used\", \"critical value (1%)\", \"critical value (5%)\", \"critical value (10%)\"]\n",
    "                         })\n",
    "print(output_df)"
   ]
  },
  {
   "cell_type": "markdown",
   "id": "incorporated-thumbnail",
   "metadata": {},
   "source": [
    "This test fails to reject H0, with p-value greater than 5% and the test statistic is greater than the critical values.\n",
    "Meaning there is enouth evidence to state that stationairy is likely present in the data"
   ]
  },
  {
   "cell_type": "markdown",
   "id": "peripheral-panic",
   "metadata": {},
   "source": [
    "### 3.2 Autocorrelation\n",
    "\n",
    "Checking time series data for autocorrelation in Python is another important part of the analytic process. \n",
    "This is a measure of how correlated the time series data is at a given point in time with past values, which has huge implications across many industries. \n",
    "In this case, if the data has strong autocorrelation, it can be assumed that high switching numbers today suggest a strong likelihood that they will be high tomorrow as well."
   ]
  },
  {
   "cell_type": "code",
   "execution_count": 114,
   "id": "combined-casino",
   "metadata": {},
   "outputs": [
    {
     "name": "stdout",
     "output_type": "stream",
     "text": [
      "One Month Lag:  0.6963247075757062\n",
      "Three Month Lag:  0.34691534813975494\n",
      "Six Month Lag:  0.4811617106662385\n",
      "Nine Month Lag:  0.271330374364299\n"
     ]
    }
   ],
   "source": [
    "autocorrelation_lag1 = total_switches_monthly_df.total_switches.autocorr(lag=1)\n",
    "print(\"One Month Lag: \", autocorrelation_lag1)\n",
    "\n",
    "autocorrelation_lag3 = total_switches_monthly_df.total_switches.autocorr(lag=3)\n",
    "print(\"Three Month Lag: \", autocorrelation_lag3)\n",
    "\n",
    "autocorrelation_lag6 = total_switches_monthly_df.total_switches.autocorr(lag=6)\n",
    "print(\"Six Month Lag: \", autocorrelation_lag6)\n",
    "\n",
    "autocorrelation_lag9 = total_switches_monthly_df.total_switches.autocorr(lag=9)\n",
    "print(\"Nine Month Lag: \", autocorrelation_lag9)\n"
   ]
  },
  {
   "cell_type": "markdown",
   "id": "geological-finger",
   "metadata": {},
   "source": [
    "The lags calculated suggest there is enough autocorrelation at one momth lag, 6 month lag might also have enough autocorrelation, but the other lags are not very high.<br>\n",
    "This is important to bear in mind for further analysis or if the data frame changes but as it is now on a monthly basis let's continue with the analysis."
   ]
  },
  {
   "cell_type": "markdown",
   "id": "human-tunnel",
   "metadata": {},
   "source": [
    "### 3.3 Decomposition\n",
    "\n",
    "Trend decomposition is another useful way to visualize the trends in time series data"
   ]
  },
  {
   "cell_type": "code",
   "execution_count": 115,
   "id": "loaded-trial",
   "metadata": {},
   "outputs": [],
   "source": [
    "from statsmodels.tsa.seasonal import seasonal_decompose"
   ]
  },
  {
   "cell_type": "code",
   "execution_count": 116,
   "id": "freelance-consistency",
   "metadata": {},
   "outputs": [
    {
     "data": {
      "image/png": "[encoded data removed]",
      "text/plain": [
       "<Figure size 432x288 with 4 Axes>"
      ]
     },
     "metadata": {},
     "output_type": "display_data"
    }
   ],
   "source": [
    "decompose = seasonal_decompose(total_switches_monthly_df.total_switches,model='additive', period=7)\n",
    "decompose.plot()\n",
    "plt.show()"
   ]
  },
  {
   "cell_type": "markdown",
   "id": "grateful-session",
   "metadata": {},
   "source": [
    "From this plot, we can see the increasing trend in the number of switches from 2015 onwards and the seasonality patterns in the rise and fall in values each year."
   ]
  },
  {
   "cell_type": "markdown",
   "id": "geological-recipe",
   "metadata": {},
   "source": [
    "## 4.Forecasting\n",
    "\n",
    "This section focus on the split of the data into train and test and on the use of the arima module from the library pmdarima.arima for the forecast"
   ]
  },
  {
   "cell_type": "code",
   "execution_count": 117,
   "id": "hybrid-roots",
   "metadata": {},
   "outputs": [
    {
     "data": {
      "text/html": [
       "<div>\n",
       "<style scoped>\n",
       "    .dataframe tbody tr th:only-of-type {\n",
       "        vertical-align: middle;\n",
       "    }\n",
       "\n",
       "    .dataframe tbody tr th {\n",
       "        vertical-align: top;\n",
       "    }\n",
       "\n",
       "    .dataframe thead th {\n",
       "        text-align: right;\n",
       "    }\n",
       "</style>\n",
       "<table border=\"1\" class=\"dataframe\">\n",
       "  <thead>\n",
       "    <tr style=\"text-align: right;\">\n",
       "      <th></th>\n",
       "      <th>total_switches</th>\n",
       "    </tr>\n",
       "    <tr>\n",
       "      <th>Month</th>\n",
       "      <th></th>\n",
       "    </tr>\n",
       "  </thead>\n",
       "  <tbody>\n",
       "    <tr>\n",
       "      <th>2017-10-01</th>\n",
       "      <td>534746</td>\n",
       "    </tr>\n",
       "    <tr>\n",
       "      <th>2017-11-01</th>\n",
       "      <td>440757</td>\n",
       "    </tr>\n",
       "    <tr>\n",
       "      <th>2017-12-01</th>\n",
       "      <td>385060</td>\n",
       "    </tr>\n",
       "    <tr>\n",
       "      <th>2018-01-01</th>\n",
       "      <td>321560</td>\n",
       "    </tr>\n",
       "    <tr>\n",
       "      <th>2018-02-01</th>\n",
       "      <td>425147</td>\n",
       "    </tr>\n",
       "    <tr>\n",
       "      <th>2018-03-01</th>\n",
       "      <td>443326</td>\n",
       "    </tr>\n",
       "    <tr>\n",
       "      <th>2018-04-01</th>\n",
       "      <td>446530</td>\n",
       "    </tr>\n",
       "    <tr>\n",
       "      <th>2018-05-01</th>\n",
       "      <td>464753</td>\n",
       "    </tr>\n",
       "    <tr>\n",
       "      <th>2018-06-01</th>\n",
       "      <td>455194</td>\n",
       "    </tr>\n",
       "    <tr>\n",
       "      <th>2018-07-01</th>\n",
       "      <td>442406</td>\n",
       "    </tr>\n",
       "  </tbody>\n",
       "</table>\n",
       "</div>"
      ],
      "text/plain": [
       "            total_switches\n",
       "Month                     \n",
       "2017-10-01          534746\n",
       "2017-11-01          440757\n",
       "2017-12-01          385060\n",
       "2018-01-01          321560\n",
       "2018-02-01          425147\n",
       "2018-03-01          443326\n",
       "2018-04-01          446530\n",
       "2018-05-01          464753\n",
       "2018-06-01          455194\n",
       "2018-07-01          442406"
      ]
     },
     "execution_count": 117,
     "metadata": {},
     "output_type": "execute_result"
    }
   ],
   "source": [
    "total_switches_monthly_df.tail(10)"
   ]
  },
  {
   "cell_type": "markdown",
   "id": "instructional-accreditation",
   "metadata": {},
   "source": [
    "### 4.1 Train and test split"
   ]
  },
  {
   "cell_type": "code",
   "execution_count": 118,
   "id": "animal-sudan",
   "metadata": {},
   "outputs": [],
   "source": [
    "before_2017 = total_switches_monthly_df.index < pd.Timestamp(\"2017-01-01\")\n",
    "ge_2014 = total_switches_monthly_df.index >= pd.Timestamp(\"2014-01-01\")\n",
    "train = total_switches_monthly_df.loc[before_2017 & ge_2014]\n",
    "test = total_switches_monthly_df.loc[~before_2017]\n",
    "#train, test"
   ]
  },
  {
   "cell_type": "code",
   "execution_count": 119,
   "id": "killing-delivery",
   "metadata": {},
   "outputs": [
    {
     "data": {
      "image/png": "[encoded data removed]",
      "text/plain": [
       "<Figure size 432x288 with 1 Axes>"
      ]
     },
     "metadata": {},
     "output_type": "display_data"
    }
   ],
   "source": [
    "plt.plot(train, color = \"black\")\n",
    "plt.plot(test, color = \"red\")\n",
    "plt.title(\"Train/Test split for Switch Data\")\n",
    "sns.set()\n",
    "plt.show()"
   ]
  },
  {
   "cell_type": "markdown",
   "id": "persistent-simon",
   "metadata": {},
   "source": [
    "### 4.2 Using auto-arima method"
   ]
  },
  {
   "cell_type": "code",
   "execution_count": 120,
   "id": "southwest-benefit",
   "metadata": {},
   "outputs": [],
   "source": [
    "from pmdarima.arima import auto_arima\n",
    "model = auto_arima(\n",
    "    train,\n",
    "    start_p=0,\n",
    "    max_p=5, \n",
    "    start_q=0,\n",
    "    max_q=5,\n",
    "    d=1,\n",
    "    max_d=5,\n",
    "    start_P=1,\n",
    "    max_P=5, \n",
    "    start_Q=1,\n",
    "    max_Q=5, \n",
    "    D=1, \n",
    "    max_D=5,\n",
    "    # The period for seasonal differencing, m refers to the number of periods in each season. \n",
    "    # For example, m is 4 for quarterly data, 12 for monthly data, or 1 for annual (non-seasonal) data.\n",
    "    m=12,\n",
    "    random_state=1337,\n",
    "    n_fits=50\n",
    ")\n",
    "model.fit(train)\n",
    "forecast = model.predict(n_periods=len(test))\n",
    "forecast = pd.DataFrame(forecast,index = test.index,columns=['Prediction'])"
   ]
  },
  {
   "cell_type": "code",
   "execution_count": 121,
   "id": "coordinated-agreement",
   "metadata": {},
   "outputs": [
    {
     "data": {
      "text/html": [
       "<div>\n",
       "<style scoped>\n",
       "    .dataframe tbody tr th:only-of-type {\n",
       "        vertical-align: middle;\n",
       "    }\n",
       "\n",
       "    .dataframe tbody tr th {\n",
       "        vertical-align: top;\n",
       "    }\n",
       "\n",
       "    .dataframe thead th {\n",
       "        text-align: right;\n",
       "    }\n",
       "</style>\n",
       "<table border=\"1\" class=\"dataframe\">\n",
       "  <thead>\n",
       "    <tr style=\"text-align: right;\">\n",
       "      <th></th>\n",
       "      <th>Prediction</th>\n",
       "    </tr>\n",
       "    <tr>\n",
       "      <th>Month</th>\n",
       "      <th></th>\n",
       "    </tr>\n",
       "  </thead>\n",
       "  <tbody>\n",
       "    <tr>\n",
       "      <th>2017-01-01</th>\n",
       "      <td>231630.918036</td>\n",
       "    </tr>\n",
       "    <tr>\n",
       "      <th>2017-02-01</th>\n",
       "      <td>397769.221407</td>\n",
       "    </tr>\n",
       "    <tr>\n",
       "      <th>2017-03-01</th>\n",
       "      <td>487813.301163</td>\n",
       "    </tr>\n",
       "    <tr>\n",
       "      <th>2017-04-01</th>\n",
       "      <td>387417.209509</td>\n",
       "    </tr>\n",
       "    <tr>\n",
       "      <th>2017-05-01</th>\n",
       "      <td>342491.766987</td>\n",
       "    </tr>\n",
       "    <tr>\n",
       "      <th>2017-06-01</th>\n",
       "      <td>338974.759402</td>\n",
       "    </tr>\n",
       "    <tr>\n",
       "      <th>2017-07-01</th>\n",
       "      <td>304530.898346</td>\n",
       "    </tr>\n",
       "    <tr>\n",
       "      <th>2017-08-01</th>\n",
       "      <td>314610.505806</td>\n",
       "    </tr>\n",
       "    <tr>\n",
       "      <th>2017-09-01</th>\n",
       "      <td>342386.935258</td>\n",
       "    </tr>\n",
       "    <tr>\n",
       "      <th>2017-10-01</th>\n",
       "      <td>494523.217402</td>\n",
       "    </tr>\n",
       "    <tr>\n",
       "      <th>2017-11-01</th>\n",
       "      <td>406996.350892</td>\n",
       "    </tr>\n",
       "    <tr>\n",
       "      <th>2017-12-01</th>\n",
       "      <td>427373.475552</td>\n",
       "    </tr>\n",
       "    <tr>\n",
       "      <th>2018-01-01</th>\n",
       "      <td>227502.130983</td>\n",
       "    </tr>\n",
       "    <tr>\n",
       "      <th>2018-02-01</th>\n",
       "      <td>406018.486111</td>\n",
       "    </tr>\n",
       "    <tr>\n",
       "      <th>2018-03-01</th>\n",
       "      <td>483089.376324</td>\n",
       "    </tr>\n",
       "    <tr>\n",
       "      <th>2018-04-01</th>\n",
       "      <td>401345.973056</td>\n",
       "    </tr>\n",
       "    <tr>\n",
       "      <th>2018-05-01</th>\n",
       "      <td>356463.209724</td>\n",
       "    </tr>\n",
       "    <tr>\n",
       "      <th>2018-06-01</th>\n",
       "      <td>356939.206356</td>\n",
       "    </tr>\n",
       "    <tr>\n",
       "      <th>2018-07-01</th>\n",
       "      <td>303485.319766</td>\n",
       "    </tr>\n",
       "  </tbody>\n",
       "</table>\n",
       "</div>"
      ],
      "text/plain": [
       "               Prediction\n",
       "Month                    \n",
       "2017-01-01  231630.918036\n",
       "2017-02-01  397769.221407\n",
       "2017-03-01  487813.301163\n",
       "2017-04-01  387417.209509\n",
       "2017-05-01  342491.766987\n",
       "2017-06-01  338974.759402\n",
       "2017-07-01  304530.898346\n",
       "2017-08-01  314610.505806\n",
       "2017-09-01  342386.935258\n",
       "2017-10-01  494523.217402\n",
       "2017-11-01  406996.350892\n",
       "2017-12-01  427373.475552\n",
       "2018-01-01  227502.130983\n",
       "2018-02-01  406018.486111\n",
       "2018-03-01  483089.376324\n",
       "2018-04-01  401345.973056\n",
       "2018-05-01  356463.209724\n",
       "2018-06-01  356939.206356\n",
       "2018-07-01  303485.319766"
      ]
     },
     "execution_count": 121,
     "metadata": {},
     "output_type": "execute_result"
    }
   ],
   "source": [
    "forecast"
   ]
  },
  {
   "cell_type": "markdown",
   "id": "clinical-treasure",
   "metadata": {},
   "source": [
    "### 4.3 Forecast plot and RSME calculation"
   ]
  },
  {
   "cell_type": "code",
   "execution_count": 122,
   "id": "greenhouse-pharmaceutical",
   "metadata": {},
   "outputs": [
    {
     "data": {
      "text/plain": [
       "<AxesSubplot: xlabel='Month'>"
      ]
     },
     "execution_count": 122,
     "metadata": {},
     "output_type": "execute_result"
    },
    {
     "data": {
      "image/png": "[encoded data removed]",
      "text/plain": [
       "<Figure size 432x288 with 1 Axes>"
      ]
     },
     "metadata": {},
     "output_type": "display_data"
    }
   ],
   "source": [
    "pd.concat([\n",
    "    train,\n",
    "    test,\n",
    "    forecast\n",
    "], axis=\"columns\").plot()"
   ]
  },
  {
   "cell_type": "code",
   "execution_count": 123,
   "id": "innovative-british",
   "metadata": {},
   "outputs": [
    {
     "name": "stdout",
     "output_type": "stream",
     "text": [
      "RMSE:  79769.68654296904\n"
     ]
    }
   ],
   "source": [
    "from math import sqrt\n",
    "from sklearn.metrics import mean_squared_error\n",
    "rms = sqrt(mean_squared_error(test,forecast))\n",
    "print(\"RMSE: \", rms)"
   ]
  },
  {
   "cell_type": "markdown",
   "id": "substantial-westminster",
   "metadata": {},
   "source": [
    "The forecast shows a very similar prediction to the one that actually happened, with the estimation even being on the pessimistic side which in general is good practice to do (depending on the industry).<br>\n",
    "The predictions' error overal is 79,769 swtiches."
   ]
  },
  {
   "cell_type": "markdown",
   "id": "gentle-bonus",
   "metadata": {},
   "source": [
    "## 5. Further steps\n",
    "\n",
    "- Modify code to create pipeline so that the other 2 variables can be used for forecasting wihtout modifying the entirity of the code and things run smoothly.\n",
    "- Compare the new results of the tariff and supplier switchers with the total swtichers findings.\n",
    "- Investigate the library a but more on detail.\n",
    "- Found formal academic source for the arima procedure.\n",
    "- Calculate confidence intervals for estiamtion error and find more error measure methods."
   ]
  },
  {
   "cell_type": "code",
   "execution_count": null,
   "id": "maritime-latitude",
   "metadata": {},
   "outputs": [],
   "source": []
  }
 ],
 "metadata": {
  "kernelspec": {
   "display_name": "Python 3",
   "language": "python",
   "name": "python3"
  },
  "language_info": {
   "codemirror_mode": {
    "name": "ipython",
    "version": 3
   },
   "file_extension": ".py",
   "mimetype": "text/x-python",
   "name": "python",
   "nbconvert_exporter": "python",
   "pygments_lexer": "ipython3",
   "version": "3.9.2"
  }
 },
 "nbformat": 4,
 "nbformat_minor": 5
}
